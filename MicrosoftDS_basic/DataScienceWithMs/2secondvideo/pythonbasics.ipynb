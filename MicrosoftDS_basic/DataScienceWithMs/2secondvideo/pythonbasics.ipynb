{
 "cells": [
  {
   "cell_type": "code",
   "execution_count": 7,
   "metadata": {},
   "outputs": [
    {
     "name": "stdout",
     "output_type": "stream",
     "text": [
      "hello world\n"
     ]
    }
   ],
   "source": [
    "# output:\n",
    "print(\"hello world\")"
   ]
  },
  {
   "cell_type": "code",
   "execution_count": 8,
   "metadata": {},
   "outputs": [],
   "source": [
    "# input\n",
    "name = input('Please enter your name  :')\n",
    "print(name)\n"
   ]
  },
  {
   "cell_type": "code",
   "execution_count": null,
   "metadata": {},
   "outputs": [
    {
     "name": "stdout",
     "output_type": "stream",
     "text": [
      "<class 'int'>\n",
      "<class 'float'>\n",
      "<class 'complex'>\n"
     ]
    }
   ],
   "source": [
    "# Data Tyoes:\n",
    "# numbers\n",
    "# strings\n",
    "# Booleans\n",
    "\n",
    "# Numbers\n",
    "print(type(12))\n",
    "print(type(3.5))\n",
    "print(type(3+5j))"
   ]
  },
  {
   "cell_type": "code",
   "execution_count": null,
   "metadata": {},
   "outputs": [
    {
     "name": "stdout",
     "output_type": "stream",
     "text": [
      "<class 'str'>\n",
      "<class 'str'>\n"
     ]
    }
   ],
   "source": [
    "# Strings\n",
    "print(type(\"hai\")) \n",
    "print(type('hai'))"
   ]
  },
  {
   "cell_type": "code",
   "execution_count": null,
   "metadata": {},
   "outputs": [
    {
     "name": "stdout",
     "output_type": "stream",
     "text": [
      "<class 'bool'>\n",
      "<class 'bool'>\n"
     ]
    }
   ],
   "source": [
    "# Booleans\n",
    "\n",
    "print(type(True))\n",
    "print(type(False))"
   ]
  },
  {
   "cell_type": "code",
   "execution_count": null,
   "metadata": {},
   "outputs": [
    {
     "name": "stdout",
     "output_type": "stream",
     "text": [
      "John john JOHN\n"
     ]
    }
   ],
   "source": [
    "# Variables\n",
    "# variable is a vlaue assigned to a string that can change.\n",
    "name = \"John\"\n",
    "_name = \"john\"\n",
    "Name = \"JOHN\"\n",
    "print(name, _name, Name)"
   ]
  },
  {
   "cell_type": "code",
   "execution_count": 1,
   "metadata": {},
   "outputs": [
    {
     "name": "stdout",
     "output_type": "stream",
     "text": [
      "<class 'list'>\n",
      "John <class 'str'>\n",
      "23 <class 'int'>\n",
      "True <class 'bool'>\n",
      "3.4 <class 'float'>\n"
     ]
    }
   ],
   "source": [
    "# List\n",
    "\n",
    "profile  = [\"John\", 23, True, 3.4 ]\n",
    "\n",
    "print(type(profile))\n",
    "\n",
    "for i in profile:\n",
    "    print(i, type(i))\n",
    "    "
   ]
  },
  {
   "cell_type": "code",
   "execution_count": 6,
   "metadata": {},
   "outputs": [
    {
     "name": "stdout",
     "output_type": "stream",
     "text": [
      "<class 'dict'>\n",
      "{'name': 'john', 'age': 18, 'student': True} None\n",
      "john 18\n"
     ]
    },
    {
     "data": {
      "text/plain": [
       "<function print(*args, sep=' ', end='\\n', file=None, flush=False)>"
      ]
     },
     "execution_count": 6,
     "metadata": {},
     "output_type": "execute_result"
    }
   ],
   "source": [
    "# Dictionary -= a Key  and aits value. \n",
    "\n",
    "Profile = {\"name\": \"john\", \"age\": 18, \"student\": True}\n",
    "\n",
    "print(Profile, print(type(Profile)))\n",
    "print(Profile[\"name\"], Profile[\"age\"])\n",
    "print"
   ]
  },
  {
   "cell_type": "code",
   "execution_count": 5,
   "metadata": {},
   "outputs": [
    {
     "name": "stdout",
     "output_type": "stream",
     "text": [
      "('John', 18, True) <class 'tuple'>\n"
     ]
    }
   ],
   "source": [
    "# Tuple  - are basically lists but cannot be modified.\n",
    "\n",
    "PROfile = (\"John\", 18, True)\n",
    "print(PROfile, type(PROfile))\n",
    "\n",
    " "
   ]
  },
  {
   "cell_type": "code",
   "execution_count": 11,
   "metadata": {},
   "outputs": [
    {
     "name": "stdout",
     "output_type": "stream",
     "text": [
      "{112, 114, 115}\n"
     ]
    }
   ],
   "source": [
    "# set are nothing but list , it cannot be having duplicates.\n",
    "\n",
    "# hence it is ordered it cannot be indexed.\n",
    "\n",
    "PRofile_set =  {112, 114, 115, 112}\n",
    "print(PRofile_set)\n",
    "\n",
    "# lsit1 = ['John', 'Simon', 'Kavitha', 'john', 'John', \"Simon\"]\n",
    "# print(lsit1, type(lsit1))\n",
    "# list_set = {lsit1}\n",
    "# print(list_set, type(list_set))\n"
   ]
  },
  {
   "cell_type": "code",
   "execution_count": 1,
   "metadata": {},
   "outputs": [
    {
     "name": "stdout",
     "output_type": "stream",
     "text": [
      "{112, 114, 115} <class 'set'>\n",
      "['john', 35, True, 12, 12, 12] <class 'list'>\n",
      "{'john', 35, 12, True} <class 'set'>\n",
      "john  is added to the set\n",
      "35  is added to the set\n",
      "True  is added to the set\n",
      "12  is added to the set\n",
      "12  is added to the set\n",
      "12  is added to the set\n",
      "{'john', 35, 12, True} <class 'set'>\n",
      "{'john', 35, 12, True} <class 'set'>\n"
     ]
    }
   ],
   "source": [
    "PRofile_set =  {112, 114, 115, 112}\n",
    "print(PRofile_set, type(PRofile_set))\n",
    "\n",
    "list1 = ['john', 35, True, 12, 12 , 12]\n",
    "print(list1, type(list1))\n",
    "\n",
    "sampleset = set(list1)\n",
    "print(sampleset, type(sampleset))\n",
    "\n",
    "#using the add() method\n",
    "sampleset = set()\n",
    "for i in list1:\n",
    "    sampleset.add(i)\n",
    "    print(i, \" is added to the set\")\n",
    "\n",
    "print(sampleset, type(sampleset))\n",
    "\n",
    "# using set comprehension method.\n",
    "\n",
    "set_12 = {x for x in list1}\n",
    "print(set_12, type(set_12))\n",
    "\n",
    "# using dict.fromkey().\n",
    "\n",
    "# print(list1)\n",
    "# set13 = list[dict.fromkeys(list1)]\n",
    "# converted_set = set(set13)\n",
    "# print(converted_set) "
   ]
  },
  {
   "cell_type": "code",
   "execution_count": 12,
   "metadata": {},
   "outputs": [
    {
     "name": "stdout",
     "output_type": "stream",
     "text": [
      "list [1, 2, 2, 3, 3, 3, 4, 4, 4, 4, 5, 5, 5, 5, 5, 6, 6, 6, 6, 6, 6] <class 'list'>\n",
      "{1, 2, 3, 4, 5, 6} <class 'set'>\n",
      "1 has been added to the set\n",
      "2 has been added to the set\n",
      "2 has been added to the set\n",
      "3 has been added to the set\n",
      "3 has been added to the set\n",
      "3 has been added to the set\n",
      "4 has been added to the set\n",
      "4 has been added to the set\n",
      "4 has been added to the set\n",
      "4 has been added to the set\n",
      "5 has been added to the set\n",
      "5 has been added to the set\n",
      "5 has been added to the set\n",
      "5 has been added to the set\n",
      "5 has been added to the set\n",
      "6 has been added to the set\n",
      "6 has been added to the set\n",
      "6 has been added to the set\n",
      "6 has been added to the set\n",
      "6 has been added to the set\n",
      "6 has been added to the set\n",
      "{1, 2, 3, 4, 5, 6} <class 'set'>\n",
      "{1, 2, 3, 4, 5, 6} <class 'set'> using list comprehension.\n"
     ]
    }
   ],
   "source": [
    "# set\n",
    "\n",
    "# How to convert a list to set\n",
    "# 1) using set() function\n",
    "list2 = [1,2,2,3,3,3,4,4,4,4,5,5,5,5,5,6,6,6,6,6,6]\n",
    "set14 = set(list2)\n",
    "print(\"list\", list2, type(list2))\n",
    "print(set14, type(set14))\n",
    "\n",
    "# 2) using the for loop \n",
    "loopset = set()\n",
    "for num in list2:\n",
    "    loopset.add(num)\n",
    "    print(num ,\"has been added to the set\")\n",
    "print(loopset, type(loopset))\n",
    "\n",
    "# 3)using set comprehension to convert a list to set.\n",
    "\n",
    "listset = {s for s in [1,2,2,3,3,3,4,4,4,4,5,5,5,5,5,6,6,6,6,6,6]}\n",
    "print(listset, type(listset), \"using list comprehension.\")\n"
   ]
  },
  {
   "cell_type": "code",
   "execution_count": null,
   "metadata": {},
   "outputs": [
    {
     "name": "stdout",
     "output_type": "stream",
     "text": [
      "{1, 2, 3, 'seeker', 7.5}\n"
     ]
    }
   ],
   "source": [
    "# Method 4- Using dict.fromkey()\n",
    "#  a is defined list\n",
    "\n",
    "a = [1,2,3,'seeker',3,7.5]\n",
    "\n",
    "# Using dict.fromkeys() method\n",
    "x = list(dict.fromkeys(a))\n",
    "converted_set = set(x)\n",
    "print(converted_set)"
   ]
  },
  {
   "cell_type": "code",
   "execution_count": 7,
   "metadata": {},
   "outputs": [
    {
     "name": "stdout",
     "output_type": "stream",
     "text": [
      "9\n",
      "1\n",
      "20\n",
      "1.25\n",
      "625 2 1\n"
     ]
    }
   ],
   "source": [
    "# operators\n",
    "\n",
    "\n",
    "# Assignment operators\n",
    "\n",
    "# ==, +=, -=\n",
    "\n",
    "# Arithmetic operators\n",
    "\n",
    "# add +,\n",
    "# subtract - ,\n",
    "# multiply *,\n",
    "# divide /,\n",
    "# power **, \n",
    "# floor division //,\n",
    "# modulus %\n",
    "\n",
    "add = 5+4\n",
    "sub = 5-4\n",
    "c = 5*4\n",
    "d = 5/4\n",
    "e = 5**4\n",
    "f = 6%4\n",
    "g = 6//4\n",
    "# print(a,b,c,d,e,f, g)\n",
    "print(add)\n",
    "print(sub)\n",
    "print(c)\n",
    "print(d)\n",
    "print(e,f, g)"
   ]
  },
  {
   "cell_type": "code",
   "execution_count": null,
   "metadata": {},
   "outputs": [],
   "source": [
    "# comparision operators \n",
    "# >, < , >-, <=, == "
   ]
  },
  {
   "cell_type": "code",
   "execution_count": 9,
   "metadata": {},
   "outputs": [
    {
     "name": "stdout",
     "output_type": "stream",
     "text": [
      "Var is zero\n"
     ]
    }
   ],
   "source": [
    "# conditional statements\n",
    "\n",
    "# if , elif, else\n",
    "var = 0\n",
    "\n",
    "if var > 0:\n",
    "    print(\"var is positive\")\n",
    "elif var < 0:\n",
    "    print(\"var is negative\")\n",
    "else: \n",
    "    print(\"Var is zero\")\n"
   ]
  },
  {
   "cell_type": "code",
   "execution_count": 12,
   "metadata": {},
   "outputs": [
    {
     "name": "stdout",
     "output_type": "stream",
     "text": [
      "this is while loop.\n"
     ]
    }
   ],
   "source": [
    "# loops\n",
    "\n",
    "# for and while loops\n",
    "\n",
    "var = 5\n",
    "while(var):\n",
    "    print(\"this is while loop.\")\n",
    "    break;\n"
   ]
  },
  {
   "cell_type": "code",
   "execution_count": 13,
   "metadata": {},
   "outputs": [
    {
     "name": "stdout",
     "output_type": "stream",
     "text": [
      "1\n",
      "2\n",
      "3\n",
      "3\n",
      "4\n",
      "5\n",
      "6\n",
      "7\n",
      "8\n",
      "9\n",
      "1\n",
      "2\n",
      "45343\n",
      "32\n",
      "32\n",
      "32\n",
      "454\n"
     ]
    }
   ],
   "source": [
    "# for loop\n",
    "\n",
    "numbers = [1,2,3,3,4,5,6,7,8,9,1,2,45343,32,32,32,454,]\n",
    "for num in numbers:\n",
    "    print(num)"
   ]
  },
  {
   "cell_type": "code",
   "execution_count": 14,
   "metadata": {},
   "outputs": [
    {
     "name": "stdout",
     "output_type": "stream",
     "text": [
      "hello world\n"
     ]
    }
   ],
   "source": [
    "# function \n",
    "\n",
    "def home():\n",
    "    print(\"hello world\")\n",
    "\n",
    "home()"
   ]
  },
  {
   "cell_type": "code",
   "execution_count": null,
   "metadata": {},
   "outputs": [],
   "source": [
    "# Modules"
   ]
  },
  {
   "cell_type": "code",
   "execution_count": null,
   "metadata": {},
   "outputs": [],
   "source": [
    "# rock paper scissors"
   ]
  }
 ],
 "metadata": {
  "kernelspec": {
   "display_name": ".venv",
   "language": "python",
   "name": "python3"
  },
  "language_info": {
   "codemirror_mode": {
    "name": "ipython",
    "version": 3
   },
   "file_extension": ".py",
   "mimetype": "text/x-python",
   "name": "python",
   "nbconvert_exporter": "python",
   "pygments_lexer": "ipython3",
   "version": "3.11.2"
  },
  "orig_nbformat": 4
 },
 "nbformat": 4,
 "nbformat_minor": 2
}
