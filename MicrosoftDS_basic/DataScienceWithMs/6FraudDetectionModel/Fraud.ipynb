{
 "cells": [
  {
   "attachments": {},
   "cell_type": "markdown",
   "metadata": {},
   "source": [
    "Data Sampling."
   ]
  },
  {
   "cell_type": "code",
   "execution_count": 1,
   "metadata": {},
   "outputs": [
    {
     "name": "stdout",
     "output_type": "stream",
     "text": [
      "Hello World\n"
     ]
    }
   ],
   "source": [
    "import pandas as pd\n",
    "\n",
    "print(\"Hello World\") "
   ]
  },
  {
   "attachments": {},
   "cell_type": "markdown",
   "metadata": {},
   "source": [
    "Data pre processing.\n",
    "read_csv() - allow excel(CSV format) to be readable.\n",
    "\n",
    "Read trainset\n",
    "shape - print the rows and columns\n",
    "print row only - shape[0]\n",
    "print column only - shape[1]"
   ]
  },
  {
   "attachments": {},
   "cell_type": "markdown",
   "metadata": {},
   "source": [
    "#Print trainset\n",
    "\n",
    "print(train.shape)"
   ]
  },
  {
   "cell_type": "code",
   "execution_count": 2,
   "metadata": {},
   "outputs": [],
   "source": [
    "train = pd.read_csv(\"/datasciencewithMS/DataScienceWithMs/6FraudDetectionModel/Dataset/fraudTrain.csv/fraudTrain.csv\")\n"
   ]
  },
  {
   "attachments": {},
   "cell_type": "markdown",
   "metadata": {},
   "source": [
    "sample() - sample function allows a subset of defined numbers of data to be selected randomly.\n",
    "random_state - allow the sample data selected to be reproduceable. NB: the no can be any number , just to hold the state. "
   ]
  },
  {
   "cell_type": "code",
   "execution_count": 3,
   "metadata": {},
   "outputs": [],
   "source": [
    "#select 10000 random sample from trainset.\n",
    "sample_train = train.sample(10000, random_state = 42)"
   ]
  },
  {
   "cell_type": "code",
   "execution_count": 4,
   "metadata": {},
   "outputs": [],
   "source": [
    "# reset the randomized sample trainset data index to avoid error for future.\n",
    "sample_train = sample_train.reset_index(drop = True)\n"
   ]
  },
  {
   "attachments": {},
   "cell_type": "markdown",
   "metadata": {},
   "source": [
    "reset_index() - reset_index function reset the unordered index number."
   ]
  },
  {
   "attachments": {},
   "cell_type": "markdown",
   "metadata": {},
   "source": [
    "Print trainset and testset shape(rows and colums)"
   ]
  },
  {
   "cell_type": "code",
   "execution_count": 5,
   "metadata": {},
   "outputs": [
    {
     "name": "stdout",
     "output_type": "stream",
     "text": [
      "(10000, 23) (10000, 23)\n"
     ]
    }
   ],
   "source": [
    "print(sample_train.shape, sample_train.shape)"
   ]
  },
  {
   "cell_type": "code",
   "execution_count": 6,
   "metadata": {},
   "outputs": [
    {
     "name": "stdout",
     "output_type": "stream",
     "text": [
      "<class 'pandas.core.frame.DataFrame'>\n",
      "RangeIndex: 10000 entries, 0 to 9999\n",
      "Data columns (total 23 columns):\n",
      " #   Column                 Non-Null Count  Dtype  \n",
      "---  ------                 --------------  -----  \n",
      " 0   Unnamed: 0             10000 non-null  int64  \n",
      " 1   trans_date_trans_time  10000 non-null  object \n",
      " 2   cc_num                 10000 non-null  int64  \n",
      " 3   merchant               10000 non-null  object \n",
      " 4   category               10000 non-null  object \n",
      " 5   amt                    10000 non-null  float64\n",
      " 6   first                  10000 non-null  object \n",
      " 7   last                   10000 non-null  object \n",
      " 8   gender                 10000 non-null  object \n",
      " 9   street                 10000 non-null  object \n",
      " 10  city                   10000 non-null  object \n",
      " 11  state                  10000 non-null  object \n",
      " 12  zip                    10000 non-null  int64  \n",
      " 13  lat                    10000 non-null  float64\n",
      " 14  long                   10000 non-null  float64\n",
      " 15  city_pop               10000 non-null  int64  \n",
      " 16  job                    10000 non-null  object \n",
      " 17  dob                    10000 non-null  object \n",
      " 18  trans_num              10000 non-null  object \n",
      " 19  unix_time              10000 non-null  int64  \n",
      " 20  merch_lat              10000 non-null  float64\n",
      " 21  merch_long             10000 non-null  float64\n",
      " 22  is_fraud               10000 non-null  int64  \n",
      "dtypes: float64(5), int64(6), object(12)\n",
      "memory usage: 1.8+ MB\n"
     ]
    }
   ],
   "source": [
    "sample_train.info()"
   ]
  },
  {
   "cell_type": "code",
   "execution_count": 7,
   "metadata": {},
   "outputs": [
    {
     "name": "stdout",
     "output_type": "stream",
     "text": [
      "['Unnamed: 0', 'trans_date_trans_time', 'cc_num', 'merchant', 'category', 'amt', 'first', 'last', 'gender', 'street', 'city', 'state', 'zip', 'lat', 'long', 'city_pop', 'job', 'dob', 'trans_num', 'unix_time', 'merch_lat', 'merch_long', 'is_fraud']\n"
     ]
    }
   ],
   "source": [
    "print(sample_train.columns.tolist())"
   ]
  },
  {
   "cell_type": "code",
   "execution_count": 8,
   "metadata": {},
   "outputs": [
    {
     "data": {
      "text/html": [
       "<div>\n",
       "<style scoped>\n",
       "    .dataframe tbody tr th:only-of-type {\n",
       "        vertical-align: middle;\n",
       "    }\n",
       "\n",
       "    .dataframe tbody tr th {\n",
       "        vertical-align: top;\n",
       "    }\n",
       "\n",
       "    .dataframe thead th {\n",
       "        text-align: right;\n",
       "    }\n",
       "</style>\n",
       "<table border=\"1\" class=\"dataframe\">\n",
       "  <thead>\n",
       "    <tr style=\"text-align: right;\">\n",
       "      <th></th>\n",
       "      <th>Unnamed: 0</th>\n",
       "      <th>trans_date_trans_time</th>\n",
       "      <th>cc_num</th>\n",
       "      <th>merchant</th>\n",
       "      <th>category</th>\n",
       "      <th>amt</th>\n",
       "      <th>first</th>\n",
       "      <th>last</th>\n",
       "      <th>gender</th>\n",
       "      <th>street</th>\n",
       "      <th>...</th>\n",
       "      <th>lat</th>\n",
       "      <th>long</th>\n",
       "      <th>city_pop</th>\n",
       "      <th>job</th>\n",
       "      <th>dob</th>\n",
       "      <th>trans_num</th>\n",
       "      <th>unix_time</th>\n",
       "      <th>merch_lat</th>\n",
       "      <th>merch_long</th>\n",
       "      <th>is_fraud</th>\n",
       "    </tr>\n",
       "  </thead>\n",
       "  <tbody>\n",
       "    <tr>\n",
       "      <th>0</th>\n",
       "      <td>1045211</td>\n",
       "      <td>2020-03-09 15:09:26</td>\n",
       "      <td>577588686219</td>\n",
       "      <td>fraud_Towne LLC</td>\n",
       "      <td>misc_pos</td>\n",
       "      <td>194.51</td>\n",
       "      <td>James</td>\n",
       "      <td>Strickland</td>\n",
       "      <td>M</td>\n",
       "      <td>25454 Leonard Lake</td>\n",
       "      <td>...</td>\n",
       "      <td>40.6153</td>\n",
       "      <td>-79.4545</td>\n",
       "      <td>972</td>\n",
       "      <td>Public relations account executive</td>\n",
       "      <td>1997-10-23</td>\n",
       "      <td>fff87d4340ef756a592eac652493cf6b</td>\n",
       "      <td>1362841766</td>\n",
       "      <td>40.420453</td>\n",
       "      <td>-78.865012</td>\n",
       "      <td>0</td>\n",
       "    </tr>\n",
       "    <tr>\n",
       "      <th>1</th>\n",
       "      <td>547406</td>\n",
       "      <td>2019-08-22 15:49:01</td>\n",
       "      <td>30376238035123</td>\n",
       "      <td>fraud_Friesen Ltd</td>\n",
       "      <td>health_fitness</td>\n",
       "      <td>52.32</td>\n",
       "      <td>Cynthia</td>\n",
       "      <td>Davis</td>\n",
       "      <td>F</td>\n",
       "      <td>7177 Steven Forges</td>\n",
       "      <td>...</td>\n",
       "      <td>42.8250</td>\n",
       "      <td>-124.4409</td>\n",
       "      <td>217</td>\n",
       "      <td>Retail merchandiser</td>\n",
       "      <td>1928-10-01</td>\n",
       "      <td>d0ad335af432f35578eea01d639b3621</td>\n",
       "      <td>1345650541</td>\n",
       "      <td>42.758860</td>\n",
       "      <td>-123.636337</td>\n",
       "      <td>0</td>\n",
       "    </tr>\n",
       "  </tbody>\n",
       "</table>\n",
       "<p>2 rows × 23 columns</p>\n",
       "</div>"
      ],
      "text/plain": [
       "   Unnamed: 0 trans_date_trans_time          cc_num           merchant  \\\n",
       "0     1045211   2020-03-09 15:09:26    577588686219    fraud_Towne LLC   \n",
       "1      547406   2019-08-22 15:49:01  30376238035123  fraud_Friesen Ltd   \n",
       "\n",
       "         category     amt    first        last gender              street  \\\n",
       "0        misc_pos  194.51    James  Strickland      M  25454 Leonard Lake   \n",
       "1  health_fitness   52.32  Cynthia       Davis      F  7177 Steven Forges   \n",
       "\n",
       "   ...      lat      long  city_pop                                 job  \\\n",
       "0  ...  40.6153  -79.4545       972  Public relations account executive   \n",
       "1  ...  42.8250 -124.4409       217                 Retail merchandiser   \n",
       "\n",
       "          dob                         trans_num   unix_time  merch_lat  \\\n",
       "0  1997-10-23  fff87d4340ef756a592eac652493cf6b  1362841766  40.420453   \n",
       "1  1928-10-01  d0ad335af432f35578eea01d639b3621  1345650541  42.758860   \n",
       "\n",
       "   merch_long  is_fraud  \n",
       "0  -78.865012         0  \n",
       "1 -123.636337         0  \n",
       "\n",
       "[2 rows x 23 columns]"
      ]
     },
     "execution_count": 8,
     "metadata": {},
     "output_type": "execute_result"
    }
   ],
   "source": [
    "sample_train.head(2)"
   ]
  },
  {
   "cell_type": "code",
   "execution_count": 9,
   "metadata": {},
   "outputs": [
    {
     "data": {
      "text/plain": [
       "0    0.9941\n",
       "1    0.0059\n",
       "Name: is_fraud, dtype: float64"
      ]
     },
     "execution_count": 9,
     "metadata": {},
     "output_type": "execute_result"
    }
   ],
   "source": [
    "sample_train['is_fraud'].value_counts(normalize = True)"
   ]
  },
  {
   "cell_type": "code",
   "execution_count": 10,
   "metadata": {},
   "outputs": [
    {
     "data": {
      "text/plain": [
       "0    0.994211\n",
       "1    0.005789\n",
       "Name: is_fraud, dtype: float64"
      ]
     },
     "execution_count": 10,
     "metadata": {},
     "output_type": "execute_result"
    }
   ],
   "source": [
    "train['is_fraud'].value_counts(normalize = True)"
   ]
  },
  {
   "attachments": {},
   "cell_type": "markdown",
   "metadata": {},
   "source": [
    "to_csv() - to_csv function allow a data to be saved as a  csv file.\n",
    "\n",
    "\n",
    "index : index = False disallow the to_csv function not to create an index as a new column."
   ]
  },
  {
   "cell_type": "code",
   "execution_count": 11,
   "metadata": {},
   "outputs": [],
   "source": [
    "sample_train.to_csv('Fraud_train_sample.csv', index=False)"
   ]
  },
  {
   "cell_type": "code",
   "execution_count": 12,
   "metadata": {},
   "outputs": [
    {
     "name": "stdout",
     "output_type": "stream",
     "text": [
      "Requirement already satisfied: plotly in d:\\datasciencewithms\\datasciencewithms\\.venv\\lib\\site-packages (5.13.1)Note: you may need to restart the kernel to use updated packages.\n"
     ]
    },
    {
     "name": "stderr",
     "output_type": "stream",
     "text": [
      "\n",
      "[notice] A new release of pip is available: 23.0.1 -> 23.2.1\n",
      "[notice] To update, run: python.exe -m pip install --upgrade pip\n"
     ]
    },
    {
     "name": "stdout",
     "output_type": "stream",
     "text": [
      "\n",
      "Requirement already satisfied: tenacity>=6.2.0 in d:\\datasciencewithms\\datasciencewithms\\.venv\\lib\\site-packages (from plotly) (8.2.2)\n"
     ]
    }
   ],
   "source": [
    "pip install plotly"
   ]
  },
  {
   "attachments": {},
   "cell_type": "markdown",
   "metadata": {},
   "source": [
    "Day-2 Data modelling."
   ]
  },
  {
   "cell_type": "code",
   "execution_count": 13,
   "metadata": {},
   "outputs": [],
   "source": [
    "import numpy as np\n",
    "import pandas as pd\n",
    "from matplotlib import pyplot as plt\n",
    "import seaborn as sns\n",
    "from sklearn.model_selection import train_test_split\n",
    "\n",
    "##plotly\n",
    "\n",
    "import plotly.express as px\n",
    "import plotly.graph_objects as go\n",
    "#alogorithm to learn from the input and predict the output.\n",
    "import warnings\n",
    "warnings.filterwarnings(\"ignore\")\n"
   ]
  },
  {
   "cell_type": "code",
   "execution_count": 14,
   "metadata": {},
   "outputs": [
    {
     "name": "stdout",
     "output_type": "stream",
     "text": [
      "Requirement already satisfied: xgboost in d:\\datasciencewithms\\datasciencewithms\\.venv\\lib\\site-packages (1.7.4)Note: you may need to restart the kernel to use updated packages.\n",
      "\n",
      "Requirement already satisfied: numpy in d:\\datasciencewithms\\datasciencewithms\\.venv\\lib\\site-packages (from xgboost) (1.24.2)\n",
      "Requirement already satisfied: scipy in d:\\datasciencewithms\\datasciencewithms\\.venv\\lib\\site-packages (from xgboost) (1.10.1)\n"
     ]
    },
    {
     "name": "stderr",
     "output_type": "stream",
     "text": [
      "\n",
      "[notice] A new release of pip is available: 23.0.1 -> 23.2.1\n",
      "[notice] To update, run: python.exe -m pip install --upgrade pip\n"
     ]
    }
   ],
   "source": [
    "pip install xgboost"
   ]
  },
  {
   "cell_type": "code",
   "execution_count": 15,
   "metadata": {},
   "outputs": [],
   "source": [
    "from sklearn.linear_model import LogisticRegression\n",
    "from sklearn.ensemble import RandomForestClassifier\n",
    "from xgboost import XGBClassifier"
   ]
  },
  {
   "cell_type": "code",
   "execution_count": 16,
   "metadata": {},
   "outputs": [],
   "source": [
    "# evaluation metrics 1 for classification (know the accuracy score of a model)\n",
    "from sklearn.metrics import accuracy_score, roc_auc_score\n",
    "# evaluation matrix 2 for classification (Know the variation of real value to predicted value)\n",
    "from sklearn.metrics import confusion_matrix,classification_report\n",
    "# save a trained model to disk\n",
    "import pickle\n",
    "# importing datatime library\n",
    "import datetime"
   ]
  },
  {
   "cell_type": "code",
   "execution_count": 17,
   "metadata": {},
   "outputs": [],
   "source": [
    "data = pd.read_csv('Fraud_train_sample.csv')"
   ]
  },
  {
   "cell_type": "code",
   "execution_count": 18,
   "metadata": {},
   "outputs": [
    {
     "data": {
      "text/html": [
       "<div>\n",
       "<style scoped>\n",
       "    .dataframe tbody tr th:only-of-type {\n",
       "        vertical-align: middle;\n",
       "    }\n",
       "\n",
       "    .dataframe tbody tr th {\n",
       "        vertical-align: top;\n",
       "    }\n",
       "\n",
       "    .dataframe thead th {\n",
       "        text-align: right;\n",
       "    }\n",
       "</style>\n",
       "<table border=\"1\" class=\"dataframe\">\n",
       "  <thead>\n",
       "    <tr style=\"text-align: right;\">\n",
       "      <th></th>\n",
       "      <th>Unnamed: 0</th>\n",
       "      <th>trans_date_trans_time</th>\n",
       "      <th>cc_num</th>\n",
       "      <th>merchant</th>\n",
       "      <th>category</th>\n",
       "      <th>amt</th>\n",
       "      <th>first</th>\n",
       "      <th>last</th>\n",
       "      <th>gender</th>\n",
       "      <th>street</th>\n",
       "      <th>...</th>\n",
       "      <th>lat</th>\n",
       "      <th>long</th>\n",
       "      <th>city_pop</th>\n",
       "      <th>job</th>\n",
       "      <th>dob</th>\n",
       "      <th>trans_num</th>\n",
       "      <th>unix_time</th>\n",
       "      <th>merch_lat</th>\n",
       "      <th>merch_long</th>\n",
       "      <th>is_fraud</th>\n",
       "    </tr>\n",
       "  </thead>\n",
       "  <tbody>\n",
       "    <tr>\n",
       "      <th>0</th>\n",
       "      <td>1045211</td>\n",
       "      <td>2020-03-09 15:09:26</td>\n",
       "      <td>577588686219</td>\n",
       "      <td>fraud_Towne LLC</td>\n",
       "      <td>misc_pos</td>\n",
       "      <td>194.51</td>\n",
       "      <td>James</td>\n",
       "      <td>Strickland</td>\n",
       "      <td>M</td>\n",
       "      <td>25454 Leonard Lake</td>\n",
       "      <td>...</td>\n",
       "      <td>40.6153</td>\n",
       "      <td>-79.4545</td>\n",
       "      <td>972</td>\n",
       "      <td>Public relations account executive</td>\n",
       "      <td>1997-10-23</td>\n",
       "      <td>fff87d4340ef756a592eac652493cf6b</td>\n",
       "      <td>1362841766</td>\n",
       "      <td>40.420453</td>\n",
       "      <td>-78.865012</td>\n",
       "      <td>0</td>\n",
       "    </tr>\n",
       "    <tr>\n",
       "      <th>1</th>\n",
       "      <td>547406</td>\n",
       "      <td>2019-08-22 15:49:01</td>\n",
       "      <td>30376238035123</td>\n",
       "      <td>fraud_Friesen Ltd</td>\n",
       "      <td>health_fitness</td>\n",
       "      <td>52.32</td>\n",
       "      <td>Cynthia</td>\n",
       "      <td>Davis</td>\n",
       "      <td>F</td>\n",
       "      <td>7177 Steven Forges</td>\n",
       "      <td>...</td>\n",
       "      <td>42.8250</td>\n",
       "      <td>-124.4409</td>\n",
       "      <td>217</td>\n",
       "      <td>Retail merchandiser</td>\n",
       "      <td>1928-10-01</td>\n",
       "      <td>d0ad335af432f35578eea01d639b3621</td>\n",
       "      <td>1345650541</td>\n",
       "      <td>42.758860</td>\n",
       "      <td>-123.636337</td>\n",
       "      <td>0</td>\n",
       "    </tr>\n",
       "    <tr>\n",
       "      <th>2</th>\n",
       "      <td>110142</td>\n",
       "      <td>2019-03-04 01:34:16</td>\n",
       "      <td>4658490815480264</td>\n",
       "      <td>fraud_Mohr Inc</td>\n",
       "      <td>shopping_pos</td>\n",
       "      <td>6.53</td>\n",
       "      <td>Tara</td>\n",
       "      <td>Richards</td>\n",
       "      <td>F</td>\n",
       "      <td>4879 Cristina Station</td>\n",
       "      <td>...</td>\n",
       "      <td>39.9636</td>\n",
       "      <td>-79.7853</td>\n",
       "      <td>184</td>\n",
       "      <td>Systems developer</td>\n",
       "      <td>1945-11-04</td>\n",
       "      <td>87f26e3ea33f4ff4c7a8bad2c7f48686</td>\n",
       "      <td>1330824856</td>\n",
       "      <td>40.475159</td>\n",
       "      <td>-78.898190</td>\n",
       "      <td>0</td>\n",
       "    </tr>\n",
       "    <tr>\n",
       "      <th>3</th>\n",
       "      <td>1285953</td>\n",
       "      <td>2020-06-16 20:04:38</td>\n",
       "      <td>3514897282719543</td>\n",
       "      <td>fraud_Gaylord-Powlowski</td>\n",
       "      <td>home</td>\n",
       "      <td>7.33</td>\n",
       "      <td>Steven</td>\n",
       "      <td>Faulkner</td>\n",
       "      <td>M</td>\n",
       "      <td>841 Cheryl Centers Suite 115</td>\n",
       "      <td>...</td>\n",
       "      <td>42.9580</td>\n",
       "      <td>-77.3083</td>\n",
       "      <td>10717</td>\n",
       "      <td>Cytogeneticist</td>\n",
       "      <td>1952-10-13</td>\n",
       "      <td>9c34015321c0fa2ae6fd20f9359d1d3e</td>\n",
       "      <td>1371413078</td>\n",
       "      <td>43.767506</td>\n",
       "      <td>-76.542384</td>\n",
       "      <td>0</td>\n",
       "    </tr>\n",
       "    <tr>\n",
       "      <th>4</th>\n",
       "      <td>271705</td>\n",
       "      <td>2019-05-14 05:54:48</td>\n",
       "      <td>6011381817520024</td>\n",
       "      <td>fraud_Christiansen, Goyette and Schamberger</td>\n",
       "      <td>gas_transport</td>\n",
       "      <td>64.29</td>\n",
       "      <td>Kristen</td>\n",
       "      <td>Allen</td>\n",
       "      <td>F</td>\n",
       "      <td>8619 Lisa Manors Apt. 871</td>\n",
       "      <td>...</td>\n",
       "      <td>41.6423</td>\n",
       "      <td>-104.1974</td>\n",
       "      <td>635</td>\n",
       "      <td>Product/process development scientist</td>\n",
       "      <td>1973-07-13</td>\n",
       "      <td>198437c05676f485e9be04449c664475</td>\n",
       "      <td>1336974888</td>\n",
       "      <td>41.040392</td>\n",
       "      <td>-104.092324</td>\n",
       "      <td>0</td>\n",
       "    </tr>\n",
       "  </tbody>\n",
       "</table>\n",
       "<p>5 rows × 23 columns</p>\n",
       "</div>"
      ],
      "text/plain": [
       "   Unnamed: 0 trans_date_trans_time            cc_num  \\\n",
       "0     1045211   2020-03-09 15:09:26      577588686219   \n",
       "1      547406   2019-08-22 15:49:01    30376238035123   \n",
       "2      110142   2019-03-04 01:34:16  4658490815480264   \n",
       "3     1285953   2020-06-16 20:04:38  3514897282719543   \n",
       "4      271705   2019-05-14 05:54:48  6011381817520024   \n",
       "\n",
       "                                      merchant        category     amt  \\\n",
       "0                              fraud_Towne LLC        misc_pos  194.51   \n",
       "1                            fraud_Friesen Ltd  health_fitness   52.32   \n",
       "2                               fraud_Mohr Inc    shopping_pos    6.53   \n",
       "3                      fraud_Gaylord-Powlowski            home    7.33   \n",
       "4  fraud_Christiansen, Goyette and Schamberger   gas_transport   64.29   \n",
       "\n",
       "     first        last gender                        street  ...      lat  \\\n",
       "0    James  Strickland      M            25454 Leonard Lake  ...  40.6153   \n",
       "1  Cynthia       Davis      F            7177 Steven Forges  ...  42.8250   \n",
       "2     Tara    Richards      F         4879 Cristina Station  ...  39.9636   \n",
       "3   Steven    Faulkner      M  841 Cheryl Centers Suite 115  ...  42.9580   \n",
       "4  Kristen       Allen      F     8619 Lisa Manors Apt. 871  ...  41.6423   \n",
       "\n",
       "       long  city_pop                                    job         dob  \\\n",
       "0  -79.4545       972     Public relations account executive  1997-10-23   \n",
       "1 -124.4409       217                    Retail merchandiser  1928-10-01   \n",
       "2  -79.7853       184                      Systems developer  1945-11-04   \n",
       "3  -77.3083     10717                         Cytogeneticist  1952-10-13   \n",
       "4 -104.1974       635  Product/process development scientist  1973-07-13   \n",
       "\n",
       "                          trans_num   unix_time  merch_lat  merch_long  \\\n",
       "0  fff87d4340ef756a592eac652493cf6b  1362841766  40.420453  -78.865012   \n",
       "1  d0ad335af432f35578eea01d639b3621  1345650541  42.758860 -123.636337   \n",
       "2  87f26e3ea33f4ff4c7a8bad2c7f48686  1330824856  40.475159  -78.898190   \n",
       "3  9c34015321c0fa2ae6fd20f9359d1d3e  1371413078  43.767506  -76.542384   \n",
       "4  198437c05676f485e9be04449c664475  1336974888  41.040392 -104.092324   \n",
       "\n",
       "   is_fraud  \n",
       "0         0  \n",
       "1         0  \n",
       "2         0  \n",
       "3         0  \n",
       "4         0  \n",
       "\n",
       "[5 rows x 23 columns]"
      ]
     },
     "execution_count": 18,
     "metadata": {},
     "output_type": "execute_result"
    }
   ],
   "source": [
    "data.head()"
   ]
  },
  {
   "cell_type": "code",
   "execution_count": 19,
   "metadata": {},
   "outputs": [
    {
     "name": "stdout",
     "output_type": "stream",
     "text": [
      "The data : (10000, 23)\n"
     ]
    }
   ],
   "source": [
    "print(\"The data : {}\".format(data.shape))"
   ]
  },
  {
   "cell_type": "code",
   "execution_count": 20,
   "metadata": {},
   "outputs": [
    {
     "data": {
      "text/plain": [
       "Unnamed: 0               0\n",
       "trans_date_trans_time    0\n",
       "cc_num                   0\n",
       "merchant                 0\n",
       "category                 0\n",
       "amt                      0\n",
       "first                    0\n",
       "last                     0\n",
       "gender                   0\n",
       "street                   0\n",
       "city                     0\n",
       "state                    0\n",
       "zip                      0\n",
       "lat                      0\n",
       "long                     0\n",
       "city_pop                 0\n",
       "job                      0\n",
       "dob                      0\n",
       "trans_num                0\n",
       "unix_time                0\n",
       "merch_lat                0\n",
       "merch_long               0\n",
       "is_fraud                 0\n",
       "dtype: int64"
      ]
     },
     "execution_count": 20,
     "metadata": {},
     "output_type": "execute_result"
    }
   ],
   "source": [
    "data.isna().sum()"
   ]
  },
  {
   "cell_type": "code",
   "execution_count": 21,
   "metadata": {},
   "outputs": [
    {
     "data": {
      "text/plain": [
       "Unnamed: 0                 int64\n",
       "trans_date_trans_time     object\n",
       "cc_num                     int64\n",
       "merchant                  object\n",
       "category                  object\n",
       "amt                      float64\n",
       "first                     object\n",
       "last                      object\n",
       "gender                    object\n",
       "street                    object\n",
       "city                      object\n",
       "state                     object\n",
       "zip                        int64\n",
       "lat                      float64\n",
       "long                     float64\n",
       "city_pop                   int64\n",
       "job                       object\n",
       "dob                       object\n",
       "trans_num                 object\n",
       "unix_time                  int64\n",
       "merch_lat                float64\n",
       "merch_long               float64\n",
       "is_fraud                   int64\n",
       "dtype: object"
      ]
     },
     "execution_count": 21,
     "metadata": {},
     "output_type": "execute_result"
    }
   ],
   "source": [
    "data.dtypes"
   ]
  },
  {
   "cell_type": "code",
   "execution_count": 22,
   "metadata": {},
   "outputs": [
    {
     "data": {
      "text/html": [
       "<div>\n",
       "<style scoped>\n",
       "    .dataframe tbody tr th:only-of-type {\n",
       "        vertical-align: middle;\n",
       "    }\n",
       "\n",
       "    .dataframe tbody tr th {\n",
       "        vertical-align: top;\n",
       "    }\n",
       "\n",
       "    .dataframe thead th {\n",
       "        text-align: right;\n",
       "    }\n",
       "</style>\n",
       "<table border=\"1\" class=\"dataframe\">\n",
       "  <thead>\n",
       "    <tr style=\"text-align: right;\">\n",
       "      <th></th>\n",
       "      <th>Unnamed: 0</th>\n",
       "      <th>cc_num</th>\n",
       "      <th>amt</th>\n",
       "      <th>zip</th>\n",
       "      <th>lat</th>\n",
       "      <th>long</th>\n",
       "      <th>city_pop</th>\n",
       "      <th>unix_time</th>\n",
       "      <th>merch_lat</th>\n",
       "      <th>merch_long</th>\n",
       "      <th>is_fraud</th>\n",
       "    </tr>\n",
       "  </thead>\n",
       "  <tbody>\n",
       "    <tr>\n",
       "      <th>count</th>\n",
       "      <td>1.000000e+04</td>\n",
       "      <td>1.000000e+04</td>\n",
       "      <td>10000.000000</td>\n",
       "      <td>10000.000000</td>\n",
       "      <td>10000.000000</td>\n",
       "      <td>10000.000000</td>\n",
       "      <td>1.000000e+04</td>\n",
       "      <td>1.000000e+04</td>\n",
       "      <td>10000.000000</td>\n",
       "      <td>10000.000000</td>\n",
       "      <td>10000.000000</td>\n",
       "    </tr>\n",
       "    <tr>\n",
       "      <th>mean</th>\n",
       "      <td>6.538994e+05</td>\n",
       "      <td>4.138124e+17</td>\n",
       "      <td>69.172016</td>\n",
       "      <td>48876.656100</td>\n",
       "      <td>38.485600</td>\n",
       "      <td>-90.289713</td>\n",
       "      <td>8.830473e+04</td>\n",
       "      <td>1.349434e+09</td>\n",
       "      <td>38.486023</td>\n",
       "      <td>-90.287940</td>\n",
       "      <td>0.005900</td>\n",
       "    </tr>\n",
       "    <tr>\n",
       "      <th>std</th>\n",
       "      <td>3.762489e+05</td>\n",
       "      <td>1.303913e+18</td>\n",
       "      <td>135.444585</td>\n",
       "      <td>26904.265948</td>\n",
       "      <td>5.054745</td>\n",
       "      <td>13.763297</td>\n",
       "      <td>3.102025e+05</td>\n",
       "      <td>1.289712e+07</td>\n",
       "      <td>5.087203</td>\n",
       "      <td>13.783250</td>\n",
       "      <td>0.076588</td>\n",
       "    </tr>\n",
       "    <tr>\n",
       "      <th>min</th>\n",
       "      <td>4.720000e+02</td>\n",
       "      <td>6.041621e+10</td>\n",
       "      <td>1.010000</td>\n",
       "      <td>1257.000000</td>\n",
       "      <td>20.027100</td>\n",
       "      <td>-165.672300</td>\n",
       "      <td>2.300000e+01</td>\n",
       "      <td>1.325399e+09</td>\n",
       "      <td>19.171087</td>\n",
       "      <td>-166.558499</td>\n",
       "      <td>0.000000</td>\n",
       "    </tr>\n",
       "    <tr>\n",
       "      <th>25%</th>\n",
       "      <td>3.231138e+05</td>\n",
       "      <td>1.800143e+14</td>\n",
       "      <td>9.580000</td>\n",
       "      <td>26237.000000</td>\n",
       "      <td>34.585825</td>\n",
       "      <td>-96.809400</td>\n",
       "      <td>7.430000e+02</td>\n",
       "      <td>1.338731e+09</td>\n",
       "      <td>34.632410</td>\n",
       "      <td>-96.977674</td>\n",
       "      <td>0.000000</td>\n",
       "    </tr>\n",
       "    <tr>\n",
       "      <th>50%</th>\n",
       "      <td>6.548670e+05</td>\n",
       "      <td>3.517671e+15</td>\n",
       "      <td>47.765000</td>\n",
       "      <td>48174.000000</td>\n",
       "      <td>39.283000</td>\n",
       "      <td>-87.591700</td>\n",
       "      <td>2.401000e+03</td>\n",
       "      <td>1.349501e+09</td>\n",
       "      <td>39.324922</td>\n",
       "      <td>-87.426406</td>\n",
       "      <td>0.000000</td>\n",
       "    </tr>\n",
       "    <tr>\n",
       "      <th>75%</th>\n",
       "      <td>9.809185e+05</td>\n",
       "      <td>4.629452e+15</td>\n",
       "      <td>83.007500</td>\n",
       "      <td>72047.000000</td>\n",
       "      <td>41.894800</td>\n",
       "      <td>-80.158000</td>\n",
       "      <td>2.047800e+04</td>\n",
       "      <td>1.359831e+09</td>\n",
       "      <td>41.932961</td>\n",
       "      <td>-80.227340</td>\n",
       "      <td>0.000000</td>\n",
       "    </tr>\n",
       "    <tr>\n",
       "      <th>max</th>\n",
       "      <td>1.296652e+06</td>\n",
       "      <td>4.992346e+18</td>\n",
       "      <td>4430.830000</td>\n",
       "      <td>99783.000000</td>\n",
       "      <td>65.689900</td>\n",
       "      <td>-67.950300</td>\n",
       "      <td>2.906700e+06</td>\n",
       "      <td>1.371816e+09</td>\n",
       "      <td>65.984392</td>\n",
       "      <td>-67.039889</td>\n",
       "      <td>1.000000</td>\n",
       "    </tr>\n",
       "  </tbody>\n",
       "</table>\n",
       "</div>"
      ],
      "text/plain": [
       "         Unnamed: 0        cc_num           amt           zip           lat  \\\n",
       "count  1.000000e+04  1.000000e+04  10000.000000  10000.000000  10000.000000   \n",
       "mean   6.538994e+05  4.138124e+17     69.172016  48876.656100     38.485600   \n",
       "std    3.762489e+05  1.303913e+18    135.444585  26904.265948      5.054745   \n",
       "min    4.720000e+02  6.041621e+10      1.010000   1257.000000     20.027100   \n",
       "25%    3.231138e+05  1.800143e+14      9.580000  26237.000000     34.585825   \n",
       "50%    6.548670e+05  3.517671e+15     47.765000  48174.000000     39.283000   \n",
       "75%    9.809185e+05  4.629452e+15     83.007500  72047.000000     41.894800   \n",
       "max    1.296652e+06  4.992346e+18   4430.830000  99783.000000     65.689900   \n",
       "\n",
       "               long      city_pop     unix_time     merch_lat    merch_long  \\\n",
       "count  10000.000000  1.000000e+04  1.000000e+04  10000.000000  10000.000000   \n",
       "mean     -90.289713  8.830473e+04  1.349434e+09     38.486023    -90.287940   \n",
       "std       13.763297  3.102025e+05  1.289712e+07      5.087203     13.783250   \n",
       "min     -165.672300  2.300000e+01  1.325399e+09     19.171087   -166.558499   \n",
       "25%      -96.809400  7.430000e+02  1.338731e+09     34.632410    -96.977674   \n",
       "50%      -87.591700  2.401000e+03  1.349501e+09     39.324922    -87.426406   \n",
       "75%      -80.158000  2.047800e+04  1.359831e+09     41.932961    -80.227340   \n",
       "max      -67.950300  2.906700e+06  1.371816e+09     65.984392    -67.039889   \n",
       "\n",
       "           is_fraud  \n",
       "count  10000.000000  \n",
       "mean       0.005900  \n",
       "std        0.076588  \n",
       "min        0.000000  \n",
       "25%        0.000000  \n",
       "50%        0.000000  \n",
       "75%        0.000000  \n",
       "max        1.000000  "
      ]
     },
     "execution_count": 22,
     "metadata": {},
     "output_type": "execute_result"
    }
   ],
   "source": [
    "data.describe()"
   ]
  },
  {
   "attachments": {},
   "cell_type": "markdown",
   "metadata": {},
   "source": [
    "Univariate Analysis.\n",
    "\n",
    "Question 1\n",
    "\n",
    "what is the proportion of Fraud detection"
   ]
  },
  {
   "cell_type": "code",
   "execution_count": 23,
   "metadata": {},
   "outputs": [],
   "source": [
    "labels = list(data['is_fraud'].value_counts().index)\n",
    "values = list(data['is_fraud'].value_counts().values)\n"
   ]
  },
  {
   "cell_type": "code",
   "execution_count": 24,
   "metadata": {},
   "outputs": [
    {
     "name": "stdout",
     "output_type": "stream",
     "text": [
      "[0, 1] [9941, 59]\n"
     ]
    }
   ],
   "source": [
    "print(labels, values)"
   ]
  },
  {
   "cell_type": "code",
   "execution_count": 25,
   "metadata": {},
   "outputs": [],
   "source": [
    "fig = go.Figure(data=[go.Pie(labels = labels, values = values)])"
   ]
  },
  {
   "cell_type": "code",
   "execution_count": 26,
   "metadata": {},
   "outputs": [
    {
     "name": "stdout",
     "output_type": "stream",
     "text": [
      "Figure({\n",
      "    'data': [{'labels': [0, 1], 'type': 'pie', 'values': [9941, 59]}], 'layout': {'template': '...'}\n",
      "})\n"
     ]
    }
   ],
   "source": [
    "print(fig)"
   ]
  },
  {
   "cell_type": "code",
   "execution_count": 27,
   "metadata": {},
   "outputs": [
    {
     "data": {
      "application/vnd.plotly.v1+json": {
       "config": {
        "plotlyServerURL": "https://plot.ly"
       },
       "data": [
        {
         "labels": [
          0,
          1
         ],
         "type": "pie",
         "values": [
          9941,
          59
         ]
        }
       ],
       "layout": {
        "template": {
         "data": {
          "bar": [
           {
            "error_x": {
             "color": "#2a3f5f"
            },
            "error_y": {
             "color": "#2a3f5f"
            },
            "marker": {
             "line": {
              "color": "#E5ECF6",
              "width": 0.5
             },
             "pattern": {
              "fillmode": "overlay",
              "size": 10,
              "solidity": 0.2
             }
            },
            "type": "bar"
           }
          ],
          "barpolar": [
           {
            "marker": {
             "line": {
              "color": "#E5ECF6",
              "width": 0.5
             },
             "pattern": {
              "fillmode": "overlay",
              "size": 10,
              "solidity": 0.2
             }
            },
            "type": "barpolar"
           }
          ],
          "carpet": [
           {
            "aaxis": {
             "endlinecolor": "#2a3f5f",
             "gridcolor": "white",
             "linecolor": "white",
             "minorgridcolor": "white",
             "startlinecolor": "#2a3f5f"
            },
            "baxis": {
             "endlinecolor": "#2a3f5f",
             "gridcolor": "white",
             "linecolor": "white",
             "minorgridcolor": "white",
             "startlinecolor": "#2a3f5f"
            },
            "type": "carpet"
           }
          ],
          "choropleth": [
           {
            "colorbar": {
             "outlinewidth": 0,
             "ticks": ""
            },
            "type": "choropleth"
           }
          ],
          "contour": [
           {
            "colorbar": {
             "outlinewidth": 0,
             "ticks": ""
            },
            "colorscale": [
             [
              0,
              "#0d0887"
             ],
             [
              0.1111111111111111,
              "#46039f"
             ],
             [
              0.2222222222222222,
              "#7201a8"
             ],
             [
              0.3333333333333333,
              "#9c179e"
             ],
             [
              0.4444444444444444,
              "#bd3786"
             ],
             [
              0.5555555555555556,
              "#d8576b"
             ],
             [
              0.6666666666666666,
              "#ed7953"
             ],
             [
              0.7777777777777778,
              "#fb9f3a"
             ],
             [
              0.8888888888888888,
              "#fdca26"
             ],
             [
              1,
              "#f0f921"
             ]
            ],
            "type": "contour"
           }
          ],
          "contourcarpet": [
           {
            "colorbar": {
             "outlinewidth": 0,
             "ticks": ""
            },
            "type": "contourcarpet"
           }
          ],
          "heatmap": [
           {
            "colorbar": {
             "outlinewidth": 0,
             "ticks": ""
            },
            "colorscale": [
             [
              0,
              "#0d0887"
             ],
             [
              0.1111111111111111,
              "#46039f"
             ],
             [
              0.2222222222222222,
              "#7201a8"
             ],
             [
              0.3333333333333333,
              "#9c179e"
             ],
             [
              0.4444444444444444,
              "#bd3786"
             ],
             [
              0.5555555555555556,
              "#d8576b"
             ],
             [
              0.6666666666666666,
              "#ed7953"
             ],
             [
              0.7777777777777778,
              "#fb9f3a"
             ],
             [
              0.8888888888888888,
              "#fdca26"
             ],
             [
              1,
              "#f0f921"
             ]
            ],
            "type": "heatmap"
           }
          ],
          "heatmapgl": [
           {
            "colorbar": {
             "outlinewidth": 0,
             "ticks": ""
            },
            "colorscale": [
             [
              0,
              "#0d0887"
             ],
             [
              0.1111111111111111,
              "#46039f"
             ],
             [
              0.2222222222222222,
              "#7201a8"
             ],
             [
              0.3333333333333333,
              "#9c179e"
             ],
             [
              0.4444444444444444,
              "#bd3786"
             ],
             [
              0.5555555555555556,
              "#d8576b"
             ],
             [
              0.6666666666666666,
              "#ed7953"
             ],
             [
              0.7777777777777778,
              "#fb9f3a"
             ],
             [
              0.8888888888888888,
              "#fdca26"
             ],
             [
              1,
              "#f0f921"
             ]
            ],
            "type": "heatmapgl"
           }
          ],
          "histogram": [
           {
            "marker": {
             "pattern": {
              "fillmode": "overlay",
              "size": 10,
              "solidity": 0.2
             }
            },
            "type": "histogram"
           }
          ],
          "histogram2d": [
           {
            "colorbar": {
             "outlinewidth": 0,
             "ticks": ""
            },
            "colorscale": [
             [
              0,
              "#0d0887"
             ],
             [
              0.1111111111111111,
              "#46039f"
             ],
             [
              0.2222222222222222,
              "#7201a8"
             ],
             [
              0.3333333333333333,
              "#9c179e"
             ],
             [
              0.4444444444444444,
              "#bd3786"
             ],
             [
              0.5555555555555556,
              "#d8576b"
             ],
             [
              0.6666666666666666,
              "#ed7953"
             ],
             [
              0.7777777777777778,
              "#fb9f3a"
             ],
             [
              0.8888888888888888,
              "#fdca26"
             ],
             [
              1,
              "#f0f921"
             ]
            ],
            "type": "histogram2d"
           }
          ],
          "histogram2dcontour": [
           {
            "colorbar": {
             "outlinewidth": 0,
             "ticks": ""
            },
            "colorscale": [
             [
              0,
              "#0d0887"
             ],
             [
              0.1111111111111111,
              "#46039f"
             ],
             [
              0.2222222222222222,
              "#7201a8"
             ],
             [
              0.3333333333333333,
              "#9c179e"
             ],
             [
              0.4444444444444444,
              "#bd3786"
             ],
             [
              0.5555555555555556,
              "#d8576b"
             ],
             [
              0.6666666666666666,
              "#ed7953"
             ],
             [
              0.7777777777777778,
              "#fb9f3a"
             ],
             [
              0.8888888888888888,
              "#fdca26"
             ],
             [
              1,
              "#f0f921"
             ]
            ],
            "type": "histogram2dcontour"
           }
          ],
          "mesh3d": [
           {
            "colorbar": {
             "outlinewidth": 0,
             "ticks": ""
            },
            "type": "mesh3d"
           }
          ],
          "parcoords": [
           {
            "line": {
             "colorbar": {
              "outlinewidth": 0,
              "ticks": ""
             }
            },
            "type": "parcoords"
           }
          ],
          "pie": [
           {
            "automargin": true,
            "type": "pie"
           }
          ],
          "scatter": [
           {
            "fillpattern": {
             "fillmode": "overlay",
             "size": 10,
             "solidity": 0.2
            },
            "type": "scatter"
           }
          ],
          "scatter3d": [
           {
            "line": {
             "colorbar": {
              "outlinewidth": 0,
              "ticks": ""
             }
            },
            "marker": {
             "colorbar": {
              "outlinewidth": 0,
              "ticks": ""
             }
            },
            "type": "scatter3d"
           }
          ],
          "scattercarpet": [
           {
            "marker": {
             "colorbar": {
              "outlinewidth": 0,
              "ticks": ""
             }
            },
            "type": "scattercarpet"
           }
          ],
          "scattergeo": [
           {
            "marker": {
             "colorbar": {
              "outlinewidth": 0,
              "ticks": ""
             }
            },
            "type": "scattergeo"
           }
          ],
          "scattergl": [
           {
            "marker": {
             "colorbar": {
              "outlinewidth": 0,
              "ticks": ""
             }
            },
            "type": "scattergl"
           }
          ],
          "scattermapbox": [
           {
            "marker": {
             "colorbar": {
              "outlinewidth": 0,
              "ticks": ""
             }
            },
            "type": "scattermapbox"
           }
          ],
          "scatterpolar": [
           {
            "marker": {
             "colorbar": {
              "outlinewidth": 0,
              "ticks": ""
             }
            },
            "type": "scatterpolar"
           }
          ],
          "scatterpolargl": [
           {
            "marker": {
             "colorbar": {
              "outlinewidth": 0,
              "ticks": ""
             }
            },
            "type": "scatterpolargl"
           }
          ],
          "scatterternary": [
           {
            "marker": {
             "colorbar": {
              "outlinewidth": 0,
              "ticks": ""
             }
            },
            "type": "scatterternary"
           }
          ],
          "surface": [
           {
            "colorbar": {
             "outlinewidth": 0,
             "ticks": ""
            },
            "colorscale": [
             [
              0,
              "#0d0887"
             ],
             [
              0.1111111111111111,
              "#46039f"
             ],
             [
              0.2222222222222222,
              "#7201a8"
             ],
             [
              0.3333333333333333,
              "#9c179e"
             ],
             [
              0.4444444444444444,
              "#bd3786"
             ],
             [
              0.5555555555555556,
              "#d8576b"
             ],
             [
              0.6666666666666666,
              "#ed7953"
             ],
             [
              0.7777777777777778,
              "#fb9f3a"
             ],
             [
              0.8888888888888888,
              "#fdca26"
             ],
             [
              1,
              "#f0f921"
             ]
            ],
            "type": "surface"
           }
          ],
          "table": [
           {
            "cells": {
             "fill": {
              "color": "#EBF0F8"
             },
             "line": {
              "color": "white"
             }
            },
            "header": {
             "fill": {
              "color": "#C8D4E3"
             },
             "line": {
              "color": "white"
             }
            },
            "type": "table"
           }
          ]
         },
         "layout": {
          "annotationdefaults": {
           "arrowcolor": "#2a3f5f",
           "arrowhead": 0,
           "arrowwidth": 1
          },
          "autotypenumbers": "strict",
          "coloraxis": {
           "colorbar": {
            "outlinewidth": 0,
            "ticks": ""
           }
          },
          "colorscale": {
           "diverging": [
            [
             0,
             "#8e0152"
            ],
            [
             0.1,
             "#c51b7d"
            ],
            [
             0.2,
             "#de77ae"
            ],
            [
             0.3,
             "#f1b6da"
            ],
            [
             0.4,
             "#fde0ef"
            ],
            [
             0.5,
             "#f7f7f7"
            ],
            [
             0.6,
             "#e6f5d0"
            ],
            [
             0.7,
             "#b8e186"
            ],
            [
             0.8,
             "#7fbc41"
            ],
            [
             0.9,
             "#4d9221"
            ],
            [
             1,
             "#276419"
            ]
           ],
           "sequential": [
            [
             0,
             "#0d0887"
            ],
            [
             0.1111111111111111,
             "#46039f"
            ],
            [
             0.2222222222222222,
             "#7201a8"
            ],
            [
             0.3333333333333333,
             "#9c179e"
            ],
            [
             0.4444444444444444,
             "#bd3786"
            ],
            [
             0.5555555555555556,
             "#d8576b"
            ],
            [
             0.6666666666666666,
             "#ed7953"
            ],
            [
             0.7777777777777778,
             "#fb9f3a"
            ],
            [
             0.8888888888888888,
             "#fdca26"
            ],
            [
             1,
             "#f0f921"
            ]
           ],
           "sequentialminus": [
            [
             0,
             "#0d0887"
            ],
            [
             0.1111111111111111,
             "#46039f"
            ],
            [
             0.2222222222222222,
             "#7201a8"
            ],
            [
             0.3333333333333333,
             "#9c179e"
            ],
            [
             0.4444444444444444,
             "#bd3786"
            ],
            [
             0.5555555555555556,
             "#d8576b"
            ],
            [
             0.6666666666666666,
             "#ed7953"
            ],
            [
             0.7777777777777778,
             "#fb9f3a"
            ],
            [
             0.8888888888888888,
             "#fdca26"
            ],
            [
             1,
             "#f0f921"
            ]
           ]
          },
          "colorway": [
           "#636efa",
           "#EF553B",
           "#00cc96",
           "#ab63fa",
           "#FFA15A",
           "#19d3f3",
           "#FF6692",
           "#B6E880",
           "#FF97FF",
           "#FECB52"
          ],
          "font": {
           "color": "#2a3f5f"
          },
          "geo": {
           "bgcolor": "white",
           "lakecolor": "white",
           "landcolor": "#E5ECF6",
           "showlakes": true,
           "showland": true,
           "subunitcolor": "white"
          },
          "hoverlabel": {
           "align": "left"
          },
          "hovermode": "closest",
          "mapbox": {
           "style": "light"
          },
          "paper_bgcolor": "white",
          "plot_bgcolor": "#E5ECF6",
          "polar": {
           "angularaxis": {
            "gridcolor": "white",
            "linecolor": "white",
            "ticks": ""
           },
           "bgcolor": "#E5ECF6",
           "radialaxis": {
            "gridcolor": "white",
            "linecolor": "white",
            "ticks": ""
           }
          },
          "scene": {
           "xaxis": {
            "backgroundcolor": "#E5ECF6",
            "gridcolor": "white",
            "gridwidth": 2,
            "linecolor": "white",
            "showbackground": true,
            "ticks": "",
            "zerolinecolor": "white"
           },
           "yaxis": {
            "backgroundcolor": "#E5ECF6",
            "gridcolor": "white",
            "gridwidth": 2,
            "linecolor": "white",
            "showbackground": true,
            "ticks": "",
            "zerolinecolor": "white"
           },
           "zaxis": {
            "backgroundcolor": "#E5ECF6",
            "gridcolor": "white",
            "gridwidth": 2,
            "linecolor": "white",
            "showbackground": true,
            "ticks": "",
            "zerolinecolor": "white"
           }
          },
          "shapedefaults": {
           "line": {
            "color": "#2a3f5f"
           }
          },
          "ternary": {
           "aaxis": {
            "gridcolor": "white",
            "linecolor": "white",
            "ticks": ""
           },
           "baxis": {
            "gridcolor": "white",
            "linecolor": "white",
            "ticks": ""
           },
           "bgcolor": "#E5ECF6",
           "caxis": {
            "gridcolor": "white",
            "linecolor": "white",
            "ticks": ""
           }
          },
          "title": {
           "x": 0.05
          },
          "xaxis": {
           "automargin": true,
           "gridcolor": "white",
           "linecolor": "white",
           "ticks": "",
           "title": {
            "standoff": 15
           },
           "zerolinecolor": "white",
           "zerolinewidth": 2
          },
          "yaxis": {
           "automargin": true,
           "gridcolor": "white",
           "linecolor": "white",
           "ticks": "",
           "title": {
            "standoff": 15
           },
           "zerolinecolor": "white",
           "zerolinewidth": 2
          }
         }
        }
       }
      }
     },
     "metadata": {},
     "output_type": "display_data"
    }
   ],
   "source": [
    "fig.show()"
   ]
  },
  {
   "cell_type": "code",
   "execution_count": 28,
   "metadata": {},
   "outputs": [
    {
     "name": "stdout",
     "output_type": "stream",
     "text": [
      "Requirement already satisfied: ipykernel in d:\\datasciencewithms\\datasciencewithms\\.venv\\lib\\site-packages (6.21.3)Note: you may need to restart the kernel to use updated packages.\n"
     ]
    },
    {
     "name": "stderr",
     "output_type": "stream",
     "text": [
      "\n",
      "[notice] A new release of pip is available: 23.0.1 -> 23.2.1\n",
      "[notice] To update, run: python.exe -m pip install --upgrade pip\n"
     ]
    },
    {
     "name": "stdout",
     "output_type": "stream",
     "text": [
      "\n",
      "Requirement already satisfied: comm>=0.1.1 in d:\\datasciencewithms\\datasciencewithms\\.venv\\lib\\site-packages (from ipykernel) (0.1.2)\n",
      "Requirement already satisfied: debugpy>=1.6.5 in d:\\datasciencewithms\\datasciencewithms\\.venv\\lib\\site-packages (from ipykernel) (1.6.6)\n",
      "Requirement already satisfied: ipython>=7.23.1 in d:\\datasciencewithms\\datasciencewithms\\.venv\\lib\\site-packages (from ipykernel) (8.11.0)\n",
      "Requirement already satisfied: jupyter-client>=6.1.12 in d:\\datasciencewithms\\datasciencewithms\\.venv\\lib\\site-packages (from ipykernel) (8.0.3)\n",
      "Requirement already satisfied: jupyter-core!=5.0.*,>=4.12 in d:\\datasciencewithms\\datasciencewithms\\.venv\\lib\\site-packages (from ipykernel) (5.2.0)\n",
      "Requirement already satisfied: matplotlib-inline>=0.1 in d:\\datasciencewithms\\datasciencewithms\\.venv\\lib\\site-packages (from ipykernel) (0.1.6)\n",
      "Requirement already satisfied: nest-asyncio in d:\\datasciencewithms\\datasciencewithms\\.venv\\lib\\site-packages (from ipykernel) (1.5.6)\n",
      "Requirement already satisfied: packaging in d:\\datasciencewithms\\datasciencewithms\\.venv\\lib\\site-packages (from ipykernel) (23.0)\n",
      "Requirement already satisfied: psutil in d:\\datasciencewithms\\datasciencewithms\\.venv\\lib\\site-packages (from ipykernel) (5.9.4)\n",
      "Requirement already satisfied: pyzmq>=20 in d:\\datasciencewithms\\datasciencewithms\\.venv\\lib\\site-packages (from ipykernel) (25.0.0)\n",
      "Requirement already satisfied: tornado>=6.1 in d:\\datasciencewithms\\datasciencewithms\\.venv\\lib\\site-packages (from ipykernel) (6.2)\n",
      "Requirement already satisfied: traitlets>=5.4.0 in d:\\datasciencewithms\\datasciencewithms\\.venv\\lib\\site-packages (from ipykernel) (5.9.0)\n",
      "Requirement already satisfied: backcall in d:\\datasciencewithms\\datasciencewithms\\.venv\\lib\\site-packages (from ipython>=7.23.1->ipykernel) (0.2.0)\n",
      "Requirement already satisfied: decorator in d:\\datasciencewithms\\datasciencewithms\\.venv\\lib\\site-packages (from ipython>=7.23.1->ipykernel) (5.1.1)\n",
      "Requirement already satisfied: jedi>=0.16 in d:\\datasciencewithms\\datasciencewithms\\.venv\\lib\\site-packages (from ipython>=7.23.1->ipykernel) (0.18.2)\n",
      "Requirement already satisfied: pickleshare in d:\\datasciencewithms\\datasciencewithms\\.venv\\lib\\site-packages (from ipython>=7.23.1->ipykernel) (0.7.5)\n",
      "Requirement already satisfied: prompt-toolkit!=3.0.37,<3.1.0,>=3.0.30 in d:\\datasciencewithms\\datasciencewithms\\.venv\\lib\\site-packages (from ipython>=7.23.1->ipykernel) (3.0.38)\n",
      "Requirement already satisfied: pygments>=2.4.0 in d:\\datasciencewithms\\datasciencewithms\\.venv\\lib\\site-packages (from ipython>=7.23.1->ipykernel) (2.14.0)\n",
      "Requirement already satisfied: stack-data in d:\\datasciencewithms\\datasciencewithms\\.venv\\lib\\site-packages (from ipython>=7.23.1->ipykernel) (0.6.2)\n",
      "Requirement already satisfied: colorama in d:\\datasciencewithms\\datasciencewithms\\.venv\\lib\\site-packages (from ipython>=7.23.1->ipykernel) (0.4.6)\n",
      "Requirement already satisfied: python-dateutil>=2.8.2 in d:\\datasciencewithms\\datasciencewithms\\.venv\\lib\\site-packages (from jupyter-client>=6.1.12->ipykernel) (2.8.2)\n",
      "Requirement already satisfied: platformdirs>=2.5 in d:\\datasciencewithms\\datasciencewithms\\.venv\\lib\\site-packages (from jupyter-core!=5.0.*,>=4.12->ipykernel) (3.1.1)\n",
      "Requirement already satisfied: pywin32>=1.0 in d:\\datasciencewithms\\datasciencewithms\\.venv\\lib\\site-packages (from jupyter-core!=5.0.*,>=4.12->ipykernel) (305)\n",
      "Requirement already satisfied: parso<0.9.0,>=0.8.0 in d:\\datasciencewithms\\datasciencewithms\\.venv\\lib\\site-packages (from jedi>=0.16->ipython>=7.23.1->ipykernel) (0.8.3)\n",
      "Requirement already satisfied: wcwidth in d:\\datasciencewithms\\datasciencewithms\\.venv\\lib\\site-packages (from prompt-toolkit!=3.0.37,<3.1.0,>=3.0.30->ipython>=7.23.1->ipykernel) (0.2.6)\n",
      "Requirement already satisfied: six>=1.5 in d:\\datasciencewithms\\datasciencewithms\\.venv\\lib\\site-packages (from python-dateutil>=2.8.2->jupyter-client>=6.1.12->ipykernel) (1.16.0)\n",
      "Requirement already satisfied: executing>=1.2.0 in d:\\datasciencewithms\\datasciencewithms\\.venv\\lib\\site-packages (from stack-data->ipython>=7.23.1->ipykernel) (1.2.0)\n",
      "Requirement already satisfied: asttokens>=2.1.0 in d:\\datasciencewithms\\datasciencewithms\\.venv\\lib\\site-packages (from stack-data->ipython>=7.23.1->ipykernel) (2.2.1)\n",
      "Requirement already satisfied: pure-eval in d:\\datasciencewithms\\datasciencewithms\\.venv\\lib\\site-packages (from stack-data->ipython>=7.23.1->ipykernel) (0.2.2)\n"
     ]
    }
   ],
   "source": [
    "pip install ipykernel"
   ]
  },
  {
   "cell_type": "code",
   "execution_count": 29,
   "metadata": {},
   "outputs": [
    {
     "name": "stdout",
     "output_type": "stream",
     "text": [
      "Requirement already satisfied: nbformat in d:\\datasciencewithms\\datasciencewithms\\.venv\\lib\\site-packages (5.9.2)\n",
      "Requirement already satisfied: fastjsonschema in d:\\datasciencewithms\\datasciencewithms\\.venv\\lib\\site-packages (from nbformat) (2.16.3)\n",
      "Requirement already satisfied: jsonschema>=2.6 in d:\\datasciencewithms\\datasciencewithms\\.venv\\lib\\site-packages (from nbformat) (4.17.3)\n",
      "Requirement already satisfied: jupyter-core in d:\\datasciencewithms\\datasciencewithms\\.venv\\lib\\site-packages (from nbformat) (5.2.0)\n",
      "Requirement already satisfied: traitlets>=5.1 in d:\\datasciencewithms\\datasciencewithms\\.venv\\lib\\site-packages (from nbformat) (5.9.0)\n",
      "Requirement already satisfied: attrs>=17.4.0 in d:\\datasciencewithms\\datasciencewithms\\.venv\\lib\\site-packages (from jsonschema>=2.6->nbformat) (22.2.0)\n",
      "Requirement already satisfied: pyrsistent!=0.17.0,!=0.17.1,!=0.17.2,>=0.14.0 in d:\\datasciencewithms\\datasciencewithms\\.venv\\lib\\site-packages (from jsonschema>=2.6->nbformat) (0.19.3)\n",
      "Requirement already satisfied: platformdirs>=2.5 in d:\\datasciencewithms\\datasciencewithms\\.venv\\lib\\site-packages (from jupyter-core->nbformat) (3.1.1)\n",
      "Requirement already satisfied: pywin32>=1.0 in d:\\datasciencewithms\\datasciencewithms\\.venv\\lib\\site-packages (from jupyter-core->nbformat) (305)\n",
      "Note: you may need to restart the kernel to use updated packages.\n"
     ]
    },
    {
     "name": "stderr",
     "output_type": "stream",
     "text": [
      "\n",
      "[notice] A new release of pip is available: 23.0.1 -> 23.2.1\n",
      "[notice] To update, run: python.exe -m pip install --upgrade pip\n"
     ]
    }
   ],
   "source": [
    "pip install --upgrade nbformat"
   ]
  },
  {
   "cell_type": "code",
   "execution_count": 30,
   "metadata": {},
   "outputs": [
    {
     "data": {
      "application/vnd.plotly.v1+json": {
       "config": {
        "plotlyServerURL": "https://plot.ly"
       },
       "data": [
        {
         "labels": [
          0,
          1
         ],
         "type": "pie",
         "values": [
          9941,
          59
         ]
        }
       ],
       "layout": {
        "template": {
         "data": {
          "bar": [
           {
            "error_x": {
             "color": "#2a3f5f"
            },
            "error_y": {
             "color": "#2a3f5f"
            },
            "marker": {
             "line": {
              "color": "#E5ECF6",
              "width": 0.5
             },
             "pattern": {
              "fillmode": "overlay",
              "size": 10,
              "solidity": 0.2
             }
            },
            "type": "bar"
           }
          ],
          "barpolar": [
           {
            "marker": {
             "line": {
              "color": "#E5ECF6",
              "width": 0.5
             },
             "pattern": {
              "fillmode": "overlay",
              "size": 10,
              "solidity": 0.2
             }
            },
            "type": "barpolar"
           }
          ],
          "carpet": [
           {
            "aaxis": {
             "endlinecolor": "#2a3f5f",
             "gridcolor": "white",
             "linecolor": "white",
             "minorgridcolor": "white",
             "startlinecolor": "#2a3f5f"
            },
            "baxis": {
             "endlinecolor": "#2a3f5f",
             "gridcolor": "white",
             "linecolor": "white",
             "minorgridcolor": "white",
             "startlinecolor": "#2a3f5f"
            },
            "type": "carpet"
           }
          ],
          "choropleth": [
           {
            "colorbar": {
             "outlinewidth": 0,
             "ticks": ""
            },
            "type": "choropleth"
           }
          ],
          "contour": [
           {
            "colorbar": {
             "outlinewidth": 0,
             "ticks": ""
            },
            "colorscale": [
             [
              0,
              "#0d0887"
             ],
             [
              0.1111111111111111,
              "#46039f"
             ],
             [
              0.2222222222222222,
              "#7201a8"
             ],
             [
              0.3333333333333333,
              "#9c179e"
             ],
             [
              0.4444444444444444,
              "#bd3786"
             ],
             [
              0.5555555555555556,
              "#d8576b"
             ],
             [
              0.6666666666666666,
              "#ed7953"
             ],
             [
              0.7777777777777778,
              "#fb9f3a"
             ],
             [
              0.8888888888888888,
              "#fdca26"
             ],
             [
              1,
              "#f0f921"
             ]
            ],
            "type": "contour"
           }
          ],
          "contourcarpet": [
           {
            "colorbar": {
             "outlinewidth": 0,
             "ticks": ""
            },
            "type": "contourcarpet"
           }
          ],
          "heatmap": [
           {
            "colorbar": {
             "outlinewidth": 0,
             "ticks": ""
            },
            "colorscale": [
             [
              0,
              "#0d0887"
             ],
             [
              0.1111111111111111,
              "#46039f"
             ],
             [
              0.2222222222222222,
              "#7201a8"
             ],
             [
              0.3333333333333333,
              "#9c179e"
             ],
             [
              0.4444444444444444,
              "#bd3786"
             ],
             [
              0.5555555555555556,
              "#d8576b"
             ],
             [
              0.6666666666666666,
              "#ed7953"
             ],
             [
              0.7777777777777778,
              "#fb9f3a"
             ],
             [
              0.8888888888888888,
              "#fdca26"
             ],
             [
              1,
              "#f0f921"
             ]
            ],
            "type": "heatmap"
           }
          ],
          "heatmapgl": [
           {
            "colorbar": {
             "outlinewidth": 0,
             "ticks": ""
            },
            "colorscale": [
             [
              0,
              "#0d0887"
             ],
             [
              0.1111111111111111,
              "#46039f"
             ],
             [
              0.2222222222222222,
              "#7201a8"
             ],
             [
              0.3333333333333333,
              "#9c179e"
             ],
             [
              0.4444444444444444,
              "#bd3786"
             ],
             [
              0.5555555555555556,
              "#d8576b"
             ],
             [
              0.6666666666666666,
              "#ed7953"
             ],
             [
              0.7777777777777778,
              "#fb9f3a"
             ],
             [
              0.8888888888888888,
              "#fdca26"
             ],
             [
              1,
              "#f0f921"
             ]
            ],
            "type": "heatmapgl"
           }
          ],
          "histogram": [
           {
            "marker": {
             "pattern": {
              "fillmode": "overlay",
              "size": 10,
              "solidity": 0.2
             }
            },
            "type": "histogram"
           }
          ],
          "histogram2d": [
           {
            "colorbar": {
             "outlinewidth": 0,
             "ticks": ""
            },
            "colorscale": [
             [
              0,
              "#0d0887"
             ],
             [
              0.1111111111111111,
              "#46039f"
             ],
             [
              0.2222222222222222,
              "#7201a8"
             ],
             [
              0.3333333333333333,
              "#9c179e"
             ],
             [
              0.4444444444444444,
              "#bd3786"
             ],
             [
              0.5555555555555556,
              "#d8576b"
             ],
             [
              0.6666666666666666,
              "#ed7953"
             ],
             [
              0.7777777777777778,
              "#fb9f3a"
             ],
             [
              0.8888888888888888,
              "#fdca26"
             ],
             [
              1,
              "#f0f921"
             ]
            ],
            "type": "histogram2d"
           }
          ],
          "histogram2dcontour": [
           {
            "colorbar": {
             "outlinewidth": 0,
             "ticks": ""
            },
            "colorscale": [
             [
              0,
              "#0d0887"
             ],
             [
              0.1111111111111111,
              "#46039f"
             ],
             [
              0.2222222222222222,
              "#7201a8"
             ],
             [
              0.3333333333333333,
              "#9c179e"
             ],
             [
              0.4444444444444444,
              "#bd3786"
             ],
             [
              0.5555555555555556,
              "#d8576b"
             ],
             [
              0.6666666666666666,
              "#ed7953"
             ],
             [
              0.7777777777777778,
              "#fb9f3a"
             ],
             [
              0.8888888888888888,
              "#fdca26"
             ],
             [
              1,
              "#f0f921"
             ]
            ],
            "type": "histogram2dcontour"
           }
          ],
          "mesh3d": [
           {
            "colorbar": {
             "outlinewidth": 0,
             "ticks": ""
            },
            "type": "mesh3d"
           }
          ],
          "parcoords": [
           {
            "line": {
             "colorbar": {
              "outlinewidth": 0,
              "ticks": ""
             }
            },
            "type": "parcoords"
           }
          ],
          "pie": [
           {
            "automargin": true,
            "type": "pie"
           }
          ],
          "scatter": [
           {
            "fillpattern": {
             "fillmode": "overlay",
             "size": 10,
             "solidity": 0.2
            },
            "type": "scatter"
           }
          ],
          "scatter3d": [
           {
            "line": {
             "colorbar": {
              "outlinewidth": 0,
              "ticks": ""
             }
            },
            "marker": {
             "colorbar": {
              "outlinewidth": 0,
              "ticks": ""
             }
            },
            "type": "scatter3d"
           }
          ],
          "scattercarpet": [
           {
            "marker": {
             "colorbar": {
              "outlinewidth": 0,
              "ticks": ""
             }
            },
            "type": "scattercarpet"
           }
          ],
          "scattergeo": [
           {
            "marker": {
             "colorbar": {
              "outlinewidth": 0,
              "ticks": ""
             }
            },
            "type": "scattergeo"
           }
          ],
          "scattergl": [
           {
            "marker": {
             "colorbar": {
              "outlinewidth": 0,
              "ticks": ""
             }
            },
            "type": "scattergl"
           }
          ],
          "scattermapbox": [
           {
            "marker": {
             "colorbar": {
              "outlinewidth": 0,
              "ticks": ""
             }
            },
            "type": "scattermapbox"
           }
          ],
          "scatterpolar": [
           {
            "marker": {
             "colorbar": {
              "outlinewidth": 0,
              "ticks": ""
             }
            },
            "type": "scatterpolar"
           }
          ],
          "scatterpolargl": [
           {
            "marker": {
             "colorbar": {
              "outlinewidth": 0,
              "ticks": ""
             }
            },
            "type": "scatterpolargl"
           }
          ],
          "scatterternary": [
           {
            "marker": {
             "colorbar": {
              "outlinewidth": 0,
              "ticks": ""
             }
            },
            "type": "scatterternary"
           }
          ],
          "surface": [
           {
            "colorbar": {
             "outlinewidth": 0,
             "ticks": ""
            },
            "colorscale": [
             [
              0,
              "#0d0887"
             ],
             [
              0.1111111111111111,
              "#46039f"
             ],
             [
              0.2222222222222222,
              "#7201a8"
             ],
             [
              0.3333333333333333,
              "#9c179e"
             ],
             [
              0.4444444444444444,
              "#bd3786"
             ],
             [
              0.5555555555555556,
              "#d8576b"
             ],
             [
              0.6666666666666666,
              "#ed7953"
             ],
             [
              0.7777777777777778,
              "#fb9f3a"
             ],
             [
              0.8888888888888888,
              "#fdca26"
             ],
             [
              1,
              "#f0f921"
             ]
            ],
            "type": "surface"
           }
          ],
          "table": [
           {
            "cells": {
             "fill": {
              "color": "#EBF0F8"
             },
             "line": {
              "color": "white"
             }
            },
            "header": {
             "fill": {
              "color": "#C8D4E3"
             },
             "line": {
              "color": "white"
             }
            },
            "type": "table"
           }
          ]
         },
         "layout": {
          "annotationdefaults": {
           "arrowcolor": "#2a3f5f",
           "arrowhead": 0,
           "arrowwidth": 1
          },
          "autotypenumbers": "strict",
          "coloraxis": {
           "colorbar": {
            "outlinewidth": 0,
            "ticks": ""
           }
          },
          "colorscale": {
           "diverging": [
            [
             0,
             "#8e0152"
            ],
            [
             0.1,
             "#c51b7d"
            ],
            [
             0.2,
             "#de77ae"
            ],
            [
             0.3,
             "#f1b6da"
            ],
            [
             0.4,
             "#fde0ef"
            ],
            [
             0.5,
             "#f7f7f7"
            ],
            [
             0.6,
             "#e6f5d0"
            ],
            [
             0.7,
             "#b8e186"
            ],
            [
             0.8,
             "#7fbc41"
            ],
            [
             0.9,
             "#4d9221"
            ],
            [
             1,
             "#276419"
            ]
           ],
           "sequential": [
            [
             0,
             "#0d0887"
            ],
            [
             0.1111111111111111,
             "#46039f"
            ],
            [
             0.2222222222222222,
             "#7201a8"
            ],
            [
             0.3333333333333333,
             "#9c179e"
            ],
            [
             0.4444444444444444,
             "#bd3786"
            ],
            [
             0.5555555555555556,
             "#d8576b"
            ],
            [
             0.6666666666666666,
             "#ed7953"
            ],
            [
             0.7777777777777778,
             "#fb9f3a"
            ],
            [
             0.8888888888888888,
             "#fdca26"
            ],
            [
             1,
             "#f0f921"
            ]
           ],
           "sequentialminus": [
            [
             0,
             "#0d0887"
            ],
            [
             0.1111111111111111,
             "#46039f"
            ],
            [
             0.2222222222222222,
             "#7201a8"
            ],
            [
             0.3333333333333333,
             "#9c179e"
            ],
            [
             0.4444444444444444,
             "#bd3786"
            ],
            [
             0.5555555555555556,
             "#d8576b"
            ],
            [
             0.6666666666666666,
             "#ed7953"
            ],
            [
             0.7777777777777778,
             "#fb9f3a"
            ],
            [
             0.8888888888888888,
             "#fdca26"
            ],
            [
             1,
             "#f0f921"
            ]
           ]
          },
          "colorway": [
           "#636efa",
           "#EF553B",
           "#00cc96",
           "#ab63fa",
           "#FFA15A",
           "#19d3f3",
           "#FF6692",
           "#B6E880",
           "#FF97FF",
           "#FECB52"
          ],
          "font": {
           "color": "#2a3f5f"
          },
          "geo": {
           "bgcolor": "white",
           "lakecolor": "white",
           "landcolor": "#E5ECF6",
           "showlakes": true,
           "showland": true,
           "subunitcolor": "white"
          },
          "hoverlabel": {
           "align": "left"
          },
          "hovermode": "closest",
          "mapbox": {
           "style": "light"
          },
          "paper_bgcolor": "white",
          "plot_bgcolor": "#E5ECF6",
          "polar": {
           "angularaxis": {
            "gridcolor": "white",
            "linecolor": "white",
            "ticks": ""
           },
           "bgcolor": "#E5ECF6",
           "radialaxis": {
            "gridcolor": "white",
            "linecolor": "white",
            "ticks": ""
           }
          },
          "scene": {
           "xaxis": {
            "backgroundcolor": "#E5ECF6",
            "gridcolor": "white",
            "gridwidth": 2,
            "linecolor": "white",
            "showbackground": true,
            "ticks": "",
            "zerolinecolor": "white"
           },
           "yaxis": {
            "backgroundcolor": "#E5ECF6",
            "gridcolor": "white",
            "gridwidth": 2,
            "linecolor": "white",
            "showbackground": true,
            "ticks": "",
            "zerolinecolor": "white"
           },
           "zaxis": {
            "backgroundcolor": "#E5ECF6",
            "gridcolor": "white",
            "gridwidth": 2,
            "linecolor": "white",
            "showbackground": true,
            "ticks": "",
            "zerolinecolor": "white"
           }
          },
          "shapedefaults": {
           "line": {
            "color": "#2a3f5f"
           }
          },
          "ternary": {
           "aaxis": {
            "gridcolor": "white",
            "linecolor": "white",
            "ticks": ""
           },
           "baxis": {
            "gridcolor": "white",
            "linecolor": "white",
            "ticks": ""
           },
           "bgcolor": "#E5ECF6",
           "caxis": {
            "gridcolor": "white",
            "linecolor": "white",
            "ticks": ""
           }
          },
          "title": {
           "x": 0.05
          },
          "xaxis": {
           "automargin": true,
           "gridcolor": "white",
           "linecolor": "white",
           "ticks": "",
           "title": {
            "standoff": 15
           },
           "zerolinecolor": "white",
           "zerolinewidth": 2
          },
          "yaxis": {
           "automargin": true,
           "gridcolor": "white",
           "linecolor": "white",
           "ticks": "",
           "title": {
            "standoff": 15
           },
           "zerolinecolor": "white",
           "zerolinewidth": 2
          }
         }
        }
       }
      }
     },
     "metadata": {},
     "output_type": "display_data"
    }
   ],
   "source": [
    "fig.show()"
   ]
  },
  {
   "attachments": {},
   "cell_type": "markdown",
   "metadata": {},
   "source": [
    "Observation: \n",
    "We have less than 1% of Fraudlent cases."
   ]
  },
  {
   "attachments": {},
   "cell_type": "markdown",
   "metadata": {},
   "source": [
    "Category Frequencies."
   ]
  },
  {
   "cell_type": "code",
   "execution_count": 31,
   "metadata": {},
   "outputs": [
    {
     "data": {
      "application/vnd.plotly.v1+json": {
       "config": {
        "plotlyServerURL": "https://plot.ly"
       },
       "data": [
        {
         "type": "bar",
         "x": [
          "gas_transport",
          "home",
          "grocery_pos",
          "shopping_pos",
          "kids_pets",
          "shopping_net",
          "food_dining",
          "entertainment",
          "personal_care",
          "health_fitness",
          "misc_pos",
          "misc_net",
          "grocery_net",
          "travel"
         ],
         "y": [
          1033,
          973,
          938,
          925,
          838,
          754,
          733,
          727,
          699,
          644,
          622,
          464,
          347,
          303
         ]
        }
       ],
       "layout": {
        "template": {
         "data": {
          "bar": [
           {
            "error_x": {
             "color": "#2a3f5f"
            },
            "error_y": {
             "color": "#2a3f5f"
            },
            "marker": {
             "line": {
              "color": "#E5ECF6",
              "width": 0.5
             },
             "pattern": {
              "fillmode": "overlay",
              "size": 10,
              "solidity": 0.2
             }
            },
            "type": "bar"
           }
          ],
          "barpolar": [
           {
            "marker": {
             "line": {
              "color": "#E5ECF6",
              "width": 0.5
             },
             "pattern": {
              "fillmode": "overlay",
              "size": 10,
              "solidity": 0.2
             }
            },
            "type": "barpolar"
           }
          ],
          "carpet": [
           {
            "aaxis": {
             "endlinecolor": "#2a3f5f",
             "gridcolor": "white",
             "linecolor": "white",
             "minorgridcolor": "white",
             "startlinecolor": "#2a3f5f"
            },
            "baxis": {
             "endlinecolor": "#2a3f5f",
             "gridcolor": "white",
             "linecolor": "white",
             "minorgridcolor": "white",
             "startlinecolor": "#2a3f5f"
            },
            "type": "carpet"
           }
          ],
          "choropleth": [
           {
            "colorbar": {
             "outlinewidth": 0,
             "ticks": ""
            },
            "type": "choropleth"
           }
          ],
          "contour": [
           {
            "colorbar": {
             "outlinewidth": 0,
             "ticks": ""
            },
            "colorscale": [
             [
              0,
              "#0d0887"
             ],
             [
              0.1111111111111111,
              "#46039f"
             ],
             [
              0.2222222222222222,
              "#7201a8"
             ],
             [
              0.3333333333333333,
              "#9c179e"
             ],
             [
              0.4444444444444444,
              "#bd3786"
             ],
             [
              0.5555555555555556,
              "#d8576b"
             ],
             [
              0.6666666666666666,
              "#ed7953"
             ],
             [
              0.7777777777777778,
              "#fb9f3a"
             ],
             [
              0.8888888888888888,
              "#fdca26"
             ],
             [
              1,
              "#f0f921"
             ]
            ],
            "type": "contour"
           }
          ],
          "contourcarpet": [
           {
            "colorbar": {
             "outlinewidth": 0,
             "ticks": ""
            },
            "type": "contourcarpet"
           }
          ],
          "heatmap": [
           {
            "colorbar": {
             "outlinewidth": 0,
             "ticks": ""
            },
            "colorscale": [
             [
              0,
              "#0d0887"
             ],
             [
              0.1111111111111111,
              "#46039f"
             ],
             [
              0.2222222222222222,
              "#7201a8"
             ],
             [
              0.3333333333333333,
              "#9c179e"
             ],
             [
              0.4444444444444444,
              "#bd3786"
             ],
             [
              0.5555555555555556,
              "#d8576b"
             ],
             [
              0.6666666666666666,
              "#ed7953"
             ],
             [
              0.7777777777777778,
              "#fb9f3a"
             ],
             [
              0.8888888888888888,
              "#fdca26"
             ],
             [
              1,
              "#f0f921"
             ]
            ],
            "type": "heatmap"
           }
          ],
          "heatmapgl": [
           {
            "colorbar": {
             "outlinewidth": 0,
             "ticks": ""
            },
            "colorscale": [
             [
              0,
              "#0d0887"
             ],
             [
              0.1111111111111111,
              "#46039f"
             ],
             [
              0.2222222222222222,
              "#7201a8"
             ],
             [
              0.3333333333333333,
              "#9c179e"
             ],
             [
              0.4444444444444444,
              "#bd3786"
             ],
             [
              0.5555555555555556,
              "#d8576b"
             ],
             [
              0.6666666666666666,
              "#ed7953"
             ],
             [
              0.7777777777777778,
              "#fb9f3a"
             ],
             [
              0.8888888888888888,
              "#fdca26"
             ],
             [
              1,
              "#f0f921"
             ]
            ],
            "type": "heatmapgl"
           }
          ],
          "histogram": [
           {
            "marker": {
             "pattern": {
              "fillmode": "overlay",
              "size": 10,
              "solidity": 0.2
             }
            },
            "type": "histogram"
           }
          ],
          "histogram2d": [
           {
            "colorbar": {
             "outlinewidth": 0,
             "ticks": ""
            },
            "colorscale": [
             [
              0,
              "#0d0887"
             ],
             [
              0.1111111111111111,
              "#46039f"
             ],
             [
              0.2222222222222222,
              "#7201a8"
             ],
             [
              0.3333333333333333,
              "#9c179e"
             ],
             [
              0.4444444444444444,
              "#bd3786"
             ],
             [
              0.5555555555555556,
              "#d8576b"
             ],
             [
              0.6666666666666666,
              "#ed7953"
             ],
             [
              0.7777777777777778,
              "#fb9f3a"
             ],
             [
              0.8888888888888888,
              "#fdca26"
             ],
             [
              1,
              "#f0f921"
             ]
            ],
            "type": "histogram2d"
           }
          ],
          "histogram2dcontour": [
           {
            "colorbar": {
             "outlinewidth": 0,
             "ticks": ""
            },
            "colorscale": [
             [
              0,
              "#0d0887"
             ],
             [
              0.1111111111111111,
              "#46039f"
             ],
             [
              0.2222222222222222,
              "#7201a8"
             ],
             [
              0.3333333333333333,
              "#9c179e"
             ],
             [
              0.4444444444444444,
              "#bd3786"
             ],
             [
              0.5555555555555556,
              "#d8576b"
             ],
             [
              0.6666666666666666,
              "#ed7953"
             ],
             [
              0.7777777777777778,
              "#fb9f3a"
             ],
             [
              0.8888888888888888,
              "#fdca26"
             ],
             [
              1,
              "#f0f921"
             ]
            ],
            "type": "histogram2dcontour"
           }
          ],
          "mesh3d": [
           {
            "colorbar": {
             "outlinewidth": 0,
             "ticks": ""
            },
            "type": "mesh3d"
           }
          ],
          "parcoords": [
           {
            "line": {
             "colorbar": {
              "outlinewidth": 0,
              "ticks": ""
             }
            },
            "type": "parcoords"
           }
          ],
          "pie": [
           {
            "automargin": true,
            "type": "pie"
           }
          ],
          "scatter": [
           {
            "fillpattern": {
             "fillmode": "overlay",
             "size": 10,
             "solidity": 0.2
            },
            "type": "scatter"
           }
          ],
          "scatter3d": [
           {
            "line": {
             "colorbar": {
              "outlinewidth": 0,
              "ticks": ""
             }
            },
            "marker": {
             "colorbar": {
              "outlinewidth": 0,
              "ticks": ""
             }
            },
            "type": "scatter3d"
           }
          ],
          "scattercarpet": [
           {
            "marker": {
             "colorbar": {
              "outlinewidth": 0,
              "ticks": ""
             }
            },
            "type": "scattercarpet"
           }
          ],
          "scattergeo": [
           {
            "marker": {
             "colorbar": {
              "outlinewidth": 0,
              "ticks": ""
             }
            },
            "type": "scattergeo"
           }
          ],
          "scattergl": [
           {
            "marker": {
             "colorbar": {
              "outlinewidth": 0,
              "ticks": ""
             }
            },
            "type": "scattergl"
           }
          ],
          "scattermapbox": [
           {
            "marker": {
             "colorbar": {
              "outlinewidth": 0,
              "ticks": ""
             }
            },
            "type": "scattermapbox"
           }
          ],
          "scatterpolar": [
           {
            "marker": {
             "colorbar": {
              "outlinewidth": 0,
              "ticks": ""
             }
            },
            "type": "scatterpolar"
           }
          ],
          "scatterpolargl": [
           {
            "marker": {
             "colorbar": {
              "outlinewidth": 0,
              "ticks": ""
             }
            },
            "type": "scatterpolargl"
           }
          ],
          "scatterternary": [
           {
            "marker": {
             "colorbar": {
              "outlinewidth": 0,
              "ticks": ""
             }
            },
            "type": "scatterternary"
           }
          ],
          "surface": [
           {
            "colorbar": {
             "outlinewidth": 0,
             "ticks": ""
            },
            "colorscale": [
             [
              0,
              "#0d0887"
             ],
             [
              0.1111111111111111,
              "#46039f"
             ],
             [
              0.2222222222222222,
              "#7201a8"
             ],
             [
              0.3333333333333333,
              "#9c179e"
             ],
             [
              0.4444444444444444,
              "#bd3786"
             ],
             [
              0.5555555555555556,
              "#d8576b"
             ],
             [
              0.6666666666666666,
              "#ed7953"
             ],
             [
              0.7777777777777778,
              "#fb9f3a"
             ],
             [
              0.8888888888888888,
              "#fdca26"
             ],
             [
              1,
              "#f0f921"
             ]
            ],
            "type": "surface"
           }
          ],
          "table": [
           {
            "cells": {
             "fill": {
              "color": "#EBF0F8"
             },
             "line": {
              "color": "white"
             }
            },
            "header": {
             "fill": {
              "color": "#C8D4E3"
             },
             "line": {
              "color": "white"
             }
            },
            "type": "table"
           }
          ]
         },
         "layout": {
          "annotationdefaults": {
           "arrowcolor": "#2a3f5f",
           "arrowhead": 0,
           "arrowwidth": 1
          },
          "autotypenumbers": "strict",
          "coloraxis": {
           "colorbar": {
            "outlinewidth": 0,
            "ticks": ""
           }
          },
          "colorscale": {
           "diverging": [
            [
             0,
             "#8e0152"
            ],
            [
             0.1,
             "#c51b7d"
            ],
            [
             0.2,
             "#de77ae"
            ],
            [
             0.3,
             "#f1b6da"
            ],
            [
             0.4,
             "#fde0ef"
            ],
            [
             0.5,
             "#f7f7f7"
            ],
            [
             0.6,
             "#e6f5d0"
            ],
            [
             0.7,
             "#b8e186"
            ],
            [
             0.8,
             "#7fbc41"
            ],
            [
             0.9,
             "#4d9221"
            ],
            [
             1,
             "#276419"
            ]
           ],
           "sequential": [
            [
             0,
             "#0d0887"
            ],
            [
             0.1111111111111111,
             "#46039f"
            ],
            [
             0.2222222222222222,
             "#7201a8"
            ],
            [
             0.3333333333333333,
             "#9c179e"
            ],
            [
             0.4444444444444444,
             "#bd3786"
            ],
            [
             0.5555555555555556,
             "#d8576b"
            ],
            [
             0.6666666666666666,
             "#ed7953"
            ],
            [
             0.7777777777777778,
             "#fb9f3a"
            ],
            [
             0.8888888888888888,
             "#fdca26"
            ],
            [
             1,
             "#f0f921"
            ]
           ],
           "sequentialminus": [
            [
             0,
             "#0d0887"
            ],
            [
             0.1111111111111111,
             "#46039f"
            ],
            [
             0.2222222222222222,
             "#7201a8"
            ],
            [
             0.3333333333333333,
             "#9c179e"
            ],
            [
             0.4444444444444444,
             "#bd3786"
            ],
            [
             0.5555555555555556,
             "#d8576b"
            ],
            [
             0.6666666666666666,
             "#ed7953"
            ],
            [
             0.7777777777777778,
             "#fb9f3a"
            ],
            [
             0.8888888888888888,
             "#fdca26"
            ],
            [
             1,
             "#f0f921"
            ]
           ]
          },
          "colorway": [
           "#636efa",
           "#EF553B",
           "#00cc96",
           "#ab63fa",
           "#FFA15A",
           "#19d3f3",
           "#FF6692",
           "#B6E880",
           "#FF97FF",
           "#FECB52"
          ],
          "font": {
           "color": "#2a3f5f"
          },
          "geo": {
           "bgcolor": "white",
           "lakecolor": "white",
           "landcolor": "#E5ECF6",
           "showlakes": true,
           "showland": true,
           "subunitcolor": "white"
          },
          "hoverlabel": {
           "align": "left"
          },
          "hovermode": "closest",
          "mapbox": {
           "style": "light"
          },
          "paper_bgcolor": "white",
          "plot_bgcolor": "#E5ECF6",
          "polar": {
           "angularaxis": {
            "gridcolor": "white",
            "linecolor": "white",
            "ticks": ""
           },
           "bgcolor": "#E5ECF6",
           "radialaxis": {
            "gridcolor": "white",
            "linecolor": "white",
            "ticks": ""
           }
          },
          "scene": {
           "xaxis": {
            "backgroundcolor": "#E5ECF6",
            "gridcolor": "white",
            "gridwidth": 2,
            "linecolor": "white",
            "showbackground": true,
            "ticks": "",
            "zerolinecolor": "white"
           },
           "yaxis": {
            "backgroundcolor": "#E5ECF6",
            "gridcolor": "white",
            "gridwidth": 2,
            "linecolor": "white",
            "showbackground": true,
            "ticks": "",
            "zerolinecolor": "white"
           },
           "zaxis": {
            "backgroundcolor": "#E5ECF6",
            "gridcolor": "white",
            "gridwidth": 2,
            "linecolor": "white",
            "showbackground": true,
            "ticks": "",
            "zerolinecolor": "white"
           }
          },
          "shapedefaults": {
           "line": {
            "color": "#2a3f5f"
           }
          },
          "ternary": {
           "aaxis": {
            "gridcolor": "white",
            "linecolor": "white",
            "ticks": ""
           },
           "baxis": {
            "gridcolor": "white",
            "linecolor": "white",
            "ticks": ""
           },
           "bgcolor": "#E5ECF6",
           "caxis": {
            "gridcolor": "white",
            "linecolor": "white",
            "ticks": ""
           }
          },
          "title": {
           "x": 0.05
          },
          "xaxis": {
           "automargin": true,
           "gridcolor": "white",
           "linecolor": "white",
           "ticks": "",
           "title": {
            "standoff": 15
           },
           "zerolinecolor": "white",
           "zerolinewidth": 2
          },
          "yaxis": {
           "automargin": true,
           "gridcolor": "white",
           "linecolor": "white",
           "ticks": "",
           "title": {
            "standoff": 15
           },
           "zerolinecolor": "white",
           "zerolinewidth": 2
          }
         }
        }
       }
      }
     },
     "metadata": {},
     "output_type": "display_data"
    }
   ],
   "source": [
    "labels = list(data['category'].value_counts().index)\n",
    "values = list(data['category'].value_counts().values)\n",
    "\n",
    "#use textposition  = \"auto\" for direct text.\n",
    "\n",
    "fig = go.Figure(data = [go.Bar(x = labels, y = values)])\n",
    "\n",
    "fig.show()"
   ]
  },
  {
   "attachments": {},
   "cell_type": "markdown",
   "metadata": {},
   "source": [
    "Observation:\n",
    "\n",
    "Most Transaction falls into gas_transport and the least is travel."
   ]
  },
  {
   "attachments": {},
   "cell_type": "markdown",
   "metadata": {},
   "source": [
    "Question : 3\n",
    "\n",
    "Amount Distribution.\n"
   ]
  },
  {
   "cell_type": "code",
   "execution_count": 32,
   "metadata": {},
   "outputs": [
    {
     "data": {
      "application/vnd.plotly.v1+json": {
       "config": {
        "plotlyServerURL": "https://plot.ly"
       },
       "data": [
        {
         "alignmentgroup": "True",
         "hovertemplate": "amt=%{x}<extra></extra>",
         "legendgroup": "",
         "marker": {
          "color": "#636efa"
         },
         "name": "",
         "notched": false,
         "offsetgroup": "",
         "orientation": "h",
         "showlegend": false,
         "type": "box",
         "x": [
          194.51,
          52.32,
          6.53,
          7.33,
          64.29,
          129.8,
          111.1,
          8.43,
          2.36,
          88,
          124.45,
          88.58,
          56.75,
          2.02,
          7.36,
          62.97,
          35.81,
          49.03,
          65.28,
          28.87,
          37.44,
          77.29,
          42.05,
          58.1,
          57.23,
          53.98,
          1.89,
          5.61,
          69.63,
          36.15,
          75.75,
          13.35,
          40.84,
          16.02,
          15.11,
          55.8,
          32.98,
          2.97,
          20.16,
          23.46,
          3.43,
          39.68,
          2.59,
          41.51,
          70.14,
          4.93,
          118.41,
          15.01,
          113.31,
          65.36,
          2.14,
          40.71,
          176.39,
          102.87,
          207.59,
          20.57,
          71.49,
          91.26,
          55.28,
          51.24,
          98.04,
          80.46,
          15.95,
          80.82,
          16.87,
          46.31,
          94.37,
          6.53,
          123.22,
          6.8,
          73.25,
          17.18,
          91.14,
          65.12,
          9.33,
          6.28,
          65.26,
          67.69,
          9.37,
          9.79,
          48.91,
          16.31,
          27.78,
          87.55,
          51.25,
          32.93,
          77.16,
          215.94,
          47.74,
          84.94,
          24.67,
          63.84,
          44.38,
          66.32,
          95.04,
          103.97,
          45.15,
          56.15,
          125.25,
          134.66,
          74.04,
          144.46,
          38.6,
          26.39,
          121.21,
          76.83,
          75.58,
          1.34,
          130.42,
          43.18,
          66.94,
          22.25,
          40.28,
          29.62,
          118.22,
          30.73,
          49.46,
          27.24,
          13.02,
          43.8,
          76.25,
          180.96,
          3.11,
          8.97,
          1.88,
          23.1,
          7.62,
          105.14,
          1.3,
          6.43,
          73.69,
          37.62,
          1.86,
          70.64,
          77.54,
          69.45,
          56.09,
          538.64,
          1.17,
          59.51,
          55.58,
          126.83,
          129.25,
          1047.6,
          8.15,
          34.54,
          35.63,
          121.9,
          32.06,
          92.73,
          234.36,
          9.79,
          3.87,
          1.28,
          7.89,
          4.12,
          69.57,
          8.72,
          8.25,
          55.98,
          75.23,
          48.56,
          72.53,
          448.33,
          2.98,
          85.08,
          186.74,
          2.45,
          1.38,
          143.5,
          7.66,
          37.04,
          6.19,
          2.06,
          4.91,
          5.44,
          15.22,
          8.34,
          33.62,
          3.38,
          456.21,
          41.18,
          66.37,
          285.37,
          23.86,
          71.44,
          189.4,
          48.08,
          21.61,
          6.21,
          26.19,
          30.55,
          8.93,
          67.35,
          10.32,
          46.73,
          123.37,
          35.22,
          8.95,
          6.92,
          116.33,
          7.67,
          1.56,
          81.78,
          189.85,
          2.95,
          8.62,
          42.99,
          21.95,
          155.4,
          2.81,
          4.67,
          36.99,
          411.18,
          1.02,
          162.42,
          13.49,
          2.6,
          102.91,
          130.24,
          139.78,
          103.66,
          92.82,
          53.06,
          94.73,
          53.17,
          28.32,
          191.49,
          93.98,
          620.4,
          70.89,
          5.74,
          24.51,
          61.61,
          75.74,
          87.11,
          185.75,
          41.85,
          1.96,
          54.52,
          60.96,
          100.43,
          58.66,
          62.83,
          9.31,
          102.1,
          128.48,
          37.01,
          213.6,
          66.39,
          6.55,
          26.07,
          67.22,
          5.48,
          20.98,
          46.46,
          105,
          113.57,
          38.9,
          4.48,
          70.15,
          48.36,
          15.43,
          25.22,
          8.45,
          71.42,
          85.93,
          5.95,
          131.32,
          828.37,
          76.6,
          199.06,
          217.25,
          127.12,
          55.79,
          37.29,
          74.06,
          38.16,
          207.8,
          64.35,
          128.24,
          117.73,
          38.03,
          2.43,
          7.48,
          1.31,
          109.77,
          128.15,
          166.2,
          2.35,
          1091.97,
          188.98,
          131.39,
          78.92,
          73.64,
          29.37,
          72.17,
          24.29,
          86.89,
          26.74,
          44.2,
          117.67,
          2.93,
          29.43,
          50.05,
          64.87,
          169.35,
          7.43,
          6.87,
          9.46,
          42.33,
          9.92,
          7.25,
          39.8,
          4.08,
          84.22,
          62.81,
          18.64,
          88.36,
          21.74,
          2.61,
          2.44,
          82.48,
          54.42,
          8.53,
          66.6,
          68.58,
          144.92,
          61.02,
          7.86,
          72.41,
          74.87,
          85.92,
          27.01,
          20.39,
          89.78,
          8.48,
          29.39,
          56.42,
          65.33,
          1.33,
          38.69,
          49.33,
          29.74,
          28.74,
          7.51,
          72.11,
          2.39,
          20.56,
          177.53,
          30.41,
          38.23,
          50.35,
          8.04,
          65.68,
          15.99,
          81.77,
          42.56,
          65.19,
          42.23,
          148.12,
          4.96,
          80.25,
          98.24,
          4.09,
          22.63,
          70.78,
          492,
          82.1,
          4.43,
          74.03,
          64.67,
          4.34,
          88.96,
          45.06,
          63.82,
          59.41,
          78.14,
          84.04,
          395.33,
          39.34,
          183.14,
          46.47,
          65.45,
          108.37,
          107.41,
          53.12,
          7.04,
          35.88,
          9.18,
          78.24,
          72.14,
          8.61,
          2.69,
          201.13,
          10.82,
          54.45,
          40.63,
          12.3,
          8.02,
          149.19,
          73.68,
          193.37,
          6.6,
          56.18,
          47.34,
          15.91,
          55.92,
          88.11,
          119.89,
          2.69,
          168.63,
          30.8,
          135.26,
          31.35,
          211.73,
          4.98,
          56.55,
          93.25,
          9.78,
          3,
          75.73,
          5.22,
          6.2,
          57.43,
          55.26,
          23.12,
          247.59,
          79.75,
          13.52,
          659.31,
          95.9,
          39.53,
          28.84,
          41.44,
          39.65,
          51.24,
          8.78,
          51.08,
          26.08,
          597.59,
          117.28,
          87.89,
          4.99,
          120.19,
          55.2,
          3.97,
          127.74,
          106.82,
          199.96,
          67.34,
          72.07,
          91.94,
          9.93,
          149.25,
          9.75,
          67.94,
          47.25,
          112.58,
          76.82,
          1.63,
          1.38,
          11.15,
          52.54,
          93.65,
          2.51,
          75.33,
          2.82,
          12.38,
          46.38,
          43.05,
          5.91,
          2.19,
          64.48,
          44.29,
          3.43,
          120.6,
          56.44,
          47.01,
          73.99,
          89.87,
          125.9,
          76.78,
          27.95,
          43.97,
          6.56,
          71.45,
          32.44,
          40.35,
          1.91,
          8.95,
          6.48,
          94.52,
          49.38,
          131,
          78.76,
          4.54,
          72.59,
          24.36,
          15.62,
          17.96,
          54.57,
          75.82,
          16.17,
          74.23,
          5.12,
          32.74,
          78.12,
          7.83,
          34.31,
          139.14,
          59.57,
          65.01,
          205.03,
          4.41,
          1.41,
          1.46,
          48.09,
          2.12,
          171.76,
          48.46,
          8.49,
          5.04,
          3.66,
          73.56,
          7.27,
          89.5,
          44.87,
          35.35,
          26.91,
          76.68,
          92.56,
          9.62,
          6.6,
          5.46,
          67.51,
          8.33,
          44.71,
          86.11,
          84.48,
          68.16,
          6.62,
          45.3,
          157.86,
          5.07,
          116.72,
          81.52,
          44.89,
          110.98,
          62.44,
          32.53,
          101.27,
          122.34,
          25.9,
          56.85,
          50.97,
          36.08,
          32.73,
          64.38,
          54.51,
          7.12,
          64.02,
          37.09,
          42.84,
          7.79,
          7.32,
          34.32,
          32.02,
          203.31,
          20.84,
          48.9,
          139.53,
          50.99,
          39.47,
          96.65,
          99.58,
          52.05,
          4.81,
          13.06,
          17.11,
          11.24,
          83.33,
          10,
          45.66,
          42.91,
          24.36,
          4.57,
          108.62,
          84.16,
          62.77,
          30.17,
          15.28,
          119.28,
          176.38,
          102.34,
          68.02,
          66.53,
          121.6,
          1.59,
          33.14,
          86.32,
          46.42,
          6.95,
          48.61,
          150.33,
          63.97,
          293.09,
          34.06,
          65.81,
          64.55,
          30.81,
          44.92,
          276.31,
          66.06,
          8.82,
          79.69,
          5.19,
          1.6,
          26.96,
          14.61,
          10.56,
          261.28,
          429.93,
          115.32,
          87.35,
          36.58,
          2.11,
          61.25,
          56.19,
          13.7,
          36.49,
          4.88,
          7.9,
          42.32,
          114.78,
          84.86,
          7.82,
          26.39,
          75.43,
          8.35,
          4.52,
          74.83,
          120.08,
          146.71,
          39.75,
          90.58,
          60.33,
          50.2,
          125.98,
          14.63,
          3.06,
          483.73,
          542.47,
          118.46,
          94.65,
          85.17,
          66.92,
          54.4,
          87.57,
          20.14,
          4.45,
          6.73,
          125.52,
          102.07,
          125.38,
          5.14,
          1.53,
          131.39,
          1.39,
          29.92,
          29.99,
          39.46,
          3.01,
          202.67,
          8.07,
          57.47,
          68.23,
          30.29,
          72.09,
          8.23,
          50.03,
          117.75,
          103.68,
          74.05,
          1.65,
          80.1,
          33.44,
          7.9,
          85.57,
          8.1,
          204.44,
          183.67,
          5.68,
          63.1,
          77.91,
          64.5,
          9.02,
          26.67,
          1.14,
          29.67,
          23.09,
          51.73,
          19.15,
          1.76,
          41.62,
          5.64,
          717.59,
          6.53,
          50.73,
          90,
          132.74,
          4.19,
          18.68,
          65.32,
          40.36,
          75.86,
          68.88,
          131.8,
          70.67,
          39.42,
          12.26,
          116.07,
          107.18,
          174.13,
          59.4,
          36.83,
          138.49,
          157.74,
          34.67,
          42.94,
          29.65,
          3.7,
          8,
          68,
          1.23,
          8.48,
          31.95,
          6.62,
          140.52,
          54.14,
          68.88,
          60.96,
          68.99,
          41.81,
          88.22,
          11.05,
          86.33,
          52.39,
          376.03,
          4.17,
          60.66,
          96.16,
          24.18,
          22.52,
          103.35,
          75.76,
          5.03,
          53.63,
          51.16,
          90.05,
          70.49,
          15.75,
          750.14,
          5.2,
          17.89,
          146.38,
          2.73,
          63.19,
          4.36,
          8.19,
          153.38,
          256.8,
          1.54,
          60.68,
          42.68,
          57.39,
          49.01,
          88.83,
          3.99,
          9.19,
          71.62,
          44.27,
          4.93,
          100.66,
          776.24,
          95.02,
          82.78,
          94.02,
          94.24,
          1.04,
          90.46,
          3.35,
          4.99,
          61.78,
          51.43,
          3.67,
          8.14,
          275.38,
          30.11,
          8.08,
          77.65,
          50.2,
          133.68,
          191.65,
          1.89,
          24.61,
          3.25,
          15.15,
          7.84,
          73.29,
          35.62,
          74.09,
          240.19,
          19.52,
          2.17,
          95.66,
          53.28,
          24.1,
          13.75,
          10.38,
          24.77,
          235.04,
          49.11,
          164.31,
          12,
          82.04,
          6.92,
          39.98,
          1.35,
          55.46,
          132.17,
          47.67,
          82.31,
          83.24,
          17,
          92.97,
          3.25,
          50.83,
          39.27,
          45.98,
          4.35,
          75.64,
          8.24,
          46.83,
          1.26,
          100.56,
          89.06,
          3.26,
          24.83,
          8.97,
          60.32,
          95.82,
          2.84,
          107.86,
          22.66,
          6.53,
          97.74,
          5.78,
          68.01,
          50.78,
          9.41,
          7.26,
          66.35,
          13.86,
          4.89,
          4.99,
          2.48,
          35.02,
          7.71,
          41.35,
          15.51,
          5.24,
          172.96,
          49.31,
          58.37,
          2.51,
          24.25,
          27,
          91.8,
          58.24,
          111.08,
          5.85,
          67.21,
          60.86,
          19.25,
          9.82,
          11.25,
          10.28,
          30.7,
          70.55,
          4.22,
          76.17,
          4.32,
          227.9,
          72.81,
          64.06,
          134.83,
          45.63,
          26.39,
          54.26,
          1.02,
          61.03,
          50.03,
          5.75,
          16.22,
          88.25,
          6.06,
          7.39,
          8.52,
          93.48,
          2.93,
          5.34,
          116.64,
          18.53,
          104.28,
          3.97,
          37.14,
          5.61,
          42.81,
          20.07,
          8.78,
          13.06,
          70.67,
          55.6,
          53.39,
          43.09,
          49.02,
          150.26,
          79.49,
          45.2,
          11.72,
          97.81,
          14.58,
          165.18,
          3.85,
          31.78,
          9.15,
          7.23,
          6.35,
          25.52,
          35.01,
          79.85,
          87.68,
          35.65,
          7.03,
          241.95,
          6.17,
          5.96,
          14.19,
          2.65,
          7.25,
          51.52,
          577.4,
          53.28,
          85.78,
          1.41,
          551.77,
          117.65,
          19.52,
          65.97,
          84.46,
          14.98,
          7.41,
          189.93,
          7.84,
          71.87,
          117.56,
          6.13,
          79.23,
          42.09,
          64.71,
          89.87,
          106.42,
          86.67,
          7.32,
          4430.83,
          139.6,
          2,
          44.69,
          71.66,
          53.57,
          4.32,
          7.72,
          46.95,
          6.69,
          34.93,
          65.53,
          55.59,
          31.64,
          98.7,
          119.47,
          135.13,
          145.15,
          38.08,
          834.3,
          21.26,
          39.34,
          13,
          54.56,
          7.02,
          69.18,
          76.43,
          107.82,
          63.14,
          47.64,
          8.31,
          36.49,
          13.77,
          24.99,
          53.87,
          1.22,
          8.09,
          60.87,
          81.55,
          45.53,
          27.84,
          6.3,
          11.17,
          12.96,
          11.87,
          7.4,
          33.66,
          3.96,
          35.95,
          48.34,
          89.59,
          24.36,
          43.36,
          9.18,
          1.49,
          61.74,
          101.03,
          127.63,
          43.66,
          34.08,
          5.98,
          73.94,
          19.57,
          58.59,
          52.38,
          84.3,
          5.94,
          95.96,
          20.11,
          132.53,
          1.96,
          85.54,
          3.34,
          81.9,
          7.97,
          14.11,
          25.11,
          6.32,
          1.59,
          511.37,
          2.36,
          348.84,
          4.87,
          5.2,
          28.33,
          85.48,
          107.8,
          77.55,
          43.85,
          10.29,
          187,
          2.32,
          61.95,
          54.48,
          27.79,
          79.04,
          5.18,
          169.07,
          7.28,
          43.5,
          89.91,
          88.58,
          44.02,
          2.13,
          2.24,
          8.79,
          2.49,
          90.6,
          307.61,
          324.88,
          63.6,
          6.37,
          1046.22,
          67.93,
          87.28,
          3.51,
          1.12,
          15.29,
          7.43,
          88.46,
          6.12,
          96.64,
          76.22,
          38.34,
          137.46,
          75.95,
          88.19,
          93.3,
          41.33,
          1.22,
          6.59,
          194.65,
          57.22,
          9.86,
          1.72,
          161.28,
          70.93,
          2.46,
          130.96,
          63.14,
          80.9,
          48.29,
          2.18,
          2.73,
          79.24,
          699.85,
          1.29,
          56.34,
          20.53,
          7.52,
          47.85,
          141.5,
          41.56,
          27.46,
          86.43,
          66.76,
          65.04,
          54.7,
          108.18,
          9.6,
          66.89,
          76.17,
          2.07,
          126.36,
          2.74,
          76.07,
          9.79,
          58.24,
          41.86,
          8.06,
          23.14,
          168.36,
          100.67,
          81.79,
          115.5,
          81.33,
          139.15,
          55.38,
          44.29,
          9.6,
          37.75,
          83.22,
          53.7,
          132.46,
          66.51,
          54.53,
          55.51,
          8.09,
          41.83,
          2.58,
          18.67,
          8.65,
          9.24,
          36.91,
          10.25,
          188.52,
          48.09,
          5.21,
          111.24,
          25.03,
          36.72,
          111.67,
          136.27,
          32.65,
          646.97,
          4.68,
          12.1,
          6.86,
          52.17,
          12.73,
          34.16,
          1.73,
          9.61,
          16.57,
          177.5,
          55.28,
          56.54,
          105.34,
          6.65,
          24.89,
          43.72,
          68.45,
          14.43,
          9.85,
          20.55,
          5.02,
          117.8,
          26.52,
          85.29,
          35.13,
          4.04,
          201.05,
          67.44,
          150.03,
          43.96,
          46.69,
          8.72,
          128.25,
          19.63,
          84.5,
          92.75,
          38.93,
          2.07,
          156.79,
          45.37,
          107.36,
          9.85,
          87.96,
          66.43,
          87.07,
          40.31,
          17.33,
          127.89,
          189.29,
          3.61,
          69.65,
          66.36,
          139.58,
          276.33,
          76.3,
          6.54,
          82.61,
          60.2,
          3.27,
          2.37,
          140.92,
          86.73,
          25.81,
          4.74,
          59.74,
          7.69,
          1.51,
          9.32,
          1.91,
          195.49,
          13.61,
          11.69,
          212.19,
          89.71,
          39,
          37.67,
          44.55,
          128.44,
          130.99,
          58.51,
          1.01,
          103.41,
          9.15,
          97.58,
          124.51,
          16.6,
          157.73,
          137.35,
          40.74,
          2.77,
          85.99,
          55.66,
          34.31,
          43.67,
          42.72,
          1.55,
          104.96,
          6.19,
          88.19,
          3.5,
          60.64,
          60.48,
          64.84,
          197.72,
          35.22,
          9.92,
          76.52,
          193.14,
          69.65,
          78.61,
          2.69,
          9.17,
          159.04,
          72.11,
          112.39,
          62.2,
          1.73,
          1.76,
          3.02,
          77.53,
          4.88,
          9.82,
          65.72,
          7.26,
          31.12,
          41.04,
          71.84,
          271.33,
          15.79,
          77.08,
          152.54,
          14.49,
          57.62,
          152.62,
          60.18,
          3.3,
          54.46,
          5.16,
          40.16,
          5.73,
          41.48,
          48.49,
          20.2,
          35.24,
          112.39,
          11.85,
          15.42,
          7.69,
          273.4,
          59.14,
          113.94,
          79.38,
          253.06,
          60.16,
          17.23,
          1.12,
          110.3,
          6.63,
          90.76,
          68.93,
          79.58,
          2.88,
          6.22,
          7.78,
          4.47,
          16.41,
          255.36,
          2.35,
          9.55,
          9.42,
          73.73,
          77.75,
          3.47,
          40.62,
          1.76,
          1.94,
          122.8,
          55.1,
          78.31,
          3.51,
          108.8,
          12.6,
          5.13,
          120.41,
          78.04,
          32.57,
          29.19,
          30.24,
          5.93,
          6.65,
          71.16,
          681.13,
          57.23,
          50.09,
          2.43,
          179.75,
          7.43,
          90.2,
          24.39,
          146.42,
          56.94,
          79.39,
          66.61,
          8.66,
          2.97,
          39.44,
          46.56,
          7.17,
          9.65,
          48.8,
          79.87,
          74.59,
          107.67,
          109.45,
          16.94,
          72.86,
          7.74,
          9.64,
          103.21,
          244.71,
          91.27,
          58.28,
          9.35,
          1.61,
          71.93,
          12.6,
          22.9,
          79.84,
          10.01,
          2.26,
          66.19,
          47.7,
          12.09,
          52.8,
          31.54,
          96.06,
          58.95,
          57.97,
          71.18,
          83.1,
          53.04,
          10.37,
          78.05,
          28.39,
          68.54,
          18.3,
          33.58,
          98.17,
          3.14,
          16.16,
          51.39,
          1.37,
          43.06,
          48.64,
          21.09,
          32.08,
          3.12,
          66.38,
          9.71,
          127.21,
          15.56,
          40.29,
          67.2,
          161.49,
          132.14,
          52.82,
          85.06,
          57.38,
          56.04,
          47.77,
          2.55,
          4.89,
          27.04,
          116.25,
          266.12,
          1.59,
          14.84,
          45.16,
          61.67,
          144.35,
          70.33,
          20.14,
          57.92,
          3.75,
          105.82,
          70.08,
          3.66,
          7.43,
          83.23,
          22.19,
          14.25,
          16.04,
          30.72,
          42.78,
          7.66,
          7.47,
          69.17,
          1.7,
          75.98,
          1.83,
          92.41,
          114.65,
          998.8,
          68.34,
          15.78,
          4.7,
          6.29,
          1.96,
          86.48,
          28.88,
          32.94,
          130.06,
          85.77,
          9.98,
          207.72,
          14.09,
          8.57,
          87.83,
          164.78,
          23.73,
          7.62,
          137.87,
          215.79,
          5.35,
          42.32,
          1.75,
          49.84,
          123.45,
          58.77,
          15.42,
          55.02,
          8.51,
          1.49,
          66.41,
          8.57,
          1.18,
          8.29,
          137.59,
          6.03,
          4.06,
          2.41,
          58.63,
          137.27,
          46.57,
          135.27,
          159.14,
          7.04,
          1.12,
          66,
          95.7,
          6.5,
          5.74,
          1.06,
          9.96,
          7.25,
          83.46,
          90.78,
          3.81,
          68.18,
          49.97,
          79.52,
          88.88,
          87.59,
          32.49,
          201.44,
          22.45,
          10.35,
          118.19,
          27.86,
          78.71,
          90.27,
          94.75,
          80.38,
          16.5,
          56.62,
          1.83,
          102.38,
          42.48,
          51.57,
          63.71,
          4.1,
          1.34,
          8.24,
          57.2,
          16.7,
          74.49,
          288.23,
          43.49,
          61.87,
          23.21,
          77.56,
          55.05,
          60.45,
          136.14,
          255.87,
          18.69,
          62.29,
          6.07,
          60.76,
          130.11,
          8.57,
          45.96,
          180.15,
          135.33,
          111.87,
          69.85,
          89.26,
          18.25,
          48.66,
          3.65,
          17.51,
          44.11,
          151.36,
          7.04,
          9.31,
          175.91,
          96.72,
          38.11,
          55.42,
          8.97,
          857.55,
          677.07,
          48.69,
          1.65,
          26.83,
          126.98,
          15.37,
          19.6,
          6.6,
          63.35,
          67.2,
          53.98,
          12.78,
          64.4,
          16.55,
          69.73,
          72.36,
          61.31,
          32.23,
          17.1,
          47.94,
          6.11,
          27.2,
          126.38,
          35.11,
          18.81,
          77.67,
          65.66,
          55.97,
          56.08,
          9.04,
          79.06,
          102.88,
          51.07,
          1.67,
          2.03,
          99.56,
          3.65,
          3.84,
          73.98,
          7.27,
          8.47,
          36.55,
          42.14,
          4.55,
          32.98,
          25.75,
          80.8,
          108.89,
          3.15,
          15.06,
          45.92,
          2.39,
          5.61,
          13.63,
          312.08,
          6.06,
          115.91,
          9.93,
          86.07,
          4.1,
          139.53,
          3.18,
          47.59,
          82.71,
          72.79,
          98.1,
          34.06,
          133.32,
          8.9,
          2.07,
          8.56,
          8.86,
          73.6,
          101.97,
          7.79,
          31.55,
          196.73,
          50.99,
          67.27,
          94.65,
          57.35,
          7.85,
          59.74,
          2.22,
          8.77,
          9.12,
          342.54,
          38.29,
          40.34,
          34.97,
          57.25,
          9.33,
          36.91,
          11.16,
          7.6,
          122.86,
          66.16,
          9.1,
          4.63,
          48.76,
          62.65,
          13.84,
          43.75,
          24.1,
          22.41,
          9.5,
          80.53,
          56.28,
          2.45,
          47.76,
          69.3,
          2.88,
          4.42,
          91.22,
          71.56,
          112.54,
          22.22,
          8.98,
          16.66,
          11.8,
          3.2,
          62.55,
          100.41,
          84.68,
          138.24,
          73.95,
          65.19,
          119.79,
          97.76,
          8.96,
          1.54,
          69.78,
          1.52,
          8.63,
          8.69,
          49.92,
          591.61,
          50.97,
          102.08,
          6.44,
          58.5,
          13.36,
          45.49,
          91.46,
          16.87,
          6.49,
          56.13,
          93.49,
          27.95,
          8.08,
          50.62,
          42.42,
          53.16,
          674.66,
          76.9,
          196.83,
          63.79,
          3.6,
          378.7,
          16.78,
          29.01,
          306.73,
          17.51,
          68.13,
          133.31,
          8.91,
          74.21,
          38.78,
          139.99,
          17.3,
          1.6,
          82.88,
          12.3,
          3.39,
          13.47,
          8.42,
          16.02,
          271.88,
          33.16,
          75.34,
          8.37,
          180.8,
          1100.76,
          14.45,
          7.28,
          41.21,
          116.78,
          45.75,
          23.33,
          58.97,
          8.34,
          1.3,
          510.09,
          66.31,
          25.7,
          60.28,
          52.62,
          8.06,
          1.88,
          37.11,
          6.86,
          18.83,
          9.14,
          3.28,
          1.4,
          9.61,
          71.58,
          247.79,
          100.33,
          44.27,
          56.96,
          5.22,
          23.05,
          353.1,
          45.85,
          110.94,
          34.35,
          6.09,
          100.08,
          23.93,
          3.24,
          102.95,
          106.64,
          17.29,
          74.71,
          50.42,
          111.89,
          16.02,
          121.05,
          4.44,
          451.51,
          107.08,
          5.02,
          149.85,
          92.9,
          49.24,
          313.68,
          43.81,
          73.37,
          73.19,
          6.04,
          1.57,
          7.39,
          83.78,
          1.88,
          8.45,
          7.44,
          9.69,
          65.45,
          88.32,
          81.62,
          48.52,
          8.5,
          44.54,
          57.61,
          371.24,
          1.72,
          174.84,
          5.74,
          7.69,
          164.61,
          135.64,
          4.83,
          494.99,
          7.55,
          2.52,
          33.5,
          69.58,
          16.6,
          81.93,
          62.42,
          70.91,
          2.28,
          19.57,
          67.07,
          55.89,
          193.88,
          86.29,
          17.88,
          51.09,
          93.94,
          2.09,
          77.46,
          7.96,
          56.59,
          7.84,
          42.99,
          70.54,
          5.53,
          1.01,
          2.08,
          114.53,
          9.54,
          108.22,
          70.08,
          37.79,
          46.84,
          112.32,
          12.44,
          8.41,
          47.91,
          369.89,
          2.18,
          66.78,
          100.58,
          35.49,
          13.31,
          6.35,
          227.53,
          66.34,
          202.29,
          4.62,
          78.4,
          58.77,
          52.06,
          5.47,
          41.94,
          68.98,
          39.1,
          6.98,
          20.23,
          63.2,
          77.47,
          59.98,
          55.13,
          6.11,
          13.14,
          59.42,
          42.51,
          54.46,
          49.23,
          2.22,
          119.39,
          47.54,
          2.94,
          17.65,
          71.1,
          62.56,
          69.13,
          60.37,
          5.3,
          70.75,
          228.39,
          61.86,
          62.84,
          6,
          88.78,
          25,
          193.1,
          38.52,
          20.8,
          95.32,
          2.18,
          1.55,
          74.22,
          7.7,
          50.34,
          80.55,
          50.48,
          56.48,
          240.39,
          2.84,
          111.01,
          30.59,
          26.68,
          129.95,
          33.2,
          46.73,
          10.2,
          50.98,
          105.92,
          13.59,
          80.16,
          42.39,
          92.16,
          35.59,
          52.16,
          8.51,
          101.15,
          139.87,
          120.21,
          47.78,
          64.46,
          62.23,
          4.42,
          51.68,
          6.48,
          43.31,
          38.28,
          6.11,
          124.67,
          67.74,
          18.9,
          78.65,
          81.46,
          489.31,
          17.87,
          181.71,
          66.48,
          39.78,
          139.59,
          60.32,
          7.9,
          5.44,
          75.84,
          84.67,
          74.14,
          68.54,
          88.41,
          113.73,
          9.02,
          2.3,
          94.42,
          40.2,
          9.89,
          65.18,
          8.5,
          37.91,
          131.04,
          52.71,
          175.78,
          75.03,
          3.23,
          35.58,
          67.72,
          8.07,
          39.28,
          125.35,
          53.65,
          23.02,
          7.41,
          60.63,
          197.65,
          10.37,
          57.89,
          4.24,
          7,
          2.04,
          134.48,
          56.8,
          4.33,
          166.44,
          69.69,
          26.69,
          20.2,
          182.1,
          63.1,
          77.2,
          84.59,
          71.43,
          75.22,
          39.32,
          9.38,
          46.62,
          962.37,
          20.16,
          62.52,
          63.18,
          9.2,
          60.16,
          49.66,
          45.25,
          3.71,
          44.93,
          110.56,
          6.51,
          64.26,
          20.99,
          46.09,
          82.52,
          12.81,
          113.08,
          35.47,
          10.03,
          41.01,
          71.91,
          60.14,
          74.03,
          144.84,
          51.97,
          8.07,
          118.28,
          51.08,
          78.16,
          64.76,
          16.54,
          1.05,
          45.35,
          69.27,
          33.55,
          23.82,
          1.34,
          60.94,
          1.65,
          159.96,
          744.13,
          21.47,
          1.64,
          11.93,
          59.03,
          116.36,
          14.61,
          44.82,
          40.78,
          53.47,
          15.81,
          99.44,
          104.22,
          41.35,
          10.25,
          8.75,
          37.14,
          51.39,
          39.23,
          3.73,
          79.43,
          6.4,
          34.52,
          60.04,
          67.16,
          83.43,
          5.92,
          172.89,
          167.08,
          87.53,
          63.14,
          4.6,
          127.23,
          62.79,
          94.07,
          110.98,
          8.7,
          44.47,
          465.94,
          1.56,
          28.44,
          50.57,
          73.49,
          73.05,
          4.74,
          8.24,
          80.57,
          28.09,
          1.44,
          77.75,
          57.51,
          80.35,
          82.84,
          23.24,
          10.13,
          21.79,
          64.97,
          1.85,
          15.29,
          8.17,
          121.85,
          1.66,
          73.03,
          88.72,
          3.15,
          44.94,
          28.63,
          46.32,
          5.55,
          217.26,
          31.45,
          47.83,
          10.86,
          185.56,
          19.7,
          4.6,
          87.86,
          73.33,
          98.55,
          11.95,
          2.42,
          31.4,
          89.78,
          60.2,
          8.45,
          110.69,
          12.37,
          5.32,
          12.06,
          72.02,
          40.68,
          27.49,
          56.51,
          136.7,
          73.43,
          6.79,
          2.58,
          39.3,
          25.48,
          16.81,
          103.02,
          63.78,
          6.77,
          339.04,
          50.59,
          99.5,
          83.46,
          15.3,
          42.08,
          98.2,
          83.16,
          116.24,
          199.08,
          72.75,
          129.29,
          116.52,
          5.26,
          72.29,
          60.47,
          195.39,
          218.78,
          69.91,
          20.19,
          12.27,
          3.98,
          10.34,
          4.74,
          10.87,
          9.73,
          61.12,
          44.83,
          109.57,
          3.4,
          75.54,
          83.37,
          7.23,
          55.97,
          3.21,
          66.75,
          42.91,
          141.43,
          99.59,
          757.19,
          7.27,
          66.36,
          49.57,
          65.47,
          2.69,
          58.16,
          244.98,
          15.37,
          55.66,
          24.45,
          67.17,
          63.53,
          74.54,
          8.48,
          312.97,
          51.39,
          88.58,
          93.69,
          32.61,
          55.82,
          38.35,
          75.08,
          60.36,
          6.33,
          29.04,
          67.7,
          6.13,
          70.73,
          5.02,
          5.74,
          36.37,
          194.9,
          72.5,
          80.8,
          133.08,
          250.88,
          78.16,
          37.71,
          2.53,
          96.5,
          11.17,
          65.23,
          68.61,
          26.35,
          151.92,
          43.14,
          56.03,
          5.16,
          30.62,
          81.45,
          137.3,
          5.2,
          51.66,
          36.96,
          5.54,
          63.61,
          52.67,
          117.1,
          48.65,
          90.22,
          53.02,
          73.38,
          1.18,
          120.05,
          3.88,
          3.02,
          207.21,
          127.11,
          86.16,
          9.24,
          71.9,
          10.06,
          90.5,
          6.61,
          9.77,
          152.73,
          7.67,
          210.36,
          118.17,
          222.85,
          67.41,
          41.8,
          3.12,
          21.01,
          143.99,
          6.43,
          9.87,
          5.86,
          63.1,
          67.97,
          3.83,
          82.49,
          56.24,
          72.73,
          11.6,
          27.33,
          74.29,
          22.29,
          6.94,
          8.64,
          109.38,
          25.86,
          98.26,
          512.86,
          55.98,
          73.13,
          35.12,
          16.93,
          75.93,
          8.12,
          248.52,
          3.41,
          46.84,
          234.3,
          31.41,
          5.17,
          41.37,
          117.58,
          90.29,
          72.31,
          12.92,
          16.57,
          82.37,
          145.72,
          10.72,
          88.38,
          79.38,
          4.9,
          24.21,
          1.3,
          225.88,
          54.24,
          41.41,
          15.05,
          34.2,
          49.04,
          878.93,
          7.06,
          4.6,
          71.46,
          95.93,
          22.1,
          7.02,
          15.8,
          41.78,
          6.79,
          9.28,
          70.12,
          42.71,
          53.83,
          6.61,
          81.89,
          80.34,
          1.79,
          1.03,
          33.08,
          33.87,
          5,
          70.09,
          105.88,
          54.15,
          7.28,
          126.73,
          96.63,
          127.98,
          47.19,
          3.95,
          5.9,
          39.1,
          3.13,
          136.68,
          67.92,
          12.35,
          8.41,
          58.7,
          40.31,
          43.92,
          88.02,
          3.99,
          65.88,
          77.32,
          58.83,
          16.6,
          4.29,
          40.12,
          503.8,
          1.29,
          31.96,
          36.67,
          6.1,
          23.94,
          64.75,
          6.32,
          6.81,
          11.24,
          132.47,
          4.63,
          15.7,
          70.55,
          226.62,
          72.18,
          314.73,
          78.37,
          12.16,
          70.19,
          7.23,
          5.82,
          6.72,
          29.67,
          80.92,
          1286.61,
          7.71,
          48.18,
          47.31,
          751.63,
          16.82,
          49.19,
          151.44,
          74.17,
          76.97,
          220.43,
          39.14,
          38.27,
          18.37,
          53.75,
          99.54,
          8.87,
          61.78,
          5.17,
          52.31,
          109.54,
          69.87,
          181.83,
          2.17,
          139.85,
          1.61,
          1.55,
          7.8,
          76.27,
          2.1,
          48.71,
          69.72,
          24.98,
          57.86,
          9.14,
          3.52,
          26.63,
          9.83,
          2.81,
          5.19,
          53.19,
          94.66,
          4,
          82.44,
          17.59,
          78.43,
          55.58,
          12.81,
          205.64,
          68.79,
          45.69,
          55.21,
          19.18,
          14.69,
          56.02,
          50.77,
          2.69,
          82.26,
          61.32,
          78.32,
          17.25,
          9.65,
          60.92,
          58.84,
          151.99,
          6.09,
          3.81,
          145.77,
          1.66,
          67.01,
          6.01,
          6.73,
          4.44,
          121.82,
          72.73,
          25.15,
          6.84,
          210.69,
          17.66,
          28.38,
          54.71,
          9.69,
          119.23,
          132.03,
          3.46,
          57.17,
          161.25,
          77.14,
          3.08,
          89.39,
          2.46,
          21.92,
          38.4,
          24.26,
          2.29,
          73.51,
          82.22,
          94.09,
          44.23,
          38.04,
          111.49,
          61.96,
          88.65,
          9.4,
          94.77,
          80.25,
          8.41,
          25.4,
          233.12,
          112.66,
          29.68,
          9.67,
          1.03,
          77.99,
          1.46,
          66.39,
          6.95,
          8.56,
          8.18,
          93.05,
          65.25,
          11.28,
          54.12,
          1.25,
          35.13,
          2.41,
          99.45,
          9.08,
          660.98,
          10.86,
          68.32,
          5.81,
          57.23,
          19.94,
          2.07,
          10.85,
          27.39,
          182.29,
          64.51,
          5.63,
          84.99,
          5.23,
          123.43,
          218.4,
          2963.59,
          91.58,
          22.59,
          5.25,
          40.07,
          55.82,
          83.12,
          333.78,
          95.49,
          1141.48,
          104.57,
          73.32,
          122.75,
          35.89,
          40.05,
          12.01,
          124.66,
          50.88,
          76.51,
          71.05,
          70.02,
          85.27,
          56.38,
          117.07,
          481.54,
          4.22,
          8.47,
          111.9,
          12.21,
          51.96,
          58.54,
          93.81,
          12.33,
          6.77,
          67.42,
          5.63,
          59.04,
          1.98,
          125,
          21.25,
          92.93,
          64.9,
          45.85,
          7.93,
          9.49,
          137.05,
          51.19,
          76.5,
          20.02,
          119.33,
          70.03,
          3.9,
          146.01,
          60.5,
          2.29,
          67.03,
          62.66,
          41.68,
          17.93,
          4.51,
          7.72,
          113.92,
          28.4,
          71.08,
          115.44,
          55.88,
          105.29,
          94.19,
          62.45,
          58.67,
          179.54,
          62.18,
          57.86,
          3.73,
          7.36,
          5.72,
          47.78,
          94.5,
          37.25,
          16.04,
          8.81,
          21.77,
          32.1,
          58.23,
          7.52,
          167.1,
          14.25,
          24.16,
          1.4,
          58.49,
          829.87,
          14.09,
          19.24,
          3,
          37.82,
          42.12,
          6.58,
          12.54,
          39.7,
          19.23,
          15.01,
          1.66,
          255.54,
          139.06,
          5.46,
          3.37,
          8.95,
          3.2,
          66.39,
          247.52,
          111.16,
          15.92,
          16.97,
          8.74,
          154.48,
          12.35,
          169.06,
          119.61,
          4.15,
          53.36,
          76.7,
          62.84,
          114.65,
          2.41,
          47.72,
          2.73,
          108.05,
          7.94,
          74.46,
          85.74,
          9.26,
          200.94,
          83.52,
          53.17,
          40.36,
          7.17,
          8.17,
          77.77,
          4.78,
          202.34,
          4.55,
          6.36,
          131.14,
          86.94,
          50.18,
          29.08,
          11.11,
          111.06,
          7.1,
          32.67,
          21.81,
          72.06,
          5.11,
          49.76,
          43.12,
          75.81,
          56.6,
          2.85,
          1.6,
          100.24,
          16.69,
          21.33,
          91.43,
          72.94,
          85.67,
          49.94,
          9.19,
          315.8,
          32.79,
          161.48,
          120.28,
          119.46,
          89.73,
          56.38,
          217.39,
          44.54,
          83.11,
          85.89,
          32.75,
          1.76,
          35.88,
          8.84,
          9.93,
          43.12,
          77.33,
          220.8,
          140.57,
          108.28,
          508.21,
          4.15,
          337.97,
          39.67,
          45.65,
          4.56,
          52.66,
          101.62,
          181.42,
          32.94,
          155.55,
          132.09,
          104.18,
          42.46,
          59.66,
          7.02,
          73.79,
          107.43,
          83.29,
          98.88,
          94.12,
          101.99,
          279.33,
          63.91,
          21.22,
          1.07,
          25.2,
          2.55,
          52.09,
          8.94,
          78.27,
          41.12,
          5.99,
          78.99,
          74.28,
          244.83,
          90.85,
          116.01,
          2.18,
          54.15,
          35.25,
          3.65,
          176.49,
          127.14,
          66.99,
          809.74,
          9.92,
          1.74,
          7.56,
          39.28,
          9.99,
          145.04,
          22.46,
          116.32,
          5.22,
          51.11,
          2.81,
          58.7,
          1.28,
          157.41,
          58.88,
          35.02,
          77.87,
          50.44,
          4.36,
          3.88,
          495.03,
          9.11,
          136.29,
          215.06,
          38.52,
          28.27,
          44.74,
          9.81,
          23.94,
          7.05,
          78.08,
          78.33,
          77.86,
          64.49,
          2.76,
          21.86,
          86.71,
          2.25,
          9.74,
          85.31,
          8.01,
          8.06,
          17.06,
          53.94,
          4.43,
          15.67,
          3.44,
          93.29,
          9.16,
          70.16,
          15.14,
          8,
          169.83,
          76.67,
          76.8,
          50.3,
          35.17,
          141.09,
          26.41,
          72.32,
          3.82,
          9.97,
          85.43,
          6.52,
          31.2,
          64.37,
          9.55,
          201.12,
          53.92,
          25.6,
          37.93,
          102.71,
          45.34,
          199.27,
          198.89,
          1.9,
          24.35,
          44.28,
          200.77,
          50.42,
          25.51,
          114.84,
          87.97,
          7.2,
          41.19,
          102.01,
          76.24,
          4.61,
          92.32,
          36.85,
          82.64,
          132.29,
          76.18,
          4.67,
          38.17,
          26.3,
          1.22,
          66.06,
          71.79,
          92.04,
          72.73,
          77.36,
          109.04,
          94.12,
          65.66,
          55.42,
          50.35,
          4.54,
          9.03,
          107.38,
          50.43,
          3.36,
          187.79,
          6.74,
          161.09,
          48.01,
          17.32,
          334.02,
          13.66,
          130.2,
          61.42,
          3.63,
          44.43,
          16.92,
          102.76,
          37.04,
          16.95,
          44.58,
          29.84,
          39.39,
          27.33,
          12.61,
          45.98,
          7.64,
          75.46,
          36.76,
          94.22,
          62.92,
          65.76,
          1.12,
          60.26,
          74.83,
          87.8,
          9.98,
          75.5,
          76.12,
          4.42,
          59,
          75.23,
          51.65,
          78.49,
          74.04,
          4.31,
          42.2,
          74.53,
          9.83,
          90.87,
          203.29,
          87.3,
          3.54,
          191.72,
          11.95,
          72.34,
          29.06,
          50.77,
          1.73,
          85.05,
          74.94,
          110.16,
          5.27,
          50.71,
          153.83,
          96.51,
          53.22,
          52.79,
          159.27,
          121.03,
          66.56,
          8.71,
          23.97,
          40.38,
          82.66,
          56.47,
          73.21,
          81.34,
          2.16,
          7.81,
          4.98,
          5.16,
          83.28,
          61.79,
          56.46,
          44.96,
          17.83,
          7.68,
          128.61,
          192.95,
          62.02,
          89.79,
          60.41,
          123.79,
          82.49,
          94.52,
          156.19,
          70.98,
          79.01,
          40.13,
          6.86,
          1.18,
          77.18,
          31.65,
          16.39,
          84.89,
          22.33,
          143.79,
          62.23,
          1.01,
          67.71,
          92.04,
          2.63,
          116.48,
          53.91,
          8.17,
          58.53,
          49.96,
          118.9,
          9.43,
          63.03,
          9.49,
          130.64,
          46.41,
          130.81,
          12.73,
          28.51,
          19.48,
          92.74,
          84.14,
          64.38,
          156.53,
          49.19,
          38.31,
          20.63,
          5.38,
          3.75,
          5.05,
          17.22,
          38.23,
          24.89,
          62.63,
          10.06,
          3.54,
          61.44,
          89.4,
          1009.36,
          59.37,
          4.23,
          9.23,
          5.13,
          58.51,
          5.05,
          66.08,
          94.6,
          36.27,
          1.14,
          1.07,
          15.09,
          986.1,
          115.1,
          31.04,
          8.73,
          22.01,
          57.02,
          188.33,
          40.31,
          94.06,
          14.82,
          85.53,
          6.42,
          2.05,
          49.35,
          58.11,
          30.33,
          3.89,
          46.97,
          90.52,
          8.12,
          44.64,
          1.22,
          78.18,
          132.01,
          9.54,
          161.08,
          12.17,
          70.05,
          94.92,
          144.92,
          165.32,
          56.66,
          224.81,
          74.27,
          38.1,
          112.85,
          159.68,
          7.85,
          102.98,
          54.59,
          7.21,
          121.37,
          6.48,
          63.61,
          34.07,
          97.37,
          76.43,
          17.61,
          4.94,
          153.86,
          126.84,
          19.04,
          111.4,
          3.68,
          39.68,
          58.21,
          109.29,
          46.05,
          59.47,
          56.94,
          61.64,
          100.27,
          199.83,
          9.39,
          109.16,
          229.72,
          57.81,
          41.64,
          72.37,
          12.12,
          88.89,
          7.99,
          2.27,
          84.99,
          6.93,
          16.47,
          17.71,
          124.83,
          50.46,
          28.48,
          50.67,
          73.64,
          232.28,
          31.6,
          76.32,
          18,
          49.33,
          190.71,
          6.77,
          77.03,
          7.88,
          162.46,
          8.12,
          4.86,
          164.38,
          123.93,
          4.32,
          3.34,
          31.19,
          31.42,
          16.61,
          3.41,
          18.62,
          7.59,
          95.09,
          16.02,
          8.95,
          9.24,
          2.62,
          69.51,
          142.46,
          2.16,
          31.81,
          80.75,
          21.19,
          16.52,
          951.68,
          87.59,
          19.83,
          21.13,
          26.93,
          83.85,
          52.3,
          49.51,
          74.2,
          7.42,
          27.97,
          51.91,
          4.62,
          94.44,
          7.89,
          64.98,
          6.69,
          120.53,
          14.88,
          8.03,
          63.16,
          56.65,
          81.84,
          56.4,
          9,
          1.03,
          12.89,
          47.53,
          135.27,
          15.22,
          84.63,
          74.25,
          5.61,
          35.64,
          116.22,
          34.65,
          45.91,
          1.66,
          182,
          66.2,
          6.99,
          8.25,
          126.57,
          117.65,
          40.44,
          132.84,
          4.43,
          65.83,
          1.43,
          6.72,
          46.05,
          124.39,
          56.72,
          42.72,
          54.47,
          41.17,
          52.66,
          103.12,
          38.98,
          5.44,
          2.81,
          19.24,
          47.26,
          53.45,
          52.8,
          475.15,
          50.47,
          43.71,
          111.99,
          121.97,
          48.54,
          1.83,
          150.66,
          9.25,
          54.22,
          204.12,
          8.41,
          44.93,
          13.7,
          86.43,
          102.86,
          22.23,
          61.11,
          17.05,
          14.79,
          45.48,
          176.54,
          55.54,
          20.61,
          3.75,
          52.37,
          10.48,
          9.23,
          41.35,
          57.86,
          7.87,
          41.79,
          5.59,
          74.11,
          10.27,
          494.61,
          10.93,
          9.48,
          124.17,
          3.91,
          100.91,
          43.09,
          49.97,
          6.93,
          115.51,
          5.16,
          131.83,
          37.13,
          364.52,
          16.7,
          60.77,
          37.68,
          7.87,
          7.9,
          56.24,
          33.53,
          27.13,
          2.15,
          8.41,
          106.87,
          167.74,
          99.73,
          28.74,
          7.48,
          197.96,
          153.24,
          63.61,
          3.32,
          4.23,
          69.26,
          34.82,
          7.34,
          1.32,
          88,
          74.88,
          4.42,
          4.83,
          78.48,
          71.35,
          17.64,
          31.85,
          50.18,
          36.21,
          363.11,
          74,
          75.76,
          178.27,
          8.05,
          127.57,
          67.15,
          46.13,
          90.37,
          5.39,
          35.53,
          77.95,
          5.93,
          12.5,
          12.14,
          89.79,
          4.49,
          27.2,
          310.47,
          5.72,
          3.94,
          48.29,
          301.61,
          63.12,
          4.9,
          97.29,
          52.71,
          60.98,
          172.86,
          49.53,
          94.53,
          11.4,
          5.85,
          30.22,
          3.72,
          19.18,
          4.24,
          109.78,
          1.36,
          76.67,
          114.48,
          1.72,
          64.18,
          5.1,
          61.97,
          16.92,
          41.38,
          59.99,
          57.09,
          53.33,
          80.15,
          10.24,
          1.78,
          78.67,
          1.78,
          58.45,
          19.03,
          9.96,
          4.19,
          97.1,
          64.05,
          25.2,
          142.26,
          75.46,
          1.69,
          59.77,
          73.95,
          50.88,
          9.65,
          124.8,
          21.42,
          106.47,
          74.03,
          7.69,
          104.43,
          127.83,
          73.63,
          123.02,
          31.63,
          69.73,
          96.77,
          92.27,
          125.73,
          79.71,
          181.79,
          62.77,
          93.64,
          60.5,
          3.35,
          59.54,
          9.15,
          112.41,
          150.01,
          7.73,
          2.61,
          213.62,
          23.48,
          125.52,
          42.81,
          3.49,
          77.72,
          43.99,
          90.17,
          54.47,
          2.26,
          111.46,
          71.69,
          32.45,
          4.09,
          44.72,
          47.19,
          69.51,
          39.13,
          56.34,
          43.67,
          59.45,
          221.54,
          141.5,
          9.97,
          47.56,
          89.62,
          6.55,
          145.4,
          76.84,
          138.23,
          119.12,
          63.54,
          75.82,
          51.01,
          2.06,
          8.71,
          101.7,
          62.04,
          131.13,
          91.98,
          2.76,
          7.64,
          89.63,
          5.54,
          132.54,
          26.45,
          86.66,
          130.64,
          20.92,
          75.64,
          54.84,
          6.17,
          95.82,
          514.66,
          128.46,
          31.87,
          14.9,
          4.07,
          98.63,
          59.99,
          44.03,
          75.34,
          5.94,
          34.92,
          90.04,
          74.72,
          20.73,
          1.63,
          118.37,
          9.67,
          93.37,
          63.96,
          21,
          76.72,
          7.65,
          31.84,
          72.94,
          4.65,
          1.72,
          98.56,
          17.92,
          7.29,
          7.54,
          10.12,
          2.44,
          85.82,
          35.89,
          19.4,
          95.22,
          7.46,
          1.49,
          3.84,
          1.67,
          1.99,
          27.77,
          69.4,
          334.26,
          76.3,
          5.33,
          25.86,
          55.75,
          56.64,
          261.91,
          15.88,
          50.04,
          33.96,
          3.6,
          1.7,
          1.82,
          71.16,
          100.35,
          9.28,
          57.93,
          5.31,
          8.94,
          70.96,
          16.96,
          8.1,
          106.01,
          33.03,
          51.03,
          64.15,
          67.13,
          86.67,
          21.37,
          85.14,
          42.81,
          2.31,
          18.73,
          71.79,
          102.33,
          102.84,
          8.26,
          38.5,
          59.88,
          3.51,
          248.95,
          10.6,
          96.81,
          78.5,
          92.88,
          193.84,
          41.21,
          64.34,
          150.01,
          73.45,
          55.61,
          45.44,
          2.75,
          106.49,
          9.42,
          255.82,
          100.11,
          44.59,
          60.63,
          166.88,
          431.19,
          5.86,
          16.28,
          3.02,
          145.36,
          94.71,
          35.23,
          53.41,
          53.44,
          122.14,
          22.18,
          14.09,
          2.14,
          5.9,
          94.54,
          63.97,
          3.83,
          5.28,
          58.49,
          176.12,
          31.25,
          38.3,
          112.5,
          52.06,
          12.3,
          46.42,
          81.16,
          61.98,
          3.98,
          49.49,
          7.85,
          82.91,
          3.39,
          61.95,
          2.29,
          149.56,
          38.69,
          48.44,
          265.31,
          3.97,
          537.22,
          89.28,
          186.98,
          51.18,
          217.93,
          4.42,
          2.54,
          128.81,
          46.19,
          87.43,
          33.26,
          72.77,
          2.97,
          8.03,
          42.05,
          34.23,
          33.25,
          27.49,
          23.12,
          96.41,
          65.22,
          243.35,
          3.07,
          48.37,
          47.39,
          1.1,
          55.38,
          3.16,
          91.9,
          17.18,
          36.46,
          9.29,
          3.56,
          10.05,
          72.27,
          66.01,
          1.36,
          7.61,
          77,
          23.84,
          10.22,
          6.49,
          59.81,
          8.12,
          75.76,
          2.03,
          105.68,
          134.01,
          68,
          57.48,
          84.48,
          51.04,
          77.94,
          47.35,
          90.63,
          74.89,
          166.12,
          64.03,
          55.4,
          164.11,
          98.44,
          3.42,
          58.07,
          162.2,
          55.35,
          130.24,
          19.98,
          36.91,
          127.99,
          83.51,
          24.21,
          2.85,
          11.78,
          1.57,
          129.74,
          65.51,
          4.33,
          193.97,
          64.03,
          202.46,
          83.47,
          58.56,
          69.97,
          26.81,
          72.96,
          6.65,
          153.81,
          62.67,
          14.69,
          125.75,
          210.64,
          35.46,
          42.56,
          3.7,
          25.04,
          70.23,
          81.35,
          3.32,
          4.9,
          34.25,
          77.39,
          98.01,
          31.37,
          19.79,
          71.36,
          239.71,
          20.62,
          78.09,
          25.39,
          11.01,
          20.39,
          3.94,
          7.35,
          54.59,
          5.67,
          54.28,
          58.53,
          3.15,
          9.58,
          122.8,
          5.89,
          91.97,
          72.96,
          39.41,
          90.35,
          2.89,
          144.5,
          67.91,
          1.81,
          8.43,
          53.48,
          71.6,
          9.9,
          3.48,
          4.43,
          4.52,
          137.35,
          93.01,
          72.35,
          7.34,
          87.07,
          58.4,
          76.84,
          134.91,
          204.36,
          115.16,
          7.96,
          51.39,
          37.7,
          2.91,
          9.29,
          118.87,
          70.77,
          70.45,
          155.02,
          155.64,
          58.48,
          9.51,
          57.81,
          131.7,
          54.99,
          7.97,
          3.71,
          5.94,
          86.34,
          60.6,
          58.65,
          50.2,
          2.68,
          5.12,
          102.96,
          65.7,
          140.71,
          23.39,
          78.17,
          71.94,
          61.19,
          102.52,
          83.98,
          65.65,
          1.27,
          5.39,
          3.49,
          15.06,
          88.51,
          8.25,
          45.41,
          103.9,
          2.28,
          60.77,
          48.56,
          95.83,
          87.66,
          8.89,
          65.7,
          78.92,
          4.1,
          331.92,
          64.33,
          94.77,
          55.27,
          71.53,
          4.85,
          218.92,
          2.65,
          15.58,
          5.42,
          7.21,
          59.9,
          14.81,
          6.81,
          1.55,
          129.14,
          12.23,
          9.51,
          64.91,
          9.2,
          6.31,
          7.31,
          62.6,
          15.93,
          4.76,
          28.57,
          23.64,
          39.1,
          17.58,
          5.58,
          51.58,
          23.94,
          72.66,
          75.18,
          108.92,
          68.41,
          52.62,
          90.96,
          39.98,
          11.91,
          114.46,
          2.56,
          15.42,
          185.05,
          37.15,
          66.4,
          43.77,
          87.77,
          5.95,
          33.14,
          77.99,
          8.2,
          1.85,
          2.26,
          24.42,
          256.05,
          26.02,
          81.2,
          20.62,
          36.63,
          2.32,
          2.32,
          3.1,
          16.57,
          36.9,
          7.57,
          73.41,
          7.67,
          502.77,
          242.88,
          5.74,
          45.19,
          38.83,
          86.09,
          231.85,
          83.79,
          72.58,
          20.47,
          54.81,
          19.19,
          12.75,
          3.87,
          5.08,
          997.46,
          2.6,
          85.29,
          57.52,
          41.12,
          93.86,
          67.92,
          27.03,
          27.16,
          149.59,
          72.44,
          73.32,
          7,
          4.5,
          3.42,
          98.49,
          132.27,
          88.44,
          72.19,
          89.47,
          25.96,
          373.85,
          5.62,
          16.73,
          66.56,
          8.93,
          100.96,
          2.39,
          49.59,
          57.64,
          66.36,
          92.87,
          126.29,
          2.15,
          57.03,
          47.7,
          68.98,
          89.98,
          57.54,
          13.74,
          15.73,
          113.37,
          68.89,
          3.7,
          2.46,
          11.18,
          55.49,
          39.18,
          102.22,
          287.51,
          9.3,
          3.75,
          82.28,
          7.43,
          125.23,
          21.83,
          84.19,
          12.38,
          9.22,
          17.04,
          32.49,
          83.95,
          6.67,
          6.07,
          1.48,
          183.03,
          6.81,
          20.41,
          42.06,
          89.48,
          77.56,
          64.32,
          17.04,
          3.11,
          9.08,
          1.4,
          44.26,
          48.28,
          6.89,
          8.63,
          14.56,
          8.2,
          5.73,
          9.56,
          81.03,
          93.08,
          29.11,
          115.59,
          142.71,
          1.66,
          32.3,
          79.47,
          3.75,
          15.42,
          8.59,
          14.13,
          78.95,
          79.33,
          102.99,
          92.54,
          193.92,
          2.68,
          5.15,
          1.07,
          23.47,
          106.75,
          59.88,
          103.4,
          71.78,
          97.85,
          67.02,
          105.65,
          233.42,
          43.92,
          52.12,
          30.11,
          5.88,
          3.59,
          84.93,
          52.06,
          2.64,
          64.08,
          16.27,
          45.48,
          7.82,
          82.9,
          76.71,
          1.16,
          10.79,
          4.93,
          271.28,
          45.64,
          8.21,
          16.82,
          362.82,
          54.43,
          69.12,
          5.83,
          25.55,
          48.01,
          24.78,
          4.8,
          6.45,
          47.6,
          65.55,
          139,
          6.2,
          5.57,
          79.38,
          327.01,
          25.39,
          1.72,
          5.32,
          7.93,
          41.69,
          4.61,
          7.35,
          88.69,
          14.81,
          29.88,
          2.97,
          76.19,
          112.71,
          252,
          249.03,
          13.46,
          5.86,
          34.36,
          77.86,
          84.7,
          94.68,
          25.12,
          94.56,
          92.61,
          129.91,
          5.26,
          91.2,
          63.7,
          73.51,
          46.82,
          71,
          43.36,
          100.77,
          41.3,
          76.03,
          167.31,
          102.16,
          38.16,
          107.35,
          6.62,
          106.43,
          138.11,
          67.49,
          219.53,
          62.58,
          133.07,
          12.49,
          5.87,
          5.82,
          99.74,
          46.11,
          3.35,
          54.06,
          5.51,
          44.6,
          36.19,
          68.66,
          1.32,
          4.18,
          52.07,
          599.79,
          4.13,
          71.76,
          48.28,
          2.77,
          205.47,
          4.07,
          48.45,
          20.33,
          4.38,
          9.9,
          72.03,
          57.43,
          162.84,
          511.4,
          31.63,
          7.8,
          48.66,
          36.49,
          66.29,
          4.67,
          9.92,
          80.82,
          414.42,
          64.32,
          27.54,
          50.42,
          73.73,
          41.69,
          7.33,
          36.56,
          94.92,
          38.46,
          64.35,
          191.51,
          30.35,
          97.15,
          63.86,
          82.9,
          6.9,
          45.22,
          52.54,
          12.57,
          50.96,
          66.38,
          9.25,
          7.78,
          5.76,
          7.53,
          144.72,
          52.2,
          53.77,
          9.97,
          16.9,
          59.99,
          42.66,
          1.12,
          73.63,
          95.65,
          162.81,
          21.74,
          58.8,
          44.45,
          43.56,
          113.12,
          60.88,
          5.09,
          3.38,
          5.32,
          79.58,
          73.28,
          2.31,
          68.74,
          163.74,
          29.55,
          45.16,
          3234.47,
          17.12,
          30.25,
          26.94,
          10.66,
          22.1,
          111.25,
          69.69,
          90.87,
          13.27,
          44.96,
          96.51,
          119.99,
          109.26,
          9.03,
          43.38,
          39.12,
          75.96,
          95.43,
          3.35,
          104.64,
          148.35,
          240.84,
          134.28,
          8.44,
          6.84,
          59.55,
          5.27,
          35.26,
          5.15,
          9.6,
          4.99,
          99.05,
          522.07,
          87.96,
          3.79,
          60.7,
          59.78,
          104.39,
          25.85,
          8.93,
          57.99,
          30.07,
          313.19,
          91.17,
          5.27,
          74.82,
          100.28,
          36.07,
          2.03,
          3.7,
          1.58,
          27.45,
          44.64,
          97.89,
          21.38,
          25.56,
          1.13,
          9.53,
          72.71,
          58.36,
          159.63,
          65.58,
          46.78,
          51.98,
          4.33,
          2.63,
          39.18,
          7.58,
          16.58,
          102.13,
          6.57,
          88.59,
          190.46,
          2.79,
          83.73,
          1.25,
          62.06,
          15.8,
          89.17,
          116.21,
          114.11,
          92.89,
          72.95,
          134.77,
          123.6,
          171.27,
          194,
          85.24,
          57.03,
          48.61,
          49.26,
          141.39,
          14.62,
          52.29,
          95.92,
          178.2,
          6.8,
          90.61,
          25.99,
          74.69,
          52.07,
          7.98,
          4.48,
          59.52,
          61.88,
          37,
          6.5,
          1.36,
          117.33,
          58.78,
          63.02,
          9.25,
          1.14,
          5.5,
          105.49,
          54.79,
          7.72,
          103.1,
          55.41,
          6.83,
          40.03,
          1.12,
          51.77,
          1.85,
          137.08,
          752.47,
          11.99,
          54.4,
          11.32,
          17.32,
          39.64,
          5.02,
          144.02,
          35.37,
          4.56,
          39.45,
          28.57,
          2.14,
          93.68,
          24.38,
          164.71,
          87.16,
          100.35,
          156.8,
          124.52,
          2.14,
          19.81,
          76.15,
          4.64,
          134.21,
          104.58,
          24.65,
          59.02,
          3.86,
          20.59,
          53.96,
          99.89,
          67.16,
          8.71,
          24.77,
          12.47,
          135.75,
          63.32,
          50.37,
          66.84,
          67.11,
          115.74,
          31.09,
          19.61,
          32.19,
          22.61,
          117.73,
          2.05,
          44.04,
          8.44,
          78.05,
          83.53,
          44.45,
          98.43,
          59.57,
          6.77,
          114.22,
          76.66,
          108.95,
          108.59,
          48.48,
          8.14,
          13.94,
          4.85,
          36.5,
          156.91,
          89.82,
          2.72,
          1.41,
          3.68,
          159.35,
          119.45,
          207.56,
          37.36,
          38.21,
          77.53,
          196.76,
          69.18,
          86.98,
          4.12,
          81.73,
          4.84,
          68.77,
          140.63,
          6.29,
          168.89,
          1.55,
          57.92,
          7.02,
          117.22,
          46.95,
          66.3,
          3.91,
          8.56,
          9.89,
          36.9,
          200.62,
          75.81,
          8.97,
          16.54,
          2.87,
          39.17,
          98.4,
          41.1,
          54.8,
          34.29,
          1.16,
          8.86,
          73.94,
          8.92,
          11.87,
          114.61,
          39.64,
          6.38,
          12.73,
          4.32,
          8.02,
          4.14,
          6.04,
          76.17,
          72.29,
          92.32,
          2.94,
          27.3,
          118.09,
          1.24,
          20.94,
          59.67,
          25.79,
          54.47,
          70.55,
          1.18,
          2.92,
          23.37,
          12.88,
          2.42,
          78.36,
          111.18,
          83.12,
          33.95,
          128.18,
          120.12,
          18.34,
          33.58,
          22.37,
          68.56,
          12.07,
          95.61,
          86.63,
          8.87,
          77.68,
          2.33,
          7.03,
          74.18,
          20.84,
          35.83,
          51.21,
          63.93,
          87.4,
          114.35,
          57.72,
          57.48,
          43.25,
          6.06,
          6.92,
          38.1,
          81.78,
          1.32,
          54.86,
          14.33,
          1180.3,
          113.6,
          87.36,
          7.19,
          58.88,
          74.18,
          181.18,
          55.34,
          88.16,
          94.98,
          72.12,
          8.17,
          4.54,
          13.85,
          21.39,
          94.14,
          57.54,
          74.19,
          118.04,
          30.29,
          72.41,
          7.17,
          46.81,
          8.89,
          60.17,
          124.9,
          57.93,
          11,
          47.96,
          39.76,
          28.16,
          144.01,
          113.41,
          58.81,
          23.11,
          7.24,
          78.24,
          16.04,
          1.03,
          104.24,
          36.35,
          36.6,
          1.92,
          67.91,
          36.48,
          26.03,
          2.86,
          16.51,
          155.74,
          2.28,
          56.62,
          12.86,
          1.25,
          21.79,
          51.26,
          238.56,
          47,
          57.66,
          7.88,
          31.89,
          57.39,
          925.49,
          7.03,
          38.44,
          75.58,
          135.88,
          43.35,
          7.5,
          186.06,
          1.46,
          3.84,
          3.9,
          68.7,
          4.78,
          46.61,
          205.25,
          1.56,
          46.1,
          537.77,
          2.56,
          183.41,
          2.73,
          2.74,
          30.79,
          73.73,
          6.15,
          896.94,
          143.29,
          31.41,
          83.77,
          54.95,
          306.54,
          4.51,
          21.04,
          88.08,
          132.68,
          142.92,
          5.33,
          237.56,
          35.05,
          7.02,
          15.89,
          254.7,
          15.98,
          66.29,
          61.22,
          36.48,
          6.78,
          9.81,
          286.42,
          28.83,
          72.78,
          8.05,
          260.26,
          37.85,
          1.22,
          8.17,
          21.02,
          4.31,
          5.43,
          39.83,
          24.98,
          38.74,
          115.76,
          86.23,
          77.01,
          26.54,
          179.03,
          63.89,
          28.14,
          28.8,
          252.29,
          8.06,
          60.28,
          7.52,
          18.93,
          138.72,
          5.25,
          88.7,
          15.15,
          32.23,
          28.45,
          62.15,
          2.53,
          206.43,
          161.88,
          186.12,
          122.7,
          50.93,
          68.2,
          61.04,
          48.14,
          43.91,
          115.86,
          17.77,
          20.2,
          70.5,
          64,
          85.46,
          3,
          1.55,
          4.11,
          92.07,
          133.35,
          289.5,
          47.59,
          63.19,
          52.32,
          5.17,
          96.2,
          16.21,
          68.99,
          9.19,
          8.07,
          1.16,
          30.82,
          6.67,
          9.54,
          9.39,
          8.17,
          5.79,
          84.76,
          2.97,
          80.92,
          160.41,
          6.33,
          89.68,
          4.39,
          53.29,
          26.26,
          113.11,
          40.31,
          6.61,
          52.71,
          7.82,
          410.64,
          54.95,
          86.86,
          81.82,
          58.87,
          68.85,
          70.64,
          7.7,
          53.78,
          69.71,
          3.86,
          86.47,
          24.82,
          71.41,
          5.84,
          332.13,
          16.64,
          68.11,
          119.11,
          108,
          43.65,
          48.47,
          27.62,
          353.04,
          1455.41,
          7.41,
          70.99,
          22.58,
          9.21,
          2.08,
          4.4,
          37.69,
          8.91,
          93.79,
          1.17,
          82.61,
          258.24,
          32.62,
          4.08,
          52.86,
          71.64,
          21.07,
          59.76,
          78.1,
          13.98,
          75.14,
          5.1,
          61.24,
          7.03,
          8.02,
          106.65,
          1.73,
          14.82,
          137.88,
          42.7,
          28.97,
          66.84,
          79.68,
          1.19,
          32.43,
          102.54,
          66.66,
          41.78,
          97.73,
          37.52,
          1.57,
          11.88,
          43.69,
          312.41,
          4.5,
          105.5,
          4.34,
          8.16,
          146.81,
          4.49,
          276.73,
          9.38,
          131.09,
          75.95,
          54.16,
          28.34,
          2.72,
          70.93,
          364.85,
          83.26,
          128.56,
          167.65,
          145.86,
          106.5,
          83.55,
          24.44,
          204.18,
          85.4,
          28.33,
          113.44,
          4.07,
          6.47,
          101.82,
          53.84,
          2.86,
          42.08,
          20.27,
          33.04,
          15.49,
          83.9,
          111.52,
          10.13,
          128.97,
          41.55,
          5.47,
          49.05,
          48.23,
          112.31,
          3.33,
          204.99,
          76.22,
          254.9,
          57.14,
          26.25,
          37.4,
          80.54,
          9.44,
          93.87,
          55.01,
          9.8,
          5.95,
          182.81,
          25.11,
          78.59,
          1.53,
          5.65,
          8.3,
          192.6,
          3.48,
          293.57,
          355.56,
          4.57,
          1.08,
          11.37,
          2.25,
          93.6,
          121.22,
          33.7,
          8.8,
          31.99,
          5.3,
          14.03,
          9.91,
          101.81,
          2.03,
          54.73,
          146,
          23.9,
          5.17,
          97.9,
          1.27,
          50.76,
          7.32,
          70.2,
          6.69,
          75.43,
          54.71,
          54.68,
          44.89,
          6.29,
          8.14,
          36.24,
          57.4,
          47.4,
          7.57,
          36.02,
          94.55,
          68.61,
          61.07,
          80.8,
          54.07,
          3.92,
          7.36,
          236.06,
          235.38,
          55.92,
          16.81,
          125.11,
          3.94,
          345.4,
          115.26,
          166.18,
          71.65,
          78.48,
          28.55,
          73.39,
          5.2,
          38.98,
          87.3,
          54.44,
          85.05,
          11.59,
          93.11,
          29.83,
          8.38,
          14.05,
          79.74,
          7.36,
          23.84,
          82.48,
          211.06,
          4.24,
          62.91,
          77.51,
          52.17,
          27.58,
          49.69,
          3,
          2.85,
          10.01,
          122.58,
          38.41,
          43.26,
          44.16,
          41.7,
          51.9,
          36.14,
          22.31,
          13.05,
          5.08,
          10.41,
          5.55,
          264.07,
          22.19,
          82.53,
          50.3,
          3.92,
          112.24,
          161.21,
          25.87,
          10.13,
          70.18,
          46.6,
          75.08,
          62.36,
          50.88,
          22.81,
          2.29,
          124.53,
          88.78,
          91.14,
          3.62,
          73.76,
          13.77,
          186.61,
          3.82,
          40.97,
          6.8,
          36.85,
          67.42,
          4.72,
          15.91,
          26.85,
          130.33,
          82.61,
          47.92,
          88.52,
          445.46,
          79.57,
          38.43,
          1.96,
          56.58,
          37.33,
          51.75,
          89.47,
          86.99,
          54.01,
          112.04,
          8.71,
          76.23,
          50.74,
          73.52,
          9.64,
          11.05,
          116.61,
          92.72,
          141.99,
          68.17,
          1.09,
          59.55,
          11.23,
          63.64,
          8.78,
          55.79,
          10.81,
          46.92,
          51.4,
          7.42,
          70.71,
          73.16,
          75.46,
          3.83,
          2.59,
          28.46,
          68,
          215.41,
          82.87,
          19.72,
          14.97,
          55.24,
          31.32,
          127.96,
          74.17,
          4.64,
          42.61,
          9.51,
          86.69,
          2.89,
          92.81,
          28.13,
          69.56,
          480.15,
          12.8,
          136.76,
          101.43,
          189.44,
          73.93,
          2.84,
          5.52,
          1155.65,
          61.86,
          57.64,
          7.57,
          69.52,
          4.72,
          2.19,
          9.99,
          87.61,
          38.72,
          78.69,
          5.77,
          115.95,
          72.71,
          19.97,
          41.56,
          76.84,
          36.94,
          63.61,
          51.29,
          68.37,
          36.34,
          104.16,
          2.14,
          38.21,
          11.49,
          79.51,
          95.28,
          84.07,
          207.5,
          97.13,
          96.74,
          271.23,
          41.65,
          86.05,
          203.57,
          78.29,
          66.12,
          59.68,
          1.85,
          142.89,
          8.05,
          4.56,
          23.56,
          4.89,
          7.71,
          36.56,
          2.53,
          176.14,
          35.75,
          97.1,
          78.29,
          76.36,
          4.67,
          39.72,
          61.74,
          69.5,
          64.21,
          2.32,
          51.79,
          50.92,
          7.45,
          4.36,
          22.39,
          45.66,
          35.08,
          59.43,
          39.82,
          2.72,
          67.9,
          73.48,
          36.1,
          29.89,
          105.77,
          71.91,
          59.26,
          2.3,
          8.13,
          187.31,
          61.79,
          4.24,
          1.75,
          40.08,
          156.83,
          6.48,
          59.74,
          30.02,
          8.28,
          2.48,
          797.95,
          45.51,
          60.41,
          77.31,
          68.1,
          8.31,
          165.72,
          76.63,
          209.04,
          137.11,
          44.59,
          102.28,
          30.24,
          43.94,
          39.65,
          15.46,
          1.11,
          3.22,
          23.34,
          122.07,
          3.26,
          102.49,
          26.37,
          70.35,
          18.21,
          34.79,
          38.45,
          79.38,
          102.46,
          69.42,
          7.99,
          23.66,
          82.48,
          116.24,
          37.65,
          69.75,
          405.94,
          11.51,
          47.87,
          84.08,
          3.22,
          37.98,
          161.53,
          24.47,
          80.26,
          26.84,
          139.69,
          72.76,
          3.79,
          16.53,
          35.28,
          141.46,
          60.93,
          3.96,
          86.44,
          24.38,
          91.48,
          69.73,
          52.37,
          48.32,
          8.12,
          5.28,
          78.97,
          24.92,
          75.99,
          7.13,
          7.9,
          3.59,
          12.46,
          63.22,
          51.25,
          58.95,
          71.72,
          2.25,
          25.72,
          118.02,
          63.25,
          37.48,
          93.9,
          23.04,
          122.19,
          68.51,
          114.9,
          86.14,
          102.52,
          9.09,
          26.68,
          145.79,
          5.5,
          79.11,
          14.24,
          81.29,
          2.1,
          274.48,
          13.41,
          39.61,
          7.01,
          79.96,
          4.79,
          62.39,
          56.29,
          232.42,
          118.95,
          105.97,
          26.33,
          77.92,
          19.85,
          6.76,
          213.26,
          61.45,
          71.27,
          1.4,
          43.55,
          113.73,
          8.53,
          156.63,
          50.77,
          96.62,
          103.22,
          54.24,
          184.39,
          2.93,
          1.91,
          51.2,
          1.76,
          37.97,
          13.91,
          1.33,
          9.56,
          122.7,
          5.09,
          7.84,
          222.03,
          22.99,
          6.99,
          79.83,
          175.24,
          4.63,
          143.56,
          79.92,
          99.36,
          55.83,
          81.7,
          3.93,
          9.62,
          66.31,
          1.02,
          310.79,
          2.68,
          33.45,
          2.56,
          12.03,
          47.39,
          79.75,
          8.83,
          34.66,
          62.6,
          40.81,
          132.6,
          19.29,
          57.97,
          46.39,
          2.56,
          41.52,
          95.78,
          143.29,
          118.27,
          61.65,
          14.29,
          56.57,
          127.61,
          33.53,
          53.01,
          4.78,
          276.79,
          10.56,
          6,
          57.79,
          64.51,
          3.03,
          21.87,
          75.42,
          14.88,
          202.72,
          38.6,
          2.19,
          21.05,
          28.14,
          198.38,
          101.6,
          145.34,
          26.2,
          71.35,
          70.3,
          66.28,
          89.07,
          54.44,
          66.38,
          82.47,
          420,
          3.3,
          27.87,
          4.92,
          1.95,
          8.3,
          63.98,
          10.24,
          25.92,
          1.45,
          3.68,
          213.66,
          9.95,
          7.8,
          249.91,
          207.07,
          72.86,
          69.62,
          15.29,
          116.52,
          1.96,
          42.9,
          915.99,
          7.03,
          79.37,
          64.69,
          54.17,
          110.04,
          6.47,
          45.05,
          35.53,
          7.42,
          9.96,
          55.8,
          70.26,
          2.18,
          182.66,
          132.05,
          11.5,
          77.65,
          35.87,
          5.16,
          1.46,
          50.74,
          152.1,
          99.11,
          160.91,
          26.88,
          73.89,
          43.99,
          33.32,
          40.73,
          70.4,
          72.64,
          40.77,
          2.73,
          78.1,
          2.81,
          97.35,
          129.13,
          53.96,
          55.78,
          8.3,
          55.33,
          3.4,
          16.79,
          39.64,
          54.03,
          87.87,
          3.19,
          58.13,
          7.5,
          97.99,
          2.74,
          8.52,
          26.28,
          27.5,
          236.59,
          26.61,
          65.16,
          6.5,
          123.49,
          2.56,
          28.3,
          66.59,
          3.08,
          25.83,
          36.96,
          15.36,
          3.66,
          12.36,
          35.53,
          7.64,
          106,
          15.49,
          34.4,
          23.44,
          87.08,
          62.57,
          70.58,
          17.7,
          198.46,
          187.93,
          105.05,
          20,
          7.49,
          5.06,
          3.22,
          16.05,
          1.27,
          97.52,
          8.63,
          131.45,
          22.21,
          28.23,
          81.63,
          3.09,
          11.02,
          66.76,
          149.14,
          28.34,
          6.83,
          5.84,
          71.26,
          25.2,
          9.16,
          7.11,
          69.37,
          111.16,
          22.59,
          69.59,
          29.32,
          88.34,
          108.27,
          21.3,
          64.33,
          47.97,
          64.22,
          49.43,
          46.67,
          12.39,
          59.55,
          204.14,
          5.29,
          110.63,
          157.85,
          61.5,
          6.97,
          76.44,
          91.63,
          3.5,
          53.16,
          3.88,
          33.34,
          77.66,
          192.92,
          67.63,
          293.83,
          201.2,
          131.44,
          73.13,
          213.96,
          112.78,
          103.73,
          75.9,
          62.32,
          4.58,
          6.98,
          110.94,
          6.07,
          75.05,
          1.03,
          2.91,
          5.47,
          79.9,
          97.6,
          20.86,
          4.21,
          77.74,
          12.98,
          9.2,
          96.1,
          101.05,
          6.85,
          69.31,
          117.29,
          48.01,
          7.09,
          164.03,
          1.57,
          204.42,
          26.92,
          48.94,
          80,
          49.47,
          3.83,
          99.76,
          107.78,
          1.15,
          56.82,
          13.14,
          12.05,
          39.32,
          10.16,
          69.17,
          81.38,
          2.91,
          1.45,
          99.72,
          5.03,
          157.6,
          13.29,
          21.04,
          5.39,
          165.11,
          3.95,
          102.41,
          18.55,
          6.45,
          52.4,
          272.29,
          101.91,
          58.81,
          55.19,
          1.54,
          172.95,
          109.27,
          1.02,
          64.85,
          96.45,
          8.86,
          32.96,
          8.41,
          45.52,
          3.69,
          92.63,
          56.73,
          13.38,
          8.13,
          173.55,
          52.78,
          145.1,
          1.41,
          1.34,
          55.26,
          4.26,
          1.25,
          27.31,
          9.83,
          107.18,
          85.32,
          3.4,
          64.49,
          48.71,
          120.38,
          127.13,
          22.42,
          110.07,
          22.11,
          55.6,
          3.04,
          22.47,
          30.52,
          39.49,
          74.28,
          49.9,
          56.18,
          3.33,
          2.92,
          1.43,
          173.49,
          77.47,
          3.14,
          2.32,
          131.56,
          31.66,
          6.3,
          91.58,
          65.98,
          4.58,
          4.95,
          50.53,
          133.57,
          2.39,
          176.33,
          82.7,
          48.95,
          70.24,
          93.05,
          143.42,
          60.84,
          599,
          250.71,
          12.27,
          33.55,
          16.89,
          114.8,
          248.02,
          80.72,
          116.76,
          88.54,
          49.33,
          73.27,
          9.34,
          282.74,
          76.9,
          294.03,
          2.99,
          17.97,
          8.04,
          83.36,
          100.45,
          14.37,
          48.31,
          96.8,
          79.69,
          110.96,
          43.14,
          4.23,
          230.29,
          43.34,
          10.31,
          15.08,
          63.46,
          159.88,
          33.05,
          61.98,
          3.42,
          61.96,
          5.24,
          30.62,
          4.02,
          102.99,
          13.38,
          35.23,
          75.1,
          72.59,
          24.7,
          7.04,
          1.8,
          40.94,
          77.97,
          108.93,
          97.71,
          79.28,
          9.82,
          86.26,
          12.29,
          7.11,
          64.76,
          81.58,
          68.67,
          1.13,
          99.56,
          161.77,
          9.74,
          13.1,
          6.92,
          85.21,
          53.68,
          59.52,
          12.47,
          80.08,
          148.1,
          19.64,
          49.55,
          34.03,
          28.34,
          3.11,
          4.99,
          49.54,
          62.78,
          67.74,
          4.63,
          1.28,
          8.29,
          109.44,
          3.04,
          52.87,
          63.39,
          56.73,
          63.29,
          6.99,
          9.23,
          12.4,
          17.27,
          42.12,
          26.43,
          13.73,
          111.75,
          59.52,
          51.29,
          6.51,
          2.84,
          33.4,
          195.53,
          4.5,
          64.28,
          46.79,
          35.87,
          110.45,
          61.68,
          84.21,
          20.66,
          59.99,
          34.87,
          142.99,
          60.64,
          51.06,
          200.18,
          73.99,
          6.35,
          4.42,
          28.98,
          125.72,
          121.61,
          105.15,
          201.52,
          2.98,
          6.49,
          82.68,
          9.57,
          127.73,
          3.08,
          2.18,
          163.65,
          64.47,
          23.67,
          1.1,
          86.26,
          8.6,
          11.87,
          47.39,
          36.48,
          2.68,
          108.84,
          99.66,
          4.54,
          71.25,
          129.94,
          194.9,
          8.38,
          112.04,
          117.13,
          1.04,
          3.46,
          36.75,
          69.62,
          152.85,
          86.78,
          77.48,
          65.15,
          4.25,
          106.47,
          88.64,
          55.66,
          616.22,
          12.52,
          45.23,
          109.19,
          29.01,
          232.88,
          93.74,
          53.44,
          66.66,
          13.19,
          92.48,
          49.4,
          382.47,
          4.11,
          6.73,
          84.47,
          70.43,
          63.19,
          48.1,
          14.6,
          58,
          81.52,
          9.33,
          59.74,
          8.61,
          7.52,
          59.78,
          6.06,
          79.31,
          60.53,
          228.54,
          2.85,
          70.34,
          179.57,
          57.76,
          6.85,
          4.45,
          17.08,
          61.62,
          30.16,
          92.15,
          7.04,
          5.36,
          175.88,
          87.62,
          227.45,
          49.06,
          45.07,
          2.98,
          76.89,
          131.49,
          50.15,
          8.63,
          114.34,
          1.03,
          84.03,
          3.8,
          68.88,
          14.98,
          52.75,
          42.82,
          1.53,
          4.49,
          69.75,
          125.98,
          38.36,
          75.35,
          75.89,
          57.77,
          49.48,
          46.93,
          417.04,
          6.99,
          215.25,
          2,
          67.96,
          75.86,
          78.55,
          7.21,
          96.88,
          69.08,
          9.76,
          51.86,
          34.51,
          203.85,
          125.59,
          11.21,
          35.7,
          6.68,
          34.61,
          1.14,
          76.88,
          53.98,
          7.16,
          47.23,
          3.36,
          17.23,
          60.63,
          5.53,
          69.85,
          35.28,
          124.89,
          31.11,
          17.8,
          4.61,
          68.41,
          23.24,
          35.56,
          10.88,
          103.65,
          95.64,
          155.23,
          3.69,
          8.83,
          190.03,
          104.01,
          1.68,
          22.8,
          53.03,
          91.85,
          8.44,
          3.03,
          222.45,
          66.01,
          19.4,
          51.14,
          1.78,
          1.64,
          22.38,
          1.86,
          41.44,
          1.3,
          3.24,
          94.28,
          6.48,
          29.49,
          141.66,
          66.27,
          969.65,
          72.86,
          45.38,
          51,
          1.9,
          52.22,
          85.25,
          4.67,
          41.77,
          106.44,
          35.56,
          8.13,
          131.99,
          73.26,
          12.9,
          213.25,
          134.84,
          5.81,
          31.95,
          663.66,
          48.49,
          54.6,
          50.92,
          64.88,
          43.94,
          72.11,
          20.19,
          4.62,
          86.67,
          70.93,
          4.8,
          105.31,
          14.86,
          6,
          41.55,
          77.34,
          91.29,
          17.52,
          30.68,
          42.17,
          295.85,
          15.6,
          40.87,
          6.89,
          5.43,
          110.43,
          2.72,
          3.05,
          71.87,
          6.09,
          99.42,
          3.01,
          15.73,
          8.01,
          60.93,
          72.05,
          186.13,
          95.34,
          340.25,
          96.02,
          188.58,
          28.58,
          40.4,
          4.59,
          151.72,
          56.01,
          81.41,
          17.91,
          17.22,
          13.08,
          84.85,
          8.08,
          95.02,
          10.46,
          227.35,
          2.08,
          8.69,
          7.33,
          25.97,
          1471.85,
          103.2,
          3.49,
          1.25,
          36.49,
          3.19,
          103.67,
          5.65,
          16.29,
          59.62,
          64.77,
          2.36,
          5.6,
          62.76,
          1.68,
          133.75,
          64.65,
          8.28,
          53.68,
          231.25,
          8.18,
          21.94,
          20.55,
          7.02,
          67,
          24.18,
          31.09,
          1.02,
          18.93,
          5.84,
          56.48,
          44.05,
          42.91,
          3.11,
          7.76,
          75.58,
          50.78,
          57.33,
          44.95,
          8.85,
          68.03,
          48.78,
          5.72,
          8.8,
          2.36,
          6.19,
          10.38,
          3.03,
          60.09,
          168.52,
          70.94,
          80.51,
          83.69,
          45.24,
          6.98,
          61.19,
          80.32,
          55.79,
          85.39,
          49.74,
          5.25,
          496.7,
          7.34,
          76.94,
          299.16,
          32.07,
          88.59,
          8.13,
          578.01,
          161.03,
          145.21,
          44.42,
          52.93,
          8.25,
          18.78,
          63.4,
          131.41,
          3.09,
          59.88,
          162.58,
          17.68,
          66.27,
          10.47,
          80.43,
          32.08,
          79.75,
          91.51,
          6.69,
          11.36,
          3.86,
          205.09,
          51.24,
          42.55,
          6.58,
          458.04,
          200.93,
          71.56,
          88.14,
          42.64,
          109.53,
          1.96,
          30.09,
          76.3,
          28.2,
          3.67,
          9.12,
          3.01,
          49.04,
          152.32,
          43.35,
          95.05,
          48.6,
          78.15,
          79.95,
          4.47,
          54.33,
          112.63,
          50.62,
          5.37,
          15.48,
          43.01,
          136.51,
          30.12,
          60.54,
          7.84,
          91.16,
          4.69,
          562.21,
          77.68,
          142.47,
          67.2,
          44.23,
          48.61,
          4.4,
          6.48,
          4.88,
          66.43,
          23.13,
          11.32,
          68.43,
          20.04,
          6.86,
          15.25,
          115.59,
          44.9,
          45.75,
          5.1,
          521.95,
          257.5,
          49.93,
          143.26,
          1.61,
          3.54,
          1.49,
          7.92,
          1.72,
          6.51,
          53.66,
          4.14,
          46.46,
          9.44,
          79.66,
          50.12,
          72.55,
          86.81,
          37.99,
          56.79,
          57.07,
          1.71,
          1.55,
          4.99,
          75.33,
          89.07,
          53.24,
          4.67,
          227.68,
          135.7,
          56.18,
          2853.55,
          10.17,
          6.63,
          8.67,
          52.24,
          70.9,
          76.97,
          68.41,
          218.85,
          44.43,
          20.91,
          34.47,
          35.44,
          161.26,
          1.85,
          53.3,
          25.23,
          7.37,
          4.07,
          30.14,
          70.98,
          35.16,
          90.71,
          18.08,
          8.41,
          6.53,
          333.91,
          48.72,
          16.13,
          147.25,
          5.24,
          199.96,
          48.28,
          111.59,
          3219.2,
          80.56,
          30.52,
          36.31,
          124.01,
          12.55,
          5.97,
          62.63,
          40.52,
          8.05,
          5.68,
          6.25,
          13.92,
          69.28,
          41.32,
          46.62,
          91.25,
          3.18,
          112.62,
          92.07,
          32.54,
          176.16,
          66.82,
          19.89,
          13.57,
          8.79,
          5.04,
          1.69,
          118.72,
          48.19,
          59.7,
          1.89,
          100.17,
          71.03,
          79.76,
          94.7,
          214.43,
          9.05,
          18.86,
          121.54,
          170.54,
          2.49,
          93.48,
          15.62,
          20.03,
          144.61,
          35.55,
          59.16,
          101.15,
          174.15,
          8.34,
          67.76,
          47.25,
          9.73,
          15.52,
          94.18,
          16.62,
          89.37,
          743.74,
          78.29,
          53.89,
          32.43,
          21.6,
          87.99,
          70.22,
          5.81,
          29.65,
          8.95,
          70.13,
          13.87,
          7.44,
          27.65,
          65.08,
          1.24,
          50.45,
          3.15,
          29.69,
          27.65,
          4.83,
          85.19,
          23.64,
          120.69,
          67.65,
          17.68,
          4.84,
          16.64,
          1.92,
          34.68,
          885.44,
          11.89,
          69.36,
          46.27,
          31.48,
          138.66,
          176.45,
          48.15,
          103.54,
          207.97,
          6.49,
          161.07,
          21.15,
          3.91,
          7.4,
          79.2,
          43.59,
          53.95,
          85.2,
          24.05,
          114.86,
          1.68,
          57.35,
          137.29,
          122.29,
          127.64,
          40.01,
          207.63,
          100.79,
          68.65,
          70.5,
          29.58,
          53.65,
          62.46,
          224.56,
          26.65,
          131.86,
          2.56,
          108.32,
          173.41,
          36.67,
          2.82,
          18.25,
          68.68,
          66.81,
          3.51,
          12.18,
          137.45,
          57.89,
          59.58,
          40.57,
          15.93,
          55.78,
          66.04,
          60.06,
          51.64,
          2.22,
          48.18,
          149.18,
          32.21,
          5.82,
          2.2,
          3.32,
          58.59,
          50.33,
          21.02,
          7.03,
          110.24,
          2.56,
          7.28,
          50.95,
          65.7,
          65.86,
          5.99,
          37.79,
          54.03,
          68.67,
          61.58,
          3.73,
          167.31,
          20.96,
          106.36,
          60.08,
          2.68,
          56.87,
          67.97,
          65.42,
          23.76,
          130.26,
          78.4,
          118.18,
          29.84,
          52.45,
          89.49,
          91.85,
          4.03,
          89.2,
          78.52,
          3.04,
          51,
          122.88,
          25.82,
          40.07,
          142.9,
          114.19,
          73.87,
          76.13,
          1.16,
          1.25,
          72.09,
          85.08,
          66.28,
          14.91,
          172.64,
          71.86,
          10.73,
          26.92,
          99.27,
          42.34,
          90.3,
          4.89,
          6.59,
          1.17,
          67.26,
          117.6,
          2.11,
          129.13,
          42.96,
          6.77,
          18.44,
          7.27,
          14.66,
          125.23,
          57.32,
          33.54,
          12.16,
          36.65,
          138.15,
          3333.99,
          46.1,
          6.08,
          7.38,
          88.59,
          137.47,
          79.02,
          2.91,
          246.53,
          64.16,
          133.79,
          15.52,
          32.01,
          432.36,
          77.52,
          23.76,
          75.08,
          30.84,
          84.29,
          448.44,
          16.78,
          121.07,
          47.53,
          36,
          1.99,
          7.07,
          30.64,
          90.46,
          56.37,
          1.17,
          7.83,
          372.72,
          6.33,
          73.32,
          75.46,
          49.15,
          47.19,
          32.44,
          6.4,
          7.58,
          14.04,
          16.5,
          34.61,
          110.03,
          104.49,
          3.73,
          1.64,
          52.45,
          46.75,
          25.96,
          110.66,
          32.45,
          86.26,
          51.26,
          35.22,
          13.02,
          73.55,
          70.8,
          61.74,
          7.59,
          52.26,
          3.88,
          153.43,
          38.45,
          194.84,
          42.71,
          103.14,
          70.4,
          9.56,
          77.48,
          35.63,
          1.74,
          212.7,
          113.68,
          51.45,
          2.23,
          5.69,
          9.62,
          41.84,
          6.56,
          908.65,
          9.09,
          90.16,
          67.12,
          30.07,
          1.13,
          29.94,
          18.39,
          58.34,
          11.8,
          6.05,
          8.91,
          78.1,
          97.44,
          3.57,
          5.31,
          8.22,
          32.25,
          69.37,
          119.07,
          58.61,
          30.63,
          15.34,
          81.83,
          5.07,
          51.17,
          3.82,
          29.51,
          31.72,
          110.34,
          6.87,
          50.62,
          55.81,
          129.45,
          79.17,
          27.27,
          154.27,
          6.95,
          104.87,
          59.22,
          190.77,
          6.43,
          35.22,
          26.78,
          104.8,
          9.08,
          60.44,
          29.05,
          27.02,
          70.87,
          23.53,
          15.25,
          4.53,
          50.32,
          47.77,
          105.36,
          98.05,
          5.15,
          7.24,
          42.22,
          67.48,
          30.43,
          11,
          4.22,
          3194.76,
          52.39,
          79.25,
          169.7,
          136.12,
          52.33,
          118.16,
          79.11,
          86.24,
          115.6,
          66.54,
          312.75,
          11.63,
          86.69,
          27.76,
          9.27,
          52,
          50.85,
          74.03,
          25.79,
          74.32,
          3.94,
          36.96,
          98.08,
          116.96,
          9.79,
          139.11,
          44.34,
          6.64,
          16.84,
          68.6,
          5.82,
          52.74,
          93.69,
          133.03,
          450.48,
          26.43,
          4.85,
          13.28,
          78.91,
          58.54,
          44.03,
          26.23,
          5.18,
          9.42,
          86.53,
          7.7,
          58.07,
          20.75,
          5.64,
          89.87,
          23.66,
          24.24,
          1.5,
          78.45,
          120.71,
          26.19,
          92.7,
          33.46,
          8.95,
          64.1,
          85.16,
          40.43,
          20.53,
          69.04,
          140.75,
          6.58,
          49.36,
          40.44,
          26.61,
          8.79,
          64.83,
          103.99,
          110.75,
          49.71,
          81.31,
          52.77,
          53.03,
          19.4,
          51.45,
          10.87,
          68.35,
          19.44,
          25.37,
          241.72,
          99.68,
          100.85,
          22,
          223.09,
          75.82,
          54.83,
          76.33,
          40.09,
          13.89,
          4.71,
          9.43,
          77.39,
          65.01,
          183.68,
          98.73,
          2.82,
          23.66,
          44.31,
          64.93,
          33.21,
          3.69,
          61.91,
          37.18,
          5.61,
          6.49,
          206.42,
          4.33,
          37.34,
          13.92,
          231.9,
          44.08,
          51.51,
          5.1,
          93.56,
          134.43,
          4.37,
          38.33,
          3.58,
          8.63,
          112.18,
          15.73,
          98.14,
          20.19,
          39.59,
          5.19,
          57.38,
          4.97,
          6.58,
          7.15,
          10.36,
          136.74,
          6.12,
          2.18,
          7.18,
          169.43,
          16.4,
          26.64,
          6.09,
          4.29,
          11.52,
          47.04,
          77.07,
          33.93,
          195.19,
          249.23,
          53.64,
          18.15,
          5.78,
          4.65,
          19.48,
          36.59,
          33.43,
          52.67,
          13.97,
          1.77,
          2.86,
          3.52,
          22.22,
          325.47,
          1.48,
          63.12,
          3.25,
          57.1,
          52.66,
          81.65,
          158.84,
          81.76,
          53.31,
          257.06,
          112,
          81.92,
          24.54,
          47.68,
          76.76,
          58.16,
          32.54,
          24.49,
          31.62,
          49.43,
          77.45,
          11.89,
          181.25,
          72.5,
          1.48,
          4.12,
          5.93,
          89.37,
          312.96,
          11.97,
          122.7,
          31.51,
          80.82,
          1.97,
          80.58,
          20.21,
          9.65,
          8.56,
          19.89,
          39.54,
          5.38,
          80.37,
          16.37,
          66.66,
          104.1,
          10.2,
          12.8,
          164.19,
          6.4,
          3.27,
          5.11,
          193.51,
          41.05,
          124.22,
          2.26,
          16.75,
          6.95,
          61.4,
          11.85,
          243.24,
          7.17,
          142.94,
          67.48,
          311.11,
          74.26,
          8.32,
          3.17,
          34.08,
          33.67,
          45.62,
          182.67,
          8.51,
          4.15,
          63.2,
          5.16,
          98.2,
          51.01,
          8.04,
          50.68,
          8.84,
          61.87,
          5.75,
          59.85,
          51.18,
          32.33,
          67.7,
          22.07,
          1.37,
          73.87,
          1.68,
          96.08,
          71.84,
          62.53,
          6.66,
          37.92,
          2.7,
          41.78,
          4.92,
          72,
          31.38,
          214.26,
          90.45,
          8.91,
          58.51,
          81.85,
          79.42,
          8.3,
          6.53,
          269.8,
          5.19,
          59.19,
          32.8,
          45.02,
          21.4,
          103.48,
          208.17,
          35.77,
          53.6,
          61.29,
          185.54,
          8.52,
          1.09,
          33.35,
          1.13,
          93.26,
          22,
          28.76,
          1.69,
          2.02,
          4.21,
          102.85,
          68.07,
          118.35,
          9.55,
          15.95,
          300.08,
          70.2,
          106.5,
          18.03,
          51.93,
          2.04,
          8.78,
          104.2,
          105.04,
          3.37,
          184.68,
          29.43,
          19.32,
          1.13,
          9.51,
          20.29,
          401.36,
          3.34,
          5.09,
          4.17,
          7.47,
          113.68,
          51.42,
          123.51,
          2.87,
          70.7,
          5.8,
          50.52,
          43.06,
          25.99,
          73.94,
          9.58,
          138.57,
          47.62,
          8.4,
          9.78,
          116.86,
          102.1,
          8.92,
          64.68,
          114.13,
          46.11,
          72.82,
          34.16,
          106.09,
          7.72,
          4.49,
          42.53,
          32.97,
          14.41,
          53.21,
          6.6,
          91.77,
          108.25,
          58.07,
          74.48,
          84.15,
          48.31,
          16.38,
          75.56,
          73.87,
          176.47,
          46.71,
          1.93,
          69.08,
          138.22,
          65.26,
          5.27,
          3.87,
          65.01,
          44.12,
          84.39,
          130.97,
          205.17,
          149.28,
          42.13,
          144.41,
          43.34,
          79,
          3.89,
          5.83,
          24.38,
          70.66,
          54.73,
          9.78,
          5.93,
          4.93,
          95.09,
          4.54,
          149.22,
          6.38,
          25.76,
          7.59,
          74.93,
          83.48,
          82.85,
          4.33,
          75.88,
          2,
          79.2,
          92.9,
          4.76,
          6.9,
          25.46,
          87.57,
          57.74,
          170.28,
          116.57,
          99.47,
          103.56,
          600.53,
          3.06,
          5.99,
          9.31,
          93.83,
          14.27,
          185.18,
          5.47,
          8.53,
          3.41,
          20.46,
          10.15,
          95,
          87.08,
          1.01,
          3.6,
          6.56,
          23.43,
          123.28,
          390.37,
          70.71,
          170.91,
          102.19,
          9.05,
          379.76,
          140.05,
          7.71,
          4.89,
          73.59,
          24.22,
          86.67,
          7.15,
          213.98,
          39.86,
          31.79,
          3.59,
          175.44,
          8.2,
          41.1,
          5.8,
          54.57,
          60.13,
          3.51,
          48.67,
          4.07,
          4.78,
          9.66,
          130.58,
          9.44,
          6.52,
          57.42,
          1.44,
          39.18,
          33.19,
          133.41,
          3.59,
          1.57,
          52.63,
          75.74,
          44.77,
          212.05,
          10.4,
          4.09,
          78.12,
          89.87,
          91,
          40.36,
          8.6,
          2.66,
          1.04,
          81.63,
          26.24,
          130.98,
          14.71,
          7.83,
          63.91,
          80.54,
          6.58,
          1.13,
          38.62,
          64.97,
          1.94,
          123.55,
          8.43,
          94.57,
          74.09,
          10.67,
          27.94,
          18.38,
          32.67,
          52.53,
          322.79,
          114.09,
          6.97,
          47.58,
          2.02,
          675.63,
          31.12,
          168.41,
          59.83,
          10.95,
          49.26,
          55.56,
          67.86,
          85.75,
          12.11,
          110.51,
          54.38,
          861.82,
          52.58,
          1.62,
          108.28,
          67.21,
          199.62,
          1.34,
          72,
          73.16,
          64.29,
          123.94,
          47.99,
          69.92,
          71.24,
          127.95,
          4.38,
          6.31,
          2.92,
          73.64,
          78.09,
          40.78,
          106.22,
          39.74,
          61.97,
          71.17,
          4.17,
          2.32,
          145.02,
          2.93,
          47.57,
          29.94,
          53.95,
          5.67,
          25.12,
          6.46,
          4.22,
          48.54,
          49.61,
          2.15,
          79.68,
          1.78,
          24.85,
          149.85,
          2.19,
          5.03,
          6.06,
          85.11,
          3710.15,
          51.39,
          56.78,
          59.27,
          21.3,
          96.86,
          195.55,
          46.4,
          3.41,
          153.95,
          22.37,
          434.87,
          3.73,
          100.58,
          46.31,
          114.81,
          2.13,
          9.95,
          729.38,
          8.24,
          6.58,
          4.63,
          14.75,
          65.39,
          46.72,
          79.38,
          365.83,
          40.02,
          12.81,
          143.08,
          3.19,
          31.36,
          1.95,
          20.15,
          39.04,
          2.89,
          6.57,
          114.57,
          74.75,
          39.86,
          72.98,
          67.79,
          92.7,
          304.9,
          126.73,
          19.86,
          90.54,
          27.78,
          13.08,
          13.5,
          47.66,
          14.45,
          108.36,
          112.99,
          38.24,
          27.58,
          27.34,
          73.96,
          88.63,
          51.75,
          62.41,
          48.79,
          19.35,
          92.46,
          22.16,
          24.48,
          8.63,
          1.84,
          17.86,
          43.05,
          59.28,
          8.41,
          3.23,
          45.77,
          26.86,
          83,
          206.44,
          101.48,
          155.82,
          25.12,
          63.59,
          71.74,
          57.48,
          2.27,
          4.65,
          56.66,
          137.8,
          49.33,
          9.22,
          55.67,
          14.56,
          123.34,
          152.01,
          113.67,
          3.91,
          42.05,
          2.94,
          67.67,
          2.81,
          74.87,
          204.25,
          13.04,
          5.52,
          191.45,
          161.68,
          72.98,
          126,
          1004.83,
          98.31,
          1.23,
          32.05,
          75.85,
          6.79,
          64.55,
          1.55,
          26.68,
          6.1,
          6.58,
          8.74,
          70.91,
          127.04,
          11.76,
          21.88,
          8.73,
          79.82,
          67.91,
          22.06,
          7.69,
          32.54,
          2.07,
          46.52,
          9.58,
          127.52,
          80.56,
          84.66,
          9.11,
          3.7,
          81.47,
          30.9,
          2.5,
          6.51,
          7.73,
          68.8,
          9.03,
          97.75,
          6.82,
          77.67,
          837.39,
          95.89,
          199.83,
          83.67,
          8.84,
          61.28,
          34.22,
          69.25,
          62.29,
          88.19,
          6.62,
          36.12,
          75.81,
          24.04,
          153.5,
          124.65,
          190.55,
          37.78,
          92.26,
          9.18,
          46.15,
          82.89,
          90.42,
          43.7,
          77.27,
          56.58,
          1.1,
          7.25,
          65.54,
          1.09,
          29.9,
          5.57,
          72.27,
          4.6,
          1.05,
          57.45,
          116.31,
          23,
          20.04,
          78.3,
          113.81,
          61.49,
          6.94,
          26.11,
          218.5,
          21.05,
          49.68,
          37.39,
          8.4,
          536.83,
          100.52,
          97.44,
          82.7,
          17.45,
          68.57,
          5.25,
          50.47,
          210.81,
          95.89,
          105.43,
          39.28,
          11.79,
          125,
          32.65,
          234.84,
          108,
          225.31,
          80.42,
          50.69,
          10.92,
          61.55,
          49.63,
          43.75,
          377.04,
          1025.41,
          38.49,
          108.64,
          54.62,
          99.47,
          1.02,
          13.11,
          33.42,
          21.02,
          1.47,
          39.22,
          139.39,
          118.82,
          93.24,
          120.92,
          77.39,
          25.02,
          168.2,
          5.21,
          3.51,
          48.87,
          3.5,
          122.23,
          135.13,
          47.13,
          342.12,
          107.45,
          110.59,
          46.8,
          28.56,
          45.13,
          93.71,
          16.38,
          98.05,
          52.2,
          69.61,
          8.59,
          21.66,
          5.28,
          203.99,
          7.92,
          3.53,
          3.97,
          61.41,
          784.83,
          198.53,
          113.58,
          21.99,
          17.99,
          4.53,
          2.06,
          68.94,
          23.52,
          109.49,
          207.4,
          6.71,
          10.87,
          55.02,
          2.9,
          152.5,
          30.25,
          48.43,
          52.43,
          56.9,
          177.71,
          116.04,
          164.47,
          44.05,
          58.43,
          8.48,
          110.62,
          42.62,
          12.29,
          1.66,
          85.7,
          77.42,
          30.54,
          4.75,
          17.59,
          122.27,
          69.68,
          51.1,
          41.18,
          791.6,
          187.64,
          119.47,
          74.61,
          93.28,
          7.5,
          89.96,
          52.83,
          18.67,
          10.2,
          8.04,
          11.86,
          62.58,
          148.49,
          17.93,
          21.01,
          7.29,
          35.79,
          132.51,
          33.57,
          1.98,
          75.41,
          31.44,
          49.2,
          19.83,
          4.38,
          176.43,
          68.01,
          29.6,
          128.46,
          7.05,
          103.94,
          41.45,
          3.94,
          69.87,
          53.7,
          64.94,
          10.41,
          3.4,
          4.55,
          9.61,
          63.69,
          12.87,
          8.41,
          3.66,
          65.81,
          43.43,
          32.33,
          2,
          34.39,
          5.48,
          8.9,
          44.6,
          17.87,
          2.34,
          62.77,
          53.15,
          12.95,
          207.97,
          1.4,
          13.08,
          130.52,
          83.45,
          23.23,
          118.82,
          3.14,
          9,
          6.42,
          195.81,
          4.24,
          2.08,
          31.11,
          49.66,
          60.09,
          50.43,
          115.5,
          63.55,
          48.33,
          6.42,
          6.42,
          122.04,
          62.69,
          37.15,
          18.54,
          63.25,
          512.35,
          125.66,
          58.15,
          1.42,
          89.14,
          6.63,
          65.68,
          31.1,
          59.96,
          310.64,
          87.72,
          31.64,
          44.72,
          28.02,
          72.52,
          30.13,
          77.36,
          29.41,
          67.63,
          70.29,
          14.17,
          3.86,
          72.83,
          8.23,
          1.48,
          28.74,
          7.88,
          76.86,
          6.84,
          88.65,
          97.13,
          78.06,
          113.7,
          28.78,
          69.26,
          63.08,
          70.27,
          21.54,
          174.1,
          4.51,
          33.98,
          5.88,
          32,
          43.77,
          18.96,
          69.42,
          15.71,
          11.68,
          122.01,
          43.23,
          60.28,
          11.57,
          154.76,
          30.65,
          2.79,
          5.02,
          90.12,
          7.79,
          13.36,
          25.96,
          70.19,
          28.5,
          8.91,
          72.56,
          72.55,
          6.91,
          25.3,
          4.32,
          47.14,
          130.22,
          31.53,
          36.37,
          6.86,
          148.56,
          2.77,
          73.42,
          8.17,
          11.27,
          38.13,
          76.3,
          85.93,
          67.06,
          86.64,
          43.01,
          2.08,
          1.38,
          35.52,
          88.08,
          192.75,
          1.2,
          46.94,
          60.66,
          217.04,
          23.6,
          12.87,
          51.3,
          61.83,
          1.7,
          3.53,
          84.55,
          77.65,
          296.29,
          58.9,
          7.73,
          137.38,
          248.73,
          96.16,
          609.12,
          42.04,
          93.45,
          130.3,
          3.77,
          6.27,
          56.67,
          21.12,
          155.66,
          42.75,
          103.68,
          124.83,
          26.15,
          5.21,
          66.45,
          70.83,
          66.43,
          32.66,
          10.28,
          109.21,
          267.15,
          315.77,
          18.12,
          4.96,
          45.85,
          68.64,
          249.78,
          6.26,
          74.37,
          21.15,
          1.06,
          14.54,
          76.56,
          7.34,
          72.07,
          72.49,
          52.67,
          2.42,
          147.59,
          89.69,
          33.32,
          300.58,
          84.15,
          261.7,
          26.7,
          144.87,
          9.18,
          51.72,
          46.15,
          3.83,
          169.97,
          1.48,
          22.06,
          40.11,
          27.91,
          109.17,
          7.04,
          3.9,
          51.98,
          46.82,
          4.16,
          7.85,
          3.65,
          84.88,
          52.5,
          1.63,
          147.44,
          131.64,
          93.77,
          23.98,
          7.21,
          121.37,
          74.84,
          69.2,
          1.37,
          51.01,
          61.11,
          92.77,
          80.95,
          15.2,
          6.2,
          70.81,
          77.43,
          205.27,
          40.76,
          2.52,
          1.58,
          92.85,
          54.48,
          2.51,
          1.8,
          36.88,
          89.54,
          135.46,
          2.51,
          109.47,
          67.94,
          14.15,
          7.59,
          156.08,
          54.71,
          7.81,
          72.29,
          112.16,
          932.7,
          4.47,
          28.56,
          91.2,
          4.07,
          61.15,
          9.36,
          86.2,
          205.05,
          28.36,
          65.03,
          40.68,
          66.07,
          72.96,
          15.99,
          53.01,
          179.74,
          22.21,
          23.7,
          463.67,
          84.55,
          98.42,
          87.43,
          45.81,
          22.28,
          93.15,
          6.6,
          138.88,
          16.6,
          3.87,
          68.41,
          9.41,
          7.36,
          27.53,
          101.56,
          85.86,
          121.44,
          4.44,
          266.95,
          89.8,
          158.19,
          2.43,
          68.48,
          6.22,
          71.7,
          108.12,
          2.18,
          40.94,
          542.33,
          84.8,
          30.63,
          1.41,
          63.23,
          116.16,
          88.34,
          160.08,
          2.61,
          184.11,
          177.53,
          87.39,
          109.7,
          43.07,
          11.21,
          71.83,
          79.31,
          1.2,
          1.89,
          7.73,
          4.81,
          26.9,
          89.99,
          38.11,
          102.57,
          7.31,
          98.43,
          9.47,
          13.25,
          37.69,
          29.69,
          1.13,
          44.27,
          85.12,
          104.79,
          11.17,
          127.86,
          69.63,
          8.21,
          65.66,
          54.98,
          133.07,
          9.97,
          302.95,
          181.12,
          12.2,
          84.27,
          79.73,
          1.93,
          78.8,
          76.07,
          2.54,
          4.07,
          80.58,
          7.12,
          101.2,
          9.72,
          35.37,
          63.6,
          1.81,
          108.91,
          190.35,
          32.91,
          38.21,
          67.97,
          123.59,
          22.32,
          6.41,
          22.6,
          49.54,
          2.47,
          48.74,
          5.29,
          82.15,
          24.15,
          75.72,
          26.54,
          21.62,
          77.78,
          1.18,
          7.67,
          69.35,
          74.42,
          6.53,
          44.42,
          5.4,
          109,
          82.08,
          14.08,
          108.65,
          205.97,
          37.03,
          51.31,
          12.52,
          89.28,
          7.6,
          88.56,
          17.43,
          53.58,
          90.23,
          4.62,
          91.08,
          7.37,
          1.28,
          65.84,
          59.72,
          961.7,
          9.11,
          86.92,
          48.85,
          52.32,
          105.62,
          2.04,
          28.57,
          3.16,
          201.25,
          8.26,
          9.81,
          7.56,
          40.98,
          42.07,
          49.56,
          146.19,
          54.32,
          9.21,
          9.09,
          7.27,
          15.63,
          8.13,
          32.15,
          1.33,
          125.01,
          35.46,
          12.07,
          79.69,
          45.6,
          61.86,
          3.87,
          123.4,
          21.57,
          251.7,
          4.31,
          4.94,
          93.2,
          94.42,
          107.63,
          7.53,
          6.67,
          43.87,
          1.37,
          71.54,
          142.09,
          37.18,
          65.15,
          40.59,
          5.68,
          65.67,
          53.21,
          1.54,
          15.45,
          9.88,
          104.87,
          87.26,
          147.27,
          128.69,
          44.08,
          31.05,
          75.16,
          51.57,
          59.33,
          121.65,
          61.91,
          68.9,
          9.02,
          5.14,
          55.17,
          1.05,
          229.27,
          86.42,
          22.58,
          46.1,
          51.73,
          72.57,
          34.5,
          1.98,
          2.88,
          9.77,
          17.66,
          70.33,
          7.35,
          10.67,
          80.04,
          2.53,
          123.29,
          8.46,
          49.15,
          11.22,
          1.53,
          78.07,
          3.05,
          127.35,
          209.38,
          14.75,
          1.34,
          33.8,
          11.93,
          6.27,
          3.12,
          21.83,
          27.01,
          82.69,
          1.17,
          1.03,
          9.79,
          76.68,
          54.36,
          7.16,
          46.47,
          61.18,
          6.51,
          13.39,
          2.22,
          106.7,
          1.12,
          19.44,
          75.38,
          65.98,
          351.95,
          67.28,
          55.91,
          67.96,
          2.05,
          71.83,
          1.29,
          136.64,
          140.74,
          146.85,
          1.58,
          65.74,
          8.34,
          6.15,
          63.45,
          42.96,
          8.13,
          49.62,
          6.52,
          49.45,
          5.75,
          100.24,
          4.47,
          85.7,
          40.22,
          8.88,
          36.78,
          22.78,
          7.35,
          66.27,
          7.75,
          84.89,
          4.95,
          16.21,
          6.25,
          116.36,
          84.94,
          41.67,
          34.36,
          1.8,
          44.42,
          91.26,
          16.14,
          69.02,
          6.25,
          64.03,
          48.22,
          95.98,
          29.05,
          6.33,
          6.13,
          6.76,
          9.51,
          4.36,
          33.52,
          149.26,
          70.65,
          165.34,
          170.88,
          6.24,
          89.35,
          13.55,
          7.12,
          9.47,
          10.55,
          26.19,
          2.35,
          86.64,
          362.63,
          15.85,
          129.29,
          46.31,
          20.97,
          54.37,
          93.43,
          204.11,
          3.13,
          41.5,
          4.3,
          44.59,
          25.27,
          75.88,
          32.19,
          5.02,
          49.6,
          23.37,
          76.02,
          125.83,
          1.82,
          57.4,
          24.36,
          10.04,
          9.88,
          43,
          4.68,
          2.76,
          59.52,
          3.27,
          144.83,
          260.62,
          6.19,
          24.97,
          1.91,
          188.01,
          1.46,
          9.33,
          159.53,
          16.9,
          57.09,
          104.57,
          57.51,
          12.64,
          3.57,
          13.75,
          38.08,
          5.3,
          38.01,
          15.74,
          65.95,
          13.55,
          47.1,
          1.56,
          8.89,
          100.56,
          2.53,
          7.81,
          68.56,
          6.98,
          77.07,
          3.25,
          74.14,
          224.91,
          78.78,
          6.36,
          5.15,
          146.79,
          73.11,
          118.53,
          3.39,
          41.9,
          47.87,
          5.06,
          36.06,
          91.05,
          123.54,
          4.85,
          31.5,
          3.55,
          43.14,
          304.89,
          1.49,
          8.75,
          45.61,
          9.06,
          467.2,
          45.56,
          16.61,
          51.09,
          716.54,
          130.43,
          58.14,
          102.42,
          22.01,
          2.61,
          218.58,
          3.21,
          28.32,
          2.89,
          8.05,
          2.31,
          72.4,
          133.03,
          156.04,
          20.55,
          48.76,
          578.41,
          6.77,
          4.99,
          4.54,
          42.92,
          8.7,
          34.69,
          78.87,
          62.2,
          23.08,
          2.78,
          38.33,
          29.87,
          207.92,
          63.9,
          18.8,
          18.01,
          5.69,
          116.06,
          74.83,
          130.06,
          57.03,
          25.74,
          1.37,
          15.89,
          49.21,
          92.78,
          1.34,
          42.74,
          118.31,
          27.18,
          67.94,
          56.51,
          55.86,
          77.17,
          3.36,
          42.08,
          33.03,
          1.62,
          39.59,
          108.55,
          62.47,
          191.38,
          2.33,
          58.63,
          94.07,
          40.87,
          37.33,
          183.45,
          6.41,
          91.59,
          3.91,
          7.48,
          7.02,
          31.66,
          76.73,
          590.76,
          66.7,
          183.09,
          111.44,
          590.58,
          6.39,
          9.7,
          54.02,
          5.54,
          5.03,
          69.88,
          5.23,
          61.39,
          33.22,
          314.57,
          65.26,
          19.85,
          543.49,
          6.26,
          7.27,
          41.46,
          14.05,
          5.32,
          3.16,
          212.99,
          5.68,
          50.3,
          155.01,
          7.49,
          42.52,
          50.46,
          76.72,
          5.24,
          6.9,
          80.71,
          4.3,
          349.69,
          29.89,
          100.04,
          128.27,
          13.88,
          78.23,
          8.35,
          35.81,
          104.12,
          2.04,
          40.13,
          94.71,
          29.12,
          32.18,
          4.47,
          106.62,
          79.82,
          67.42,
          43.3,
          115.86,
          4.71,
          127.83,
          1.82,
          69.7,
          38.51,
          55.02,
          26,
          49.45,
          91.5,
          3.86,
          43.53,
          69.61,
          195.29,
          63.16,
          6.08,
          2.76,
          3.92,
          41.74,
          4.36,
          6.28,
          8.15,
          46.55,
          171.77,
          6.89,
          24.64,
          9.99,
          88.46,
          53.14,
          102.3,
          115.53,
          40.78,
          1.9,
          117.4,
          57,
          26.93,
          102.95,
          3.45,
          1.47,
          47.23,
          35.43,
          254.43,
          5.15,
          141.5,
          8.96,
          7.92,
          130,
          47.44,
          79.16,
          5.16,
          70.28,
          68.47,
          84.61,
          203.48,
          101.47,
          5.33,
          59.28,
          70.22,
          8.1,
          8.49,
          20.68,
          28.97,
          7.91,
          61.95,
          191.47,
          63.1,
          4.51,
          4.16,
          50.33,
          62.84,
          51.37,
          24.84,
          39.24,
          333.43,
          55.05,
          38.5,
          51.94,
          51.83,
          116.5,
          46.53,
          67.26,
          78.42,
          134.18,
          76.15,
          8.75,
          8.26,
          7.47,
          223.6,
          48.35,
          98.29,
          3.91,
          75.75,
          4.41,
          50.91,
          11.5,
          32.35,
          52.34,
          105.82,
          7.94,
          1107.13,
          133.5,
          92.2,
          73.52,
          113.42,
          42.82,
          12.37,
          71.72,
          5.22,
          9.48,
          40.88,
          159.03,
          162.5,
          9.97,
          40.59,
          9.62,
          138.81,
          22.28,
          4.85,
          4.42,
          61.55,
          3.2,
          4.23,
          83.95,
          48.13,
          59.07,
          139.57,
          25.72,
          45.81,
          33.73,
          57.96,
          47.52,
          9.18,
          234.65,
          95.78,
          27.88,
          36.37,
          29.68,
          158.52,
          42.96,
          132.55,
          37.02,
          2.45,
          89.65,
          25.48,
          86.59,
          52.95,
          194.39,
          148.99,
          6.91,
          258.6,
          22.66,
          42.52,
          112.19,
          98.64,
          24.78,
          92.54,
          1.79,
          125.63,
          151.95,
          147.9,
          36.9,
          92.76,
          16.5,
          18.84,
          100.1,
          128.42,
          229.88,
          75.13,
          47.09,
          239.33,
          82.01,
          1.8,
          6.97,
          4.11,
          99.85,
          6.3,
          97.95,
          5.36,
          5.29,
          84.18,
          45.32,
          26.84,
          125.8,
          200.79,
          57.5,
          511.41,
          4.25,
          49.14,
          65.5,
          15.62,
          63.39,
          66.61,
          74.21,
          59.43,
          19.46,
          2.14,
          150.41,
          128.51,
          51.51,
          69.03,
          4.23,
          138.59,
          56.77,
          113.93,
          55.01,
          18.12,
          2.47,
          3.99,
          21.86,
          4.66,
          1.48,
          79.35,
          2.83,
          63.47,
          46.52,
          10.97,
          99.7,
          27.14,
          67.26,
          85.28,
          125.69,
          57.89,
          42.28,
          53.9,
          9.88,
          16.96,
          9.07,
          9.24,
          10.62,
          626.79,
          82.56,
          71.97,
          9.01,
          103.92,
          12.59,
          87,
          220.4,
          204.01,
          134.36,
          34.78,
          9.59,
          149.56,
          7.02,
          7.28,
          84.27,
          9.16,
          67.98,
          25.3,
          4.17,
          24.51,
          46.12,
          43.23,
          111.78,
          138.77,
          2.36,
          2.22,
          95.35,
          134.67,
          45.91,
          6.87,
          4.24,
          3.18,
          65.01,
          4.82,
          82.32,
          89.31,
          5.29,
          7.39,
          56.43,
          283.05,
          25.42,
          9.81,
          48.23,
          90.82,
          42.28,
          40.7,
          79.33,
          3.73,
          8.56,
          5.71,
          64.56,
          59.32,
          41.38,
          75.26,
          66.34,
          103.15,
          88.4,
          57.95,
          38.67,
          67.34,
          35.9,
          7.84,
          6.75,
          67.29,
          101.87,
          74.66,
          62.86,
          36.69,
          31.3,
          135.01,
          21.71,
          66.98,
          14.18,
          174.16,
          15.48,
          50.53,
          8.05,
          223.38,
          39.07,
          17.56,
          1.19,
          59.74,
          896.08,
          60.08,
          107.15,
          40.92,
          51.74,
          1.39,
          5.82,
          93.29,
          7.28,
          62.38,
          31.73,
          7.9,
          7.57,
          165.83,
          1.09,
          61.54,
          81.37,
          145.66,
          36.1,
          9.1,
          116.28,
          86.96,
          19.03,
          209.79,
          5.96,
          5.34,
          56.67,
          106.46,
          61.94,
          176.63,
          17.91,
          1.23,
          52.52,
          19.57,
          99.92,
          78.53,
          108.87,
          3.26,
          63.78,
          203.48,
          76.49,
          12.14,
          76.31,
          68.89,
          77.55,
          4.58,
          7.94,
          56.84,
          65.91,
          8.4,
          64.51,
          70.01,
          164.33,
          43.65,
          82.95,
          87,
          7.42,
          5.8,
          42.85,
          6.7,
          130.79,
          199.95,
          14.18,
          4.44,
          9.11,
          1.79,
          20.32,
          93.7,
          81.35,
          34.1,
          9.31,
          93.33,
          6.01,
          5.01,
          130.07,
          123.52,
          2.92,
          181.07,
          3.17,
          20.24,
          7.48,
          2.75,
          47.55,
          16.39,
          1.73,
          68.05,
          3.61,
          65.84,
          72.04,
          2.34,
          9.09,
          45.41,
          61.22,
          38.6,
          122.28,
          136.13,
          5.12,
          3.62,
          3.49,
          45.56,
          28.99,
          42.13,
          7.94,
          49.09,
          7.2,
          12.35,
          321.51,
          622.53,
          26.89,
          8.75,
          80.32,
          93.37,
          17.2,
          386.21,
          46.47,
          34.09,
          80.09,
          8.29,
          6.19,
          8.93,
          56.25,
          84.01,
          69.23,
          144.11,
          12.42,
          6.39,
          42.04,
          97.98,
          22.42,
          86.62,
          6.87,
          8.58,
          13.37,
          151.06,
          18.11,
          2.81,
          2.76,
          37.25,
          20.02,
          3.08,
          16.46,
          2.43,
          127.57,
          81.69,
          84.1,
          161.29,
          83.47,
          259.22,
          154.35,
          111.87,
          113.33,
          22.57,
          45.41,
          225.27,
          44.03,
          107.23,
          146.37,
          110.39,
          64.38,
          41.91,
          51.74,
          2.14,
          3.04,
          190.08,
          331.1,
          144.63,
          101.19,
          5.08,
          55.85,
          120.91,
          66.94,
          66.12,
          8.57,
          3.93,
          32.83,
          4.61,
          71.17,
          7.73,
          45.68,
          67.44,
          84.42,
          4.89,
          1.09,
          62.01,
          5.53,
          215.55,
          154.72,
          2.48,
          21.36,
          8.22,
          95.95,
          77.76,
          18.69,
          11.13,
          40.35,
          2.8,
          13.23,
          4.14,
          55.93,
          2.93,
          73.61,
          51.32,
          171.79,
          33.91,
          23.82,
          73.24,
          8.98,
          220.33,
          149.82,
          117.09,
          214.52,
          173.62,
          69.58,
          7.16,
          102.97,
          1.28,
          119.33,
          68.92,
          2.81,
          66.78,
          4.65,
          18.4,
          6.23,
          78.89,
          135.72,
          43.65,
          42.21,
          121.26,
          186.83,
          17.9,
          45.5,
          112.26,
          31.54,
          76.56,
          7.72,
          42.09,
          4.02,
          111.18,
          2.03,
          15.45,
          135.86,
          128.95,
          92.71,
          58.67,
          6.03,
          104.54,
          96.67,
          31.88,
          103.71,
          30.23,
          47.44,
          23.1,
          47.76,
          71.72,
          242.26,
          10.22,
          35.47,
          118.11,
          187.12,
          5.77,
          5.41,
          62.44,
          54.68,
          4.27,
          38.69,
          363.89,
          15.27,
          60.99,
          8.1,
          85.99,
          53.97,
          2.12,
          59.3,
          1.2,
          10.68,
          78.6,
          147.87,
          15.67,
          54.77,
          6.34,
          125.91,
          75.31,
          18.21,
          5.07,
          141.11,
          24.95,
          112.53,
          37.65,
          56.2,
          83.98,
          62.08,
          10,
          41.81,
          54.75,
          51.72,
          51.3,
          9.9,
          64.92,
          122.22,
          5.23,
          37.43,
          43.25,
          36.68,
          65.67,
          52.97,
          51.47,
          105.93,
          6.35,
          427.86,
          52.59,
          10.06,
          17.89,
          67.99,
          69.52,
          78.98,
          75.06,
          69.83,
          39.12,
          50.9,
          6.74,
          123.59,
          86.67,
          2.95,
          76,
          83.53,
          6.79,
          71.58,
          78.56,
          24.51,
          59.62,
          65.96,
          7.6,
          23.37,
          65.94,
          3.89,
          29.68,
          8.94,
          23.1,
          17.41,
          56.03,
          75.04,
          36.28,
          8.36,
          4.43,
          62.91,
          84.3,
          156.62,
          74.02,
          3.43,
          99.86,
          68.86,
          89.49,
          49.62,
          82.29,
          76.32,
          80.67,
          226.19,
          24.94,
          88.7,
          8.96,
          11.67,
          52.37,
          48.33,
          9,
          69.55,
          118.61,
          45.77,
          6.64,
          4.87,
          69.4,
          23.17,
          1.47,
          90.37,
          62.86,
          41.32,
          73.41,
          45.68,
          5.06,
          93.15,
          68.76,
          58.93,
          64.75,
          1.03,
          5.97,
          63.58,
          51.52,
          70.54,
          73.11,
          1.12,
          42.99,
          30.95,
          140.57,
          9.98,
          84.98,
          49.95,
          39.06,
          50.03,
          16.08,
          12.31,
          100.33,
          51.5,
          12.6,
          128.94,
          362.46,
          5.38,
          1.45,
          108.82,
          1.47,
          5.39,
          18.97,
          8.96,
          8.93,
          55.7,
          53.76,
          135.29,
          73.38,
          9.99,
          19.41,
          147.07,
          2.67,
          117.72,
          2.51,
          53.43,
          106.89,
          25.63,
          80.75,
          5.35,
          13.88,
          97.58,
          59.37,
          8.24,
          4.5,
          64.87,
          82.93,
          3.55,
          96.09,
          46.7,
          53.9,
          2.53,
          90.16,
          2.62,
          14.26,
          28.57,
          131.23,
          104.44,
          2.99,
          60.92,
          23.78,
          37.48,
          65.34,
          119.63,
          79.68,
          69.13,
          126.38,
          2.87,
          61.32,
          8.95,
          19.83,
          151.61,
          2.21,
          52.63,
          4.34,
          56.82,
          56.28,
          55.64,
          5.27,
          144.34,
          74.94,
          28.11,
          51.9,
          99.18,
          76.11,
          51.96,
          7.1,
          22.38,
          12.33,
          78.54,
          58.8,
          4.47,
          1.54,
          3.42,
          99.36,
          156.69,
          11.55,
          15.34,
          181.08,
          46.47,
          58.47,
          1.38,
          39.54,
          10.02,
          16.85,
          96.53,
          26.14,
          63.1,
          194.65,
          113.25,
          42.3,
          69.87,
          37.16,
          47.64,
          5.2,
          2.22,
          77.85,
          61.58,
          38.91,
          31.27,
          68.62,
          117.44,
          78.33,
          8.08,
          5.53,
          114.05,
          4.45,
          77.44,
          69.06,
          309.17,
          214.56,
          105.96,
          60.01,
          64.41,
          7.73,
          44.86,
          2.68,
          78.95,
          99.93,
          121.27,
          50.5,
          75.02,
          25.46,
          68.22,
          3.61,
          1.36,
          143.94,
          72.63,
          72.23,
          56.47,
          72.79,
          28.57,
          14.42,
          80.57,
          131.79,
          4.88,
          38.5,
          31.91,
          47.86,
          66.69,
          136.23,
          9.42,
          21.69,
          48.35,
          3.07,
          188.34,
          4.37,
          44.91,
          36.99,
          38.28,
          484.63,
          125.14,
          7.57,
          7.43,
          13.19,
          8.51,
          21.35,
          4.55,
          182.23,
          120.67,
          1.12,
          102.97,
          35.47,
          94.47,
          86.33,
          1.73,
          49.18,
          70.77,
          65.16,
          79.8,
          57.84,
          81.52,
          5.67,
          9.1,
          301.3,
          310.76,
          146.03,
          29.56,
          2.05,
          3.49,
          157.78,
          195.1,
          230.37,
          8.67,
          22.7,
          116.19,
          65.8,
          55.76,
          4.89,
          54.88,
          77.23,
          104.67,
          68.85,
          76.51,
          4.88,
          50.61,
          8.88,
          61.9,
          82.59,
          103.88,
          142.43,
          115.97,
          49.01,
          79.34,
          64.82,
          10.13,
          10.65,
          17.51,
          222.06,
          1.12,
          17.74,
          129.8,
          9.06,
          150.54,
          84.34,
          72.75,
          117.77,
          89.31,
          27.76,
          162.5,
          1.82,
          8.89,
          674.49,
          83.14,
          19.58,
          3.93,
          2.51,
          57.05,
          5.98,
          122.51,
          129.42,
          8.92,
          218.24,
          74.11,
          113.12,
          17.7,
          38.46,
          144.01,
          69.94,
          11.95,
          74.52,
          110.91,
          33.29,
          7.36,
          59.49,
          32.27,
          30.74,
          25.45,
          5.9,
          3.65,
          30.55,
          2.44,
          1.55,
          50.69,
          10.87,
          5.21,
          61.1,
          112.92,
          73.41,
          138.14,
          73.46,
          7.2,
          41.49,
          6.91,
          92.8,
          267.54,
          2.69,
          18.26,
          264.88,
          95.68,
          70.46,
          3.61,
          134.17,
          59.29,
          2.55,
          10.63,
          80.94,
          50.58,
          46.49,
          60.84,
          2.87,
          46.6,
          107.72,
          61.73,
          135.27,
          57.15,
          8.84,
          89.37,
          62.02,
          65.83,
          5.06,
          73.08,
          8.02,
          26.45,
          96.28,
          82.88,
          75.53,
          35.76,
          102.61,
          196.16,
          6.4,
          53.28,
          6.08,
          100.69,
          16.38,
          133.62,
          3.53,
          4.64,
          28.73,
          87.56,
          62.24,
          18.65,
          6.93,
          1.97,
          126.05,
          16.67,
          90.87,
          204.87,
          66.92,
          43.79,
          74.45,
          37.53,
          52.73,
          38.03,
          71.92,
          45.1,
          40.92,
          67.42,
          38.42,
          63.52,
          26.33,
          27.94,
          97.15,
          81.65,
          34.46,
          1.07,
          38.87,
          101.03,
          163.29,
          73.21,
          6.94,
          7.76,
          247.33,
          212.4,
          10.38,
          64.08,
          51.52,
          13.55,
          40.61,
          99.6,
          64.36,
          66.06,
          15.98,
          49.19,
          69.66,
          253.77,
          4.55,
          74.99,
          112.93,
          40.53,
          36.54,
          16.38,
          54.87,
          9.66,
          95.19,
          2.4,
          66.9,
          5.51,
          7.74,
          49.79,
          3.1,
          67.28,
          26.48,
          124.79,
          46.44,
          10.57,
          5.52,
          3.27,
          45.49,
          58.57,
          212.01,
          50.6,
          151.39,
          93.92,
          50.42,
          183.89,
          7.35,
          28.4,
          29.83,
          69.91,
          83.29,
          2.56,
          36.21,
          73.37,
          67.21,
          1.68,
          79.45,
          96.77,
          3.96,
          5.17,
          2.87,
          6.2,
          35.64,
          6.89,
          47.95,
          55.13,
          29.46,
          26.46,
          139.71,
          62.33,
          36.6,
          2.63,
          8.06,
          87.74,
          56.78,
          76.87,
          64.53,
          76.13,
          256.74,
          66.54,
          13.65,
          2.95,
          63.18,
          83.03,
          70.52,
          84.33,
          58.05,
          76.9,
          1.41,
          57.56,
          56.89,
          35.37,
          5,
          119.93,
          8.93,
          12.61,
          74.83,
          373.39,
          84.85,
          20.74,
          174,
          57.65,
          26.03,
          25.63,
          117.42,
          29.84,
          106.67,
          49.09,
          119.31,
          67.04,
          239.63,
          38.63,
          190.63,
          62.87,
          26.78,
          77.18,
          82.83,
          71.4,
          86.55,
          22.89,
          36.19,
          8.18,
          62.12,
          30.44,
          27.73,
          4.52,
          1.36,
          6.88,
          36.45,
          354.45,
          87.26,
          125.31,
          41.73,
          66.06,
          108.46,
          53.46,
          80.64,
          112.19,
          291.52,
          2,
          9.92,
          123.21,
          112.77,
          81.4,
          82.23,
          142.36,
          41.78,
          134.95,
          134.34,
          4.68,
          1.26,
          8.9,
          160.44,
          91.72,
          56.17,
          47.16,
          150.03,
          56.06,
          9.61,
          63.14,
          48.93,
          25.33,
          70.05,
          76.65,
          4.97,
          5.98,
          9.68,
          109.61,
          50.87,
          58.63,
          93.43,
          45.7,
          1.17,
          64.15,
          3.88,
          7.07,
          33.52,
          174.72,
          54.56,
          4.68,
          104.41,
          29.45,
          146.55,
          60.15,
          113.32,
          2.19,
          4.98,
          73.79,
          1.31,
          168.68,
          22.41,
          6.27,
          159.9,
          37.38,
          7.54,
          114.04,
          81.9,
          52.91,
          91.35,
          3.27,
          5.94,
          59.19,
          43.61,
          20.28,
          65.34,
          75.77,
          127.41,
          70.14,
          2.83,
          51.4,
          85.48,
          91.24,
          9.19,
          8.65,
          36.92,
          5.99,
          6.63,
          6.89,
          102.38,
          4.97,
          76.36,
          80.45,
          17.83,
          50.17,
          219.26,
          102.24,
          17.39,
          62.51,
          34.47,
          58.7,
          197.96,
          3.97,
          9.67,
          102.43,
          5.71,
          78.45,
          10.48,
          66.99,
          112.3,
          38.5,
          69.46,
          42.87,
          7.26,
          62,
          7.83,
          1.3,
          6.16,
          99.88,
          66.46,
          87.87,
          15.05,
          8.79,
          167.38,
          6.85,
          18.75,
          43.51,
          136.4,
          5.33,
          50.84,
          116.63,
          119,
          21.16,
          258.38,
          33.3,
          192.43,
          5.35,
          1.38,
          8.27,
          6.78,
          3.33,
          68.65,
          91.96,
          55.9,
          711.66,
          74.08,
          5.92,
          5.56,
          99.26,
          38.52,
          17.92,
          92,
          5.01,
          8.41,
          29.25,
          2.84,
          34.44,
          1610.55,
          75.06,
          10.82,
          88.76,
          8.85,
          152.31,
          74.5,
          37.11,
          30.35,
          20.62,
          3.65,
          8.2,
          15.72,
          68.67,
          17.69,
          1.77,
          224.17,
          9.64,
          63.45,
          47.31,
          19.54,
          7.62,
          6.93,
          20.31,
          87.02,
          13.05,
          33.7,
          45.12,
          154.17,
          31.44,
          74.14,
          97.06,
          190.93,
          6.88,
          68.79,
          18.66,
          14.41,
          27.09,
          48.32,
          14.37,
          79.04,
          166.4,
          67.9,
          90.96,
          53.55,
          43.48,
          51.14,
          3.29,
          204.67,
          1.76,
          72.22,
          29.88,
          73.89,
          66.18,
          97.45,
          49.19,
          39.53,
          132.57,
          41.79,
          7.27,
          44.25,
          2.19,
          4.72,
          43.67,
          22.79,
          78.46,
          36.72,
          51.41,
          69.75,
          25.21,
          98.01,
          8.48,
          45.92,
          44.09,
          88.39,
          6.37,
          118.42,
          11.49,
          62.39,
          1.94,
          6.24,
          13.34,
          5.24,
          67.03,
          7.36,
          65.26,
          28.23,
          860.58,
          4.05,
          35.64,
          24.24,
          89.52,
          7.19,
          65.03,
          11.87,
          8.35,
          402.97,
          96.67,
          4.21,
          48.5,
          77.62,
          21.76,
          5.53,
          426.21,
          130.02,
          31.55,
          67.56,
          4.12,
          72.53,
          483.36,
          195.02,
          49.13,
          3.12,
          382.28,
          66.23,
          16.78,
          3.78,
          10.32,
          11.25,
          71.02,
          3.67,
          96.69,
          107.42,
          2.2,
          43.88,
          256.86,
          79.65,
          43.32,
          42.07,
          710.89,
          5.1,
          107.73,
          5.89,
          110.11,
          6.88,
          97.54,
          26.81,
          470.14,
          8.88,
          77.29,
          5.62,
          177.77,
          92.5,
          9.79,
          76.79,
          77.06,
          2.69,
          53.56,
          65.95,
          40.91,
          70.57,
          62.15,
          13.43,
          3.37,
          109.7,
          122.16,
          34.58,
          5,
          6.42,
          3.24,
          86.43,
          130.88,
          210.88,
          16.48,
          49.91,
          75.92,
          70.48,
          115.39,
          7.26,
          30.8,
          5.31,
          122.95,
          132.23,
          2.48,
          1.47,
          73,
          122.81,
          137.02,
          13.31,
          24.36,
          67.03,
          125.87,
          15.65,
          76.54,
          75.8,
          36.18,
          63.91,
          4.79,
          36.94,
          29.18,
          69.1,
          13.2,
          8.41,
          110.25,
          65.17,
          59.58,
          30.79,
          91.83,
          73.05,
          57.22,
          113.86,
          4.89,
          9.03,
          103.27,
          53.86,
          272.03,
          81.05,
          24.28,
          118.82,
          96.81,
          6.85,
          2.11,
          88.22,
          9.61,
          56.63,
          94.84,
          77.95,
          2.94,
          4.58,
          79.8,
          41.2,
          2.73,
          2.62,
          3.89,
          11.35,
          117.79,
          94.1,
          126.63,
          32.95,
          113.29,
          69.27,
          180.45,
          103.77,
          80.12,
          9.67,
          27.22,
          116.76,
          55.85,
          40.59,
          381.15,
          5.55,
          12.66,
          9.06,
          55.94,
          8.15,
          16.37,
          15.23,
          41.36,
          21.23,
          8.97,
          65.14,
          35.01,
          30.8,
          6.91,
          49.54,
          3.96,
          135.97,
          58.88,
          63.32,
          207.47,
          88.53,
          56.46,
          15.08,
          5.75,
          35.68,
          11.6,
          2.19,
          65.56,
          22.27,
          2.74,
          73.99,
          43.54,
          9.88,
          150.78,
          13.84,
          67.64,
          9.43,
          70.16,
          47.58,
          413.45,
          8.06,
          79.92,
          4.85,
          37.32,
          80.76,
          9.52,
          9.61,
          55.52,
          5.34,
          8.05,
          39.51,
          22.14,
          75.69,
          1.2,
          72.05,
          62.31,
          20.2,
          67.39,
          53.91,
          3.45,
          35.57,
          4.81,
          5.11,
          5.21,
          7.23,
          5.76,
          72.32,
          29.53,
          109.33,
          84.62,
          86.19,
          3.63,
          62.35,
          26.25,
          22.61,
          5.86,
          46.21,
          45.96,
          263.78,
          84.82,
          75.59,
          67.05,
          104.06,
          19.61,
          1.44,
          118.81,
          3.17,
          74.5,
          15.7,
          7.62,
          56.39,
          2.97,
          55.3,
          14.12,
          2.42,
          8.39,
          30.79,
          103.66,
          3.7,
          4.33,
          34.09,
          1.32,
          3.18,
          119.7,
          6.65,
          140.12,
          8.32,
          3.8,
          95.46,
          68.01,
          20.8,
          128.58,
          12.04,
          43.53,
          24.33,
          37.59,
          79.07,
          3.33
         ],
         "x0": " ",
         "xaxis": "x",
         "y0": " ",
         "yaxis": "y"
        }
       ],
       "layout": {
        "boxmode": "group",
        "legend": {
         "tracegroupgap": 0
        },
        "margin": {
         "t": 60
        },
        "template": {
         "data": {
          "bar": [
           {
            "error_x": {
             "color": "#2a3f5f"
            },
            "error_y": {
             "color": "#2a3f5f"
            },
            "marker": {
             "line": {
              "color": "#E5ECF6",
              "width": 0.5
             },
             "pattern": {
              "fillmode": "overlay",
              "size": 10,
              "solidity": 0.2
             }
            },
            "type": "bar"
           }
          ],
          "barpolar": [
           {
            "marker": {
             "line": {
              "color": "#E5ECF6",
              "width": 0.5
             },
             "pattern": {
              "fillmode": "overlay",
              "size": 10,
              "solidity": 0.2
             }
            },
            "type": "barpolar"
           }
          ],
          "carpet": [
           {
            "aaxis": {
             "endlinecolor": "#2a3f5f",
             "gridcolor": "white",
             "linecolor": "white",
             "minorgridcolor": "white",
             "startlinecolor": "#2a3f5f"
            },
            "baxis": {
             "endlinecolor": "#2a3f5f",
             "gridcolor": "white",
             "linecolor": "white",
             "minorgridcolor": "white",
             "startlinecolor": "#2a3f5f"
            },
            "type": "carpet"
           }
          ],
          "choropleth": [
           {
            "colorbar": {
             "outlinewidth": 0,
             "ticks": ""
            },
            "type": "choropleth"
           }
          ],
          "contour": [
           {
            "colorbar": {
             "outlinewidth": 0,
             "ticks": ""
            },
            "colorscale": [
             [
              0,
              "#0d0887"
             ],
             [
              0.1111111111111111,
              "#46039f"
             ],
             [
              0.2222222222222222,
              "#7201a8"
             ],
             [
              0.3333333333333333,
              "#9c179e"
             ],
             [
              0.4444444444444444,
              "#bd3786"
             ],
             [
              0.5555555555555556,
              "#d8576b"
             ],
             [
              0.6666666666666666,
              "#ed7953"
             ],
             [
              0.7777777777777778,
              "#fb9f3a"
             ],
             [
              0.8888888888888888,
              "#fdca26"
             ],
             [
              1,
              "#f0f921"
             ]
            ],
            "type": "contour"
           }
          ],
          "contourcarpet": [
           {
            "colorbar": {
             "outlinewidth": 0,
             "ticks": ""
            },
            "type": "contourcarpet"
           }
          ],
          "heatmap": [
           {
            "colorbar": {
             "outlinewidth": 0,
             "ticks": ""
            },
            "colorscale": [
             [
              0,
              "#0d0887"
             ],
             [
              0.1111111111111111,
              "#46039f"
             ],
             [
              0.2222222222222222,
              "#7201a8"
             ],
             [
              0.3333333333333333,
              "#9c179e"
             ],
             [
              0.4444444444444444,
              "#bd3786"
             ],
             [
              0.5555555555555556,
              "#d8576b"
             ],
             [
              0.6666666666666666,
              "#ed7953"
             ],
             [
              0.7777777777777778,
              "#fb9f3a"
             ],
             [
              0.8888888888888888,
              "#fdca26"
             ],
             [
              1,
              "#f0f921"
             ]
            ],
            "type": "heatmap"
           }
          ],
          "heatmapgl": [
           {
            "colorbar": {
             "outlinewidth": 0,
             "ticks": ""
            },
            "colorscale": [
             [
              0,
              "#0d0887"
             ],
             [
              0.1111111111111111,
              "#46039f"
             ],
             [
              0.2222222222222222,
              "#7201a8"
             ],
             [
              0.3333333333333333,
              "#9c179e"
             ],
             [
              0.4444444444444444,
              "#bd3786"
             ],
             [
              0.5555555555555556,
              "#d8576b"
             ],
             [
              0.6666666666666666,
              "#ed7953"
             ],
             [
              0.7777777777777778,
              "#fb9f3a"
             ],
             [
              0.8888888888888888,
              "#fdca26"
             ],
             [
              1,
              "#f0f921"
             ]
            ],
            "type": "heatmapgl"
           }
          ],
          "histogram": [
           {
            "marker": {
             "pattern": {
              "fillmode": "overlay",
              "size": 10,
              "solidity": 0.2
             }
            },
            "type": "histogram"
           }
          ],
          "histogram2d": [
           {
            "colorbar": {
             "outlinewidth": 0,
             "ticks": ""
            },
            "colorscale": [
             [
              0,
              "#0d0887"
             ],
             [
              0.1111111111111111,
              "#46039f"
             ],
             [
              0.2222222222222222,
              "#7201a8"
             ],
             [
              0.3333333333333333,
              "#9c179e"
             ],
             [
              0.4444444444444444,
              "#bd3786"
             ],
             [
              0.5555555555555556,
              "#d8576b"
             ],
             [
              0.6666666666666666,
              "#ed7953"
             ],
             [
              0.7777777777777778,
              "#fb9f3a"
             ],
             [
              0.8888888888888888,
              "#fdca26"
             ],
             [
              1,
              "#f0f921"
             ]
            ],
            "type": "histogram2d"
           }
          ],
          "histogram2dcontour": [
           {
            "colorbar": {
             "outlinewidth": 0,
             "ticks": ""
            },
            "colorscale": [
             [
              0,
              "#0d0887"
             ],
             [
              0.1111111111111111,
              "#46039f"
             ],
             [
              0.2222222222222222,
              "#7201a8"
             ],
             [
              0.3333333333333333,
              "#9c179e"
             ],
             [
              0.4444444444444444,
              "#bd3786"
             ],
             [
              0.5555555555555556,
              "#d8576b"
             ],
             [
              0.6666666666666666,
              "#ed7953"
             ],
             [
              0.7777777777777778,
              "#fb9f3a"
             ],
             [
              0.8888888888888888,
              "#fdca26"
             ],
             [
              1,
              "#f0f921"
             ]
            ],
            "type": "histogram2dcontour"
           }
          ],
          "mesh3d": [
           {
            "colorbar": {
             "outlinewidth": 0,
             "ticks": ""
            },
            "type": "mesh3d"
           }
          ],
          "parcoords": [
           {
            "line": {
             "colorbar": {
              "outlinewidth": 0,
              "ticks": ""
             }
            },
            "type": "parcoords"
           }
          ],
          "pie": [
           {
            "automargin": true,
            "type": "pie"
           }
          ],
          "scatter": [
           {
            "fillpattern": {
             "fillmode": "overlay",
             "size": 10,
             "solidity": 0.2
            },
            "type": "scatter"
           }
          ],
          "scatter3d": [
           {
            "line": {
             "colorbar": {
              "outlinewidth": 0,
              "ticks": ""
             }
            },
            "marker": {
             "colorbar": {
              "outlinewidth": 0,
              "ticks": ""
             }
            },
            "type": "scatter3d"
           }
          ],
          "scattercarpet": [
           {
            "marker": {
             "colorbar": {
              "outlinewidth": 0,
              "ticks": ""
             }
            },
            "type": "scattercarpet"
           }
          ],
          "scattergeo": [
           {
            "marker": {
             "colorbar": {
              "outlinewidth": 0,
              "ticks": ""
             }
            },
            "type": "scattergeo"
           }
          ],
          "scattergl": [
           {
            "marker": {
             "colorbar": {
              "outlinewidth": 0,
              "ticks": ""
             }
            },
            "type": "scattergl"
           }
          ],
          "scattermapbox": [
           {
            "marker": {
             "colorbar": {
              "outlinewidth": 0,
              "ticks": ""
             }
            },
            "type": "scattermapbox"
           }
          ],
          "scatterpolar": [
           {
            "marker": {
             "colorbar": {
              "outlinewidth": 0,
              "ticks": ""
             }
            },
            "type": "scatterpolar"
           }
          ],
          "scatterpolargl": [
           {
            "marker": {
             "colorbar": {
              "outlinewidth": 0,
              "ticks": ""
             }
            },
            "type": "scatterpolargl"
           }
          ],
          "scatterternary": [
           {
            "marker": {
             "colorbar": {
              "outlinewidth": 0,
              "ticks": ""
             }
            },
            "type": "scatterternary"
           }
          ],
          "surface": [
           {
            "colorbar": {
             "outlinewidth": 0,
             "ticks": ""
            },
            "colorscale": [
             [
              0,
              "#0d0887"
             ],
             [
              0.1111111111111111,
              "#46039f"
             ],
             [
              0.2222222222222222,
              "#7201a8"
             ],
             [
              0.3333333333333333,
              "#9c179e"
             ],
             [
              0.4444444444444444,
              "#bd3786"
             ],
             [
              0.5555555555555556,
              "#d8576b"
             ],
             [
              0.6666666666666666,
              "#ed7953"
             ],
             [
              0.7777777777777778,
              "#fb9f3a"
             ],
             [
              0.8888888888888888,
              "#fdca26"
             ],
             [
              1,
              "#f0f921"
             ]
            ],
            "type": "surface"
           }
          ],
          "table": [
           {
            "cells": {
             "fill": {
              "color": "#EBF0F8"
             },
             "line": {
              "color": "white"
             }
            },
            "header": {
             "fill": {
              "color": "#C8D4E3"
             },
             "line": {
              "color": "white"
             }
            },
            "type": "table"
           }
          ]
         },
         "layout": {
          "annotationdefaults": {
           "arrowcolor": "#2a3f5f",
           "arrowhead": 0,
           "arrowwidth": 1
          },
          "autotypenumbers": "strict",
          "coloraxis": {
           "colorbar": {
            "outlinewidth": 0,
            "ticks": ""
           }
          },
          "colorscale": {
           "diverging": [
            [
             0,
             "#8e0152"
            ],
            [
             0.1,
             "#c51b7d"
            ],
            [
             0.2,
             "#de77ae"
            ],
            [
             0.3,
             "#f1b6da"
            ],
            [
             0.4,
             "#fde0ef"
            ],
            [
             0.5,
             "#f7f7f7"
            ],
            [
             0.6,
             "#e6f5d0"
            ],
            [
             0.7,
             "#b8e186"
            ],
            [
             0.8,
             "#7fbc41"
            ],
            [
             0.9,
             "#4d9221"
            ],
            [
             1,
             "#276419"
            ]
           ],
           "sequential": [
            [
             0,
             "#0d0887"
            ],
            [
             0.1111111111111111,
             "#46039f"
            ],
            [
             0.2222222222222222,
             "#7201a8"
            ],
            [
             0.3333333333333333,
             "#9c179e"
            ],
            [
             0.4444444444444444,
             "#bd3786"
            ],
            [
             0.5555555555555556,
             "#d8576b"
            ],
            [
             0.6666666666666666,
             "#ed7953"
            ],
            [
             0.7777777777777778,
             "#fb9f3a"
            ],
            [
             0.8888888888888888,
             "#fdca26"
            ],
            [
             1,
             "#f0f921"
            ]
           ],
           "sequentialminus": [
            [
             0,
             "#0d0887"
            ],
            [
             0.1111111111111111,
             "#46039f"
            ],
            [
             0.2222222222222222,
             "#7201a8"
            ],
            [
             0.3333333333333333,
             "#9c179e"
            ],
            [
             0.4444444444444444,
             "#bd3786"
            ],
            [
             0.5555555555555556,
             "#d8576b"
            ],
            [
             0.6666666666666666,
             "#ed7953"
            ],
            [
             0.7777777777777778,
             "#fb9f3a"
            ],
            [
             0.8888888888888888,
             "#fdca26"
            ],
            [
             1,
             "#f0f921"
            ]
           ]
          },
          "colorway": [
           "#636efa",
           "#EF553B",
           "#00cc96",
           "#ab63fa",
           "#FFA15A",
           "#19d3f3",
           "#FF6692",
           "#B6E880",
           "#FF97FF",
           "#FECB52"
          ],
          "font": {
           "color": "#2a3f5f"
          },
          "geo": {
           "bgcolor": "white",
           "lakecolor": "white",
           "landcolor": "#E5ECF6",
           "showlakes": true,
           "showland": true,
           "subunitcolor": "white"
          },
          "hoverlabel": {
           "align": "left"
          },
          "hovermode": "closest",
          "mapbox": {
           "style": "light"
          },
          "paper_bgcolor": "white",
          "plot_bgcolor": "#E5ECF6",
          "polar": {
           "angularaxis": {
            "gridcolor": "white",
            "linecolor": "white",
            "ticks": ""
           },
           "bgcolor": "#E5ECF6",
           "radialaxis": {
            "gridcolor": "white",
            "linecolor": "white",
            "ticks": ""
           }
          },
          "scene": {
           "xaxis": {
            "backgroundcolor": "#E5ECF6",
            "gridcolor": "white",
            "gridwidth": 2,
            "linecolor": "white",
            "showbackground": true,
            "ticks": "",
            "zerolinecolor": "white"
           },
           "yaxis": {
            "backgroundcolor": "#E5ECF6",
            "gridcolor": "white",
            "gridwidth": 2,
            "linecolor": "white",
            "showbackground": true,
            "ticks": "",
            "zerolinecolor": "white"
           },
           "zaxis": {
            "backgroundcolor": "#E5ECF6",
            "gridcolor": "white",
            "gridwidth": 2,
            "linecolor": "white",
            "showbackground": true,
            "ticks": "",
            "zerolinecolor": "white"
           }
          },
          "shapedefaults": {
           "line": {
            "color": "#2a3f5f"
           }
          },
          "ternary": {
           "aaxis": {
            "gridcolor": "white",
            "linecolor": "white",
            "ticks": ""
           },
           "baxis": {
            "gridcolor": "white",
            "linecolor": "white",
            "ticks": ""
           },
           "bgcolor": "#E5ECF6",
           "caxis": {
            "gridcolor": "white",
            "linecolor": "white",
            "ticks": ""
           }
          },
          "title": {
           "x": 0.05
          },
          "xaxis": {
           "automargin": true,
           "gridcolor": "white",
           "linecolor": "white",
           "ticks": "",
           "title": {
            "standoff": 15
           },
           "zerolinecolor": "white",
           "zerolinewidth": 2
          },
          "yaxis": {
           "automargin": true,
           "gridcolor": "white",
           "linecolor": "white",
           "ticks": "",
           "title": {
            "standoff": 15
           },
           "zerolinecolor": "white",
           "zerolinewidth": 2
          }
         }
        },
        "xaxis": {
         "anchor": "y",
         "domain": [
          0,
          1
         ],
         "title": {
          "text": "amt"
         }
        },
        "yaxis": {
         "anchor": "x",
         "domain": [
          0,
          1
         ]
        }
       }
      }
     },
     "metadata": {},
     "output_type": "display_data"
    }
   ],
   "source": [
    "fid = px.box(data , x = \"amt\")\n",
    "fid.show()"
   ]
  },
  {
   "cell_type": "code",
   "execution_count": 33,
   "metadata": {},
   "outputs": [
    {
     "data": {
      "text/plain": [
       "count      59.000000\n",
       "mean      459.378644\n",
       "std       371.555876\n",
       "min         6.560000\n",
       "25%       185.545000\n",
       "50%       313.190000\n",
       "75%       829.120000\n",
       "max      1107.130000\n",
       "Name: amt, dtype: float64"
      ]
     },
     "execution_count": 33,
     "metadata": {},
     "output_type": "execute_result"
    }
   ],
   "source": [
    "data[data['is_fraud'] == 1 ][\"amt\"].describe() "
   ]
  },
  {
   "attachments": {},
   "cell_type": "markdown",
   "metadata": {},
   "source": [
    "Completed till 20:36 in the video."
   ]
  },
  {
   "attachments": {},
   "cell_type": "markdown",
   "metadata": {},
   "source": [
    "Price is not the only determinant of Fraud."
   ]
  },
  {
   "attachments": {},
   "cell_type": "markdown",
   "metadata": {},
   "source": [
    "Question :4 \n",
    "\n",
    "Gender distribution.\n",
    "\n"
   ]
  },
  {
   "cell_type": "code",
   "execution_count": 34,
   "metadata": {},
   "outputs": [
    {
     "data": {
      "application/vnd.plotly.v1+json": {
       "config": {
        "plotlyServerURL": "https://plot.ly"
       },
       "data": [
        {
         "labels": [
          "F",
          "M"
         ],
         "type": "pie",
         "values": [
          5500,
          4500
         ]
        }
       ],
       "layout": {
        "template": {
         "data": {
          "bar": [
           {
            "error_x": {
             "color": "#2a3f5f"
            },
            "error_y": {
             "color": "#2a3f5f"
            },
            "marker": {
             "line": {
              "color": "#E5ECF6",
              "width": 0.5
             },
             "pattern": {
              "fillmode": "overlay",
              "size": 10,
              "solidity": 0.2
             }
            },
            "type": "bar"
           }
          ],
          "barpolar": [
           {
            "marker": {
             "line": {
              "color": "#E5ECF6",
              "width": 0.5
             },
             "pattern": {
              "fillmode": "overlay",
              "size": 10,
              "solidity": 0.2
             }
            },
            "type": "barpolar"
           }
          ],
          "carpet": [
           {
            "aaxis": {
             "endlinecolor": "#2a3f5f",
             "gridcolor": "white",
             "linecolor": "white",
             "minorgridcolor": "white",
             "startlinecolor": "#2a3f5f"
            },
            "baxis": {
             "endlinecolor": "#2a3f5f",
             "gridcolor": "white",
             "linecolor": "white",
             "minorgridcolor": "white",
             "startlinecolor": "#2a3f5f"
            },
            "type": "carpet"
           }
          ],
          "choropleth": [
           {
            "colorbar": {
             "outlinewidth": 0,
             "ticks": ""
            },
            "type": "choropleth"
           }
          ],
          "contour": [
           {
            "colorbar": {
             "outlinewidth": 0,
             "ticks": ""
            },
            "colorscale": [
             [
              0,
              "#0d0887"
             ],
             [
              0.1111111111111111,
              "#46039f"
             ],
             [
              0.2222222222222222,
              "#7201a8"
             ],
             [
              0.3333333333333333,
              "#9c179e"
             ],
             [
              0.4444444444444444,
              "#bd3786"
             ],
             [
              0.5555555555555556,
              "#d8576b"
             ],
             [
              0.6666666666666666,
              "#ed7953"
             ],
             [
              0.7777777777777778,
              "#fb9f3a"
             ],
             [
              0.8888888888888888,
              "#fdca26"
             ],
             [
              1,
              "#f0f921"
             ]
            ],
            "type": "contour"
           }
          ],
          "contourcarpet": [
           {
            "colorbar": {
             "outlinewidth": 0,
             "ticks": ""
            },
            "type": "contourcarpet"
           }
          ],
          "heatmap": [
           {
            "colorbar": {
             "outlinewidth": 0,
             "ticks": ""
            },
            "colorscale": [
             [
              0,
              "#0d0887"
             ],
             [
              0.1111111111111111,
              "#46039f"
             ],
             [
              0.2222222222222222,
              "#7201a8"
             ],
             [
              0.3333333333333333,
              "#9c179e"
             ],
             [
              0.4444444444444444,
              "#bd3786"
             ],
             [
              0.5555555555555556,
              "#d8576b"
             ],
             [
              0.6666666666666666,
              "#ed7953"
             ],
             [
              0.7777777777777778,
              "#fb9f3a"
             ],
             [
              0.8888888888888888,
              "#fdca26"
             ],
             [
              1,
              "#f0f921"
             ]
            ],
            "type": "heatmap"
           }
          ],
          "heatmapgl": [
           {
            "colorbar": {
             "outlinewidth": 0,
             "ticks": ""
            },
            "colorscale": [
             [
              0,
              "#0d0887"
             ],
             [
              0.1111111111111111,
              "#46039f"
             ],
             [
              0.2222222222222222,
              "#7201a8"
             ],
             [
              0.3333333333333333,
              "#9c179e"
             ],
             [
              0.4444444444444444,
              "#bd3786"
             ],
             [
              0.5555555555555556,
              "#d8576b"
             ],
             [
              0.6666666666666666,
              "#ed7953"
             ],
             [
              0.7777777777777778,
              "#fb9f3a"
             ],
             [
              0.8888888888888888,
              "#fdca26"
             ],
             [
              1,
              "#f0f921"
             ]
            ],
            "type": "heatmapgl"
           }
          ],
          "histogram": [
           {
            "marker": {
             "pattern": {
              "fillmode": "overlay",
              "size": 10,
              "solidity": 0.2
             }
            },
            "type": "histogram"
           }
          ],
          "histogram2d": [
           {
            "colorbar": {
             "outlinewidth": 0,
             "ticks": ""
            },
            "colorscale": [
             [
              0,
              "#0d0887"
             ],
             [
              0.1111111111111111,
              "#46039f"
             ],
             [
              0.2222222222222222,
              "#7201a8"
             ],
             [
              0.3333333333333333,
              "#9c179e"
             ],
             [
              0.4444444444444444,
              "#bd3786"
             ],
             [
              0.5555555555555556,
              "#d8576b"
             ],
             [
              0.6666666666666666,
              "#ed7953"
             ],
             [
              0.7777777777777778,
              "#fb9f3a"
             ],
             [
              0.8888888888888888,
              "#fdca26"
             ],
             [
              1,
              "#f0f921"
             ]
            ],
            "type": "histogram2d"
           }
          ],
          "histogram2dcontour": [
           {
            "colorbar": {
             "outlinewidth": 0,
             "ticks": ""
            },
            "colorscale": [
             [
              0,
              "#0d0887"
             ],
             [
              0.1111111111111111,
              "#46039f"
             ],
             [
              0.2222222222222222,
              "#7201a8"
             ],
             [
              0.3333333333333333,
              "#9c179e"
             ],
             [
              0.4444444444444444,
              "#bd3786"
             ],
             [
              0.5555555555555556,
              "#d8576b"
             ],
             [
              0.6666666666666666,
              "#ed7953"
             ],
             [
              0.7777777777777778,
              "#fb9f3a"
             ],
             [
              0.8888888888888888,
              "#fdca26"
             ],
             [
              1,
              "#f0f921"
             ]
            ],
            "type": "histogram2dcontour"
           }
          ],
          "mesh3d": [
           {
            "colorbar": {
             "outlinewidth": 0,
             "ticks": ""
            },
            "type": "mesh3d"
           }
          ],
          "parcoords": [
           {
            "line": {
             "colorbar": {
              "outlinewidth": 0,
              "ticks": ""
             }
            },
            "type": "parcoords"
           }
          ],
          "pie": [
           {
            "automargin": true,
            "type": "pie"
           }
          ],
          "scatter": [
           {
            "fillpattern": {
             "fillmode": "overlay",
             "size": 10,
             "solidity": 0.2
            },
            "type": "scatter"
           }
          ],
          "scatter3d": [
           {
            "line": {
             "colorbar": {
              "outlinewidth": 0,
              "ticks": ""
             }
            },
            "marker": {
             "colorbar": {
              "outlinewidth": 0,
              "ticks": ""
             }
            },
            "type": "scatter3d"
           }
          ],
          "scattercarpet": [
           {
            "marker": {
             "colorbar": {
              "outlinewidth": 0,
              "ticks": ""
             }
            },
            "type": "scattercarpet"
           }
          ],
          "scattergeo": [
           {
            "marker": {
             "colorbar": {
              "outlinewidth": 0,
              "ticks": ""
             }
            },
            "type": "scattergeo"
           }
          ],
          "scattergl": [
           {
            "marker": {
             "colorbar": {
              "outlinewidth": 0,
              "ticks": ""
             }
            },
            "type": "scattergl"
           }
          ],
          "scattermapbox": [
           {
            "marker": {
             "colorbar": {
              "outlinewidth": 0,
              "ticks": ""
             }
            },
            "type": "scattermapbox"
           }
          ],
          "scatterpolar": [
           {
            "marker": {
             "colorbar": {
              "outlinewidth": 0,
              "ticks": ""
             }
            },
            "type": "scatterpolar"
           }
          ],
          "scatterpolargl": [
           {
            "marker": {
             "colorbar": {
              "outlinewidth": 0,
              "ticks": ""
             }
            },
            "type": "scatterpolargl"
           }
          ],
          "scatterternary": [
           {
            "marker": {
             "colorbar": {
              "outlinewidth": 0,
              "ticks": ""
             }
            },
            "type": "scatterternary"
           }
          ],
          "surface": [
           {
            "colorbar": {
             "outlinewidth": 0,
             "ticks": ""
            },
            "colorscale": [
             [
              0,
              "#0d0887"
             ],
             [
              0.1111111111111111,
              "#46039f"
             ],
             [
              0.2222222222222222,
              "#7201a8"
             ],
             [
              0.3333333333333333,
              "#9c179e"
             ],
             [
              0.4444444444444444,
              "#bd3786"
             ],
             [
              0.5555555555555556,
              "#d8576b"
             ],
             [
              0.6666666666666666,
              "#ed7953"
             ],
             [
              0.7777777777777778,
              "#fb9f3a"
             ],
             [
              0.8888888888888888,
              "#fdca26"
             ],
             [
              1,
              "#f0f921"
             ]
            ],
            "type": "surface"
           }
          ],
          "table": [
           {
            "cells": {
             "fill": {
              "color": "#EBF0F8"
             },
             "line": {
              "color": "white"
             }
            },
            "header": {
             "fill": {
              "color": "#C8D4E3"
             },
             "line": {
              "color": "white"
             }
            },
            "type": "table"
           }
          ]
         },
         "layout": {
          "annotationdefaults": {
           "arrowcolor": "#2a3f5f",
           "arrowhead": 0,
           "arrowwidth": 1
          },
          "autotypenumbers": "strict",
          "coloraxis": {
           "colorbar": {
            "outlinewidth": 0,
            "ticks": ""
           }
          },
          "colorscale": {
           "diverging": [
            [
             0,
             "#8e0152"
            ],
            [
             0.1,
             "#c51b7d"
            ],
            [
             0.2,
             "#de77ae"
            ],
            [
             0.3,
             "#f1b6da"
            ],
            [
             0.4,
             "#fde0ef"
            ],
            [
             0.5,
             "#f7f7f7"
            ],
            [
             0.6,
             "#e6f5d0"
            ],
            [
             0.7,
             "#b8e186"
            ],
            [
             0.8,
             "#7fbc41"
            ],
            [
             0.9,
             "#4d9221"
            ],
            [
             1,
             "#276419"
            ]
           ],
           "sequential": [
            [
             0,
             "#0d0887"
            ],
            [
             0.1111111111111111,
             "#46039f"
            ],
            [
             0.2222222222222222,
             "#7201a8"
            ],
            [
             0.3333333333333333,
             "#9c179e"
            ],
            [
             0.4444444444444444,
             "#bd3786"
            ],
            [
             0.5555555555555556,
             "#d8576b"
            ],
            [
             0.6666666666666666,
             "#ed7953"
            ],
            [
             0.7777777777777778,
             "#fb9f3a"
            ],
            [
             0.8888888888888888,
             "#fdca26"
            ],
            [
             1,
             "#f0f921"
            ]
           ],
           "sequentialminus": [
            [
             0,
             "#0d0887"
            ],
            [
             0.1111111111111111,
             "#46039f"
            ],
            [
             0.2222222222222222,
             "#7201a8"
            ],
            [
             0.3333333333333333,
             "#9c179e"
            ],
            [
             0.4444444444444444,
             "#bd3786"
            ],
            [
             0.5555555555555556,
             "#d8576b"
            ],
            [
             0.6666666666666666,
             "#ed7953"
            ],
            [
             0.7777777777777778,
             "#fb9f3a"
            ],
            [
             0.8888888888888888,
             "#fdca26"
            ],
            [
             1,
             "#f0f921"
            ]
           ]
          },
          "colorway": [
           "#636efa",
           "#EF553B",
           "#00cc96",
           "#ab63fa",
           "#FFA15A",
           "#19d3f3",
           "#FF6692",
           "#B6E880",
           "#FF97FF",
           "#FECB52"
          ],
          "font": {
           "color": "#2a3f5f"
          },
          "geo": {
           "bgcolor": "white",
           "lakecolor": "white",
           "landcolor": "#E5ECF6",
           "showlakes": true,
           "showland": true,
           "subunitcolor": "white"
          },
          "hoverlabel": {
           "align": "left"
          },
          "hovermode": "closest",
          "mapbox": {
           "style": "light"
          },
          "paper_bgcolor": "white",
          "plot_bgcolor": "#E5ECF6",
          "polar": {
           "angularaxis": {
            "gridcolor": "white",
            "linecolor": "white",
            "ticks": ""
           },
           "bgcolor": "#E5ECF6",
           "radialaxis": {
            "gridcolor": "white",
            "linecolor": "white",
            "ticks": ""
           }
          },
          "scene": {
           "xaxis": {
            "backgroundcolor": "#E5ECF6",
            "gridcolor": "white",
            "gridwidth": 2,
            "linecolor": "white",
            "showbackground": true,
            "ticks": "",
            "zerolinecolor": "white"
           },
           "yaxis": {
            "backgroundcolor": "#E5ECF6",
            "gridcolor": "white",
            "gridwidth": 2,
            "linecolor": "white",
            "showbackground": true,
            "ticks": "",
            "zerolinecolor": "white"
           },
           "zaxis": {
            "backgroundcolor": "#E5ECF6",
            "gridcolor": "white",
            "gridwidth": 2,
            "linecolor": "white",
            "showbackground": true,
            "ticks": "",
            "zerolinecolor": "white"
           }
          },
          "shapedefaults": {
           "line": {
            "color": "#2a3f5f"
           }
          },
          "ternary": {
           "aaxis": {
            "gridcolor": "white",
            "linecolor": "white",
            "ticks": ""
           },
           "baxis": {
            "gridcolor": "white",
            "linecolor": "white",
            "ticks": ""
           },
           "bgcolor": "#E5ECF6",
           "caxis": {
            "gridcolor": "white",
            "linecolor": "white",
            "ticks": ""
           }
          },
          "title": {
           "x": 0.05
          },
          "xaxis": {
           "automargin": true,
           "gridcolor": "white",
           "linecolor": "white",
           "ticks": "",
           "title": {
            "standoff": 15
           },
           "zerolinecolor": "white",
           "zerolinewidth": 2
          },
          "yaxis": {
           "automargin": true,
           "gridcolor": "white",
           "linecolor": "white",
           "ticks": "",
           "title": {
            "standoff": 15
           },
           "zerolinecolor": "white",
           "zerolinewidth": 2
          }
         }
        }
       }
      }
     },
     "metadata": {},
     "output_type": "display_data"
    }
   ],
   "source": [
    "labels = list(data['gender'].value_counts().index)\n",
    "values = list(data['gender'].value_counts().values)\n",
    "\n",
    "fig = go.Figure(data=[go.Pie(labels=labels, values=values)])\n",
    "\n",
    "fig.show()"
   ]
  },
  {
   "attachments": {},
   "cell_type": "markdown",
   "metadata": {},
   "source": [
    "Observation: \n",
    "\n",
    ". we have 55% of Female and 45% Male. "
   ]
  },
  {
   "attachments": {},
   "cell_type": "markdown",
   "metadata": {},
   "source": [
    "Bi-Variate Analysis."
   ]
  },
  {
   "attachments": {},
   "cell_type": "markdown",
   "metadata": {},
   "source": [
    "Question :5"
   ]
  },
  {
   "attachments": {},
   "cell_type": "markdown",
   "metadata": {},
   "source": [
    "Bi - Variate Aalysis.\n",
    "\n",
    "Average amount per category."
   ]
  },
  {
   "cell_type": "markdown",
   "metadata": {},
   "source": []
  },
  {
   "cell_type": "code",
   "execution_count": 35,
   "metadata": {},
   "outputs": [],
   "source": [
    "amt_category =  data.groupby(\"category\")['amt'].mean().reset_index()"
   ]
  },
  {
   "cell_type": "code",
   "execution_count": 36,
   "metadata": {},
   "outputs": [
    {
     "data": {
      "application/vnd.plotly.v1+json": {
       "config": {
        "plotlyServerURL": "https://plot.ly"
       },
       "data": [
        {
         "alignmentgroup": "True",
         "hovertemplate": "category=%{x}<br>amt=%{y}<extra></extra>",
         "legendgroup": "",
         "marker": {
          "color": "#636efa",
          "pattern": {
           "shape": ""
          }
         },
         "name": "",
         "offsetgroup": "",
         "orientation": "v",
         "showlegend": false,
         "textposition": "auto",
         "type": "bar",
         "x": [
          "entertainment",
          "food_dining",
          "gas_transport",
          "grocery_net",
          "grocery_pos",
          "health_fitness",
          "home",
          "kids_pets",
          "misc_net",
          "misc_pos",
          "personal_care",
          "shopping_net",
          "shopping_pos",
          "travel"
         ],
         "xaxis": "x",
         "y": [
          62.15341127922971,
          50.00388813096862,
          61.9167279767667,
          52.8185590778098,
          118.44198294243071,
          56.09383540372671,
          60.95527235354574,
          54.61562052505967,
          74.56118534482758,
          59.69635048231511,
          47.19336194563663,
          99.90629973474802,
          73.75566486486487,
          89.18930693069306
         ],
         "yaxis": "y"
        }
       ],
       "layout": {
        "barmode": "relative",
        "legend": {
         "tracegroupgap": 0
        },
        "margin": {
         "t": 60
        },
        "template": {
         "data": {
          "bar": [
           {
            "error_x": {
             "color": "#2a3f5f"
            },
            "error_y": {
             "color": "#2a3f5f"
            },
            "marker": {
             "line": {
              "color": "#E5ECF6",
              "width": 0.5
             },
             "pattern": {
              "fillmode": "overlay",
              "size": 10,
              "solidity": 0.2
             }
            },
            "type": "bar"
           }
          ],
          "barpolar": [
           {
            "marker": {
             "line": {
              "color": "#E5ECF6",
              "width": 0.5
             },
             "pattern": {
              "fillmode": "overlay",
              "size": 10,
              "solidity": 0.2
             }
            },
            "type": "barpolar"
           }
          ],
          "carpet": [
           {
            "aaxis": {
             "endlinecolor": "#2a3f5f",
             "gridcolor": "white",
             "linecolor": "white",
             "minorgridcolor": "white",
             "startlinecolor": "#2a3f5f"
            },
            "baxis": {
             "endlinecolor": "#2a3f5f",
             "gridcolor": "white",
             "linecolor": "white",
             "minorgridcolor": "white",
             "startlinecolor": "#2a3f5f"
            },
            "type": "carpet"
           }
          ],
          "choropleth": [
           {
            "colorbar": {
             "outlinewidth": 0,
             "ticks": ""
            },
            "type": "choropleth"
           }
          ],
          "contour": [
           {
            "colorbar": {
             "outlinewidth": 0,
             "ticks": ""
            },
            "colorscale": [
             [
              0,
              "#0d0887"
             ],
             [
              0.1111111111111111,
              "#46039f"
             ],
             [
              0.2222222222222222,
              "#7201a8"
             ],
             [
              0.3333333333333333,
              "#9c179e"
             ],
             [
              0.4444444444444444,
              "#bd3786"
             ],
             [
              0.5555555555555556,
              "#d8576b"
             ],
             [
              0.6666666666666666,
              "#ed7953"
             ],
             [
              0.7777777777777778,
              "#fb9f3a"
             ],
             [
              0.8888888888888888,
              "#fdca26"
             ],
             [
              1,
              "#f0f921"
             ]
            ],
            "type": "contour"
           }
          ],
          "contourcarpet": [
           {
            "colorbar": {
             "outlinewidth": 0,
             "ticks": ""
            },
            "type": "contourcarpet"
           }
          ],
          "heatmap": [
           {
            "colorbar": {
             "outlinewidth": 0,
             "ticks": ""
            },
            "colorscale": [
             [
              0,
              "#0d0887"
             ],
             [
              0.1111111111111111,
              "#46039f"
             ],
             [
              0.2222222222222222,
              "#7201a8"
             ],
             [
              0.3333333333333333,
              "#9c179e"
             ],
             [
              0.4444444444444444,
              "#bd3786"
             ],
             [
              0.5555555555555556,
              "#d8576b"
             ],
             [
              0.6666666666666666,
              "#ed7953"
             ],
             [
              0.7777777777777778,
              "#fb9f3a"
             ],
             [
              0.8888888888888888,
              "#fdca26"
             ],
             [
              1,
              "#f0f921"
             ]
            ],
            "type": "heatmap"
           }
          ],
          "heatmapgl": [
           {
            "colorbar": {
             "outlinewidth": 0,
             "ticks": ""
            },
            "colorscale": [
             [
              0,
              "#0d0887"
             ],
             [
              0.1111111111111111,
              "#46039f"
             ],
             [
              0.2222222222222222,
              "#7201a8"
             ],
             [
              0.3333333333333333,
              "#9c179e"
             ],
             [
              0.4444444444444444,
              "#bd3786"
             ],
             [
              0.5555555555555556,
              "#d8576b"
             ],
             [
              0.6666666666666666,
              "#ed7953"
             ],
             [
              0.7777777777777778,
              "#fb9f3a"
             ],
             [
              0.8888888888888888,
              "#fdca26"
             ],
             [
              1,
              "#f0f921"
             ]
            ],
            "type": "heatmapgl"
           }
          ],
          "histogram": [
           {
            "marker": {
             "pattern": {
              "fillmode": "overlay",
              "size": 10,
              "solidity": 0.2
             }
            },
            "type": "histogram"
           }
          ],
          "histogram2d": [
           {
            "colorbar": {
             "outlinewidth": 0,
             "ticks": ""
            },
            "colorscale": [
             [
              0,
              "#0d0887"
             ],
             [
              0.1111111111111111,
              "#46039f"
             ],
             [
              0.2222222222222222,
              "#7201a8"
             ],
             [
              0.3333333333333333,
              "#9c179e"
             ],
             [
              0.4444444444444444,
              "#bd3786"
             ],
             [
              0.5555555555555556,
              "#d8576b"
             ],
             [
              0.6666666666666666,
              "#ed7953"
             ],
             [
              0.7777777777777778,
              "#fb9f3a"
             ],
             [
              0.8888888888888888,
              "#fdca26"
             ],
             [
              1,
              "#f0f921"
             ]
            ],
            "type": "histogram2d"
           }
          ],
          "histogram2dcontour": [
           {
            "colorbar": {
             "outlinewidth": 0,
             "ticks": ""
            },
            "colorscale": [
             [
              0,
              "#0d0887"
             ],
             [
              0.1111111111111111,
              "#46039f"
             ],
             [
              0.2222222222222222,
              "#7201a8"
             ],
             [
              0.3333333333333333,
              "#9c179e"
             ],
             [
              0.4444444444444444,
              "#bd3786"
             ],
             [
              0.5555555555555556,
              "#d8576b"
             ],
             [
              0.6666666666666666,
              "#ed7953"
             ],
             [
              0.7777777777777778,
              "#fb9f3a"
             ],
             [
              0.8888888888888888,
              "#fdca26"
             ],
             [
              1,
              "#f0f921"
             ]
            ],
            "type": "histogram2dcontour"
           }
          ],
          "mesh3d": [
           {
            "colorbar": {
             "outlinewidth": 0,
             "ticks": ""
            },
            "type": "mesh3d"
           }
          ],
          "parcoords": [
           {
            "line": {
             "colorbar": {
              "outlinewidth": 0,
              "ticks": ""
             }
            },
            "type": "parcoords"
           }
          ],
          "pie": [
           {
            "automargin": true,
            "type": "pie"
           }
          ],
          "scatter": [
           {
            "fillpattern": {
             "fillmode": "overlay",
             "size": 10,
             "solidity": 0.2
            },
            "type": "scatter"
           }
          ],
          "scatter3d": [
           {
            "line": {
             "colorbar": {
              "outlinewidth": 0,
              "ticks": ""
             }
            },
            "marker": {
             "colorbar": {
              "outlinewidth": 0,
              "ticks": ""
             }
            },
            "type": "scatter3d"
           }
          ],
          "scattercarpet": [
           {
            "marker": {
             "colorbar": {
              "outlinewidth": 0,
              "ticks": ""
             }
            },
            "type": "scattercarpet"
           }
          ],
          "scattergeo": [
           {
            "marker": {
             "colorbar": {
              "outlinewidth": 0,
              "ticks": ""
             }
            },
            "type": "scattergeo"
           }
          ],
          "scattergl": [
           {
            "marker": {
             "colorbar": {
              "outlinewidth": 0,
              "ticks": ""
             }
            },
            "type": "scattergl"
           }
          ],
          "scattermapbox": [
           {
            "marker": {
             "colorbar": {
              "outlinewidth": 0,
              "ticks": ""
             }
            },
            "type": "scattermapbox"
           }
          ],
          "scatterpolar": [
           {
            "marker": {
             "colorbar": {
              "outlinewidth": 0,
              "ticks": ""
             }
            },
            "type": "scatterpolar"
           }
          ],
          "scatterpolargl": [
           {
            "marker": {
             "colorbar": {
              "outlinewidth": 0,
              "ticks": ""
             }
            },
            "type": "scatterpolargl"
           }
          ],
          "scatterternary": [
           {
            "marker": {
             "colorbar": {
              "outlinewidth": 0,
              "ticks": ""
             }
            },
            "type": "scatterternary"
           }
          ],
          "surface": [
           {
            "colorbar": {
             "outlinewidth": 0,
             "ticks": ""
            },
            "colorscale": [
             [
              0,
              "#0d0887"
             ],
             [
              0.1111111111111111,
              "#46039f"
             ],
             [
              0.2222222222222222,
              "#7201a8"
             ],
             [
              0.3333333333333333,
              "#9c179e"
             ],
             [
              0.4444444444444444,
              "#bd3786"
             ],
             [
              0.5555555555555556,
              "#d8576b"
             ],
             [
              0.6666666666666666,
              "#ed7953"
             ],
             [
              0.7777777777777778,
              "#fb9f3a"
             ],
             [
              0.8888888888888888,
              "#fdca26"
             ],
             [
              1,
              "#f0f921"
             ]
            ],
            "type": "surface"
           }
          ],
          "table": [
           {
            "cells": {
             "fill": {
              "color": "#EBF0F8"
             },
             "line": {
              "color": "white"
             }
            },
            "header": {
             "fill": {
              "color": "#C8D4E3"
             },
             "line": {
              "color": "white"
             }
            },
            "type": "table"
           }
          ]
         },
         "layout": {
          "annotationdefaults": {
           "arrowcolor": "#2a3f5f",
           "arrowhead": 0,
           "arrowwidth": 1
          },
          "autotypenumbers": "strict",
          "coloraxis": {
           "colorbar": {
            "outlinewidth": 0,
            "ticks": ""
           }
          },
          "colorscale": {
           "diverging": [
            [
             0,
             "#8e0152"
            ],
            [
             0.1,
             "#c51b7d"
            ],
            [
             0.2,
             "#de77ae"
            ],
            [
             0.3,
             "#f1b6da"
            ],
            [
             0.4,
             "#fde0ef"
            ],
            [
             0.5,
             "#f7f7f7"
            ],
            [
             0.6,
             "#e6f5d0"
            ],
            [
             0.7,
             "#b8e186"
            ],
            [
             0.8,
             "#7fbc41"
            ],
            [
             0.9,
             "#4d9221"
            ],
            [
             1,
             "#276419"
            ]
           ],
           "sequential": [
            [
             0,
             "#0d0887"
            ],
            [
             0.1111111111111111,
             "#46039f"
            ],
            [
             0.2222222222222222,
             "#7201a8"
            ],
            [
             0.3333333333333333,
             "#9c179e"
            ],
            [
             0.4444444444444444,
             "#bd3786"
            ],
            [
             0.5555555555555556,
             "#d8576b"
            ],
            [
             0.6666666666666666,
             "#ed7953"
            ],
            [
             0.7777777777777778,
             "#fb9f3a"
            ],
            [
             0.8888888888888888,
             "#fdca26"
            ],
            [
             1,
             "#f0f921"
            ]
           ],
           "sequentialminus": [
            [
             0,
             "#0d0887"
            ],
            [
             0.1111111111111111,
             "#46039f"
            ],
            [
             0.2222222222222222,
             "#7201a8"
            ],
            [
             0.3333333333333333,
             "#9c179e"
            ],
            [
             0.4444444444444444,
             "#bd3786"
            ],
            [
             0.5555555555555556,
             "#d8576b"
            ],
            [
             0.6666666666666666,
             "#ed7953"
            ],
            [
             0.7777777777777778,
             "#fb9f3a"
            ],
            [
             0.8888888888888888,
             "#fdca26"
            ],
            [
             1,
             "#f0f921"
            ]
           ]
          },
          "colorway": [
           "#636efa",
           "#EF553B",
           "#00cc96",
           "#ab63fa",
           "#FFA15A",
           "#19d3f3",
           "#FF6692",
           "#B6E880",
           "#FF97FF",
           "#FECB52"
          ],
          "font": {
           "color": "#2a3f5f"
          },
          "geo": {
           "bgcolor": "white",
           "lakecolor": "white",
           "landcolor": "#E5ECF6",
           "showlakes": true,
           "showland": true,
           "subunitcolor": "white"
          },
          "hoverlabel": {
           "align": "left"
          },
          "hovermode": "closest",
          "mapbox": {
           "style": "light"
          },
          "paper_bgcolor": "white",
          "plot_bgcolor": "#E5ECF6",
          "polar": {
           "angularaxis": {
            "gridcolor": "white",
            "linecolor": "white",
            "ticks": ""
           },
           "bgcolor": "#E5ECF6",
           "radialaxis": {
            "gridcolor": "white",
            "linecolor": "white",
            "ticks": ""
           }
          },
          "scene": {
           "xaxis": {
            "backgroundcolor": "#E5ECF6",
            "gridcolor": "white",
            "gridwidth": 2,
            "linecolor": "white",
            "showbackground": true,
            "ticks": "",
            "zerolinecolor": "white"
           },
           "yaxis": {
            "backgroundcolor": "#E5ECF6",
            "gridcolor": "white",
            "gridwidth": 2,
            "linecolor": "white",
            "showbackground": true,
            "ticks": "",
            "zerolinecolor": "white"
           },
           "zaxis": {
            "backgroundcolor": "#E5ECF6",
            "gridcolor": "white",
            "gridwidth": 2,
            "linecolor": "white",
            "showbackground": true,
            "ticks": "",
            "zerolinecolor": "white"
           }
          },
          "shapedefaults": {
           "line": {
            "color": "#2a3f5f"
           }
          },
          "ternary": {
           "aaxis": {
            "gridcolor": "white",
            "linecolor": "white",
            "ticks": ""
           },
           "baxis": {
            "gridcolor": "white",
            "linecolor": "white",
            "ticks": ""
           },
           "bgcolor": "#E5ECF6",
           "caxis": {
            "gridcolor": "white",
            "linecolor": "white",
            "ticks": ""
           }
          },
          "title": {
           "x": 0.05
          },
          "xaxis": {
           "automargin": true,
           "gridcolor": "white",
           "linecolor": "white",
           "ticks": "",
           "title": {
            "standoff": 15
           },
           "zerolinecolor": "white",
           "zerolinewidth": 2
          },
          "yaxis": {
           "automargin": true,
           "gridcolor": "white",
           "linecolor": "white",
           "ticks": "",
           "title": {
            "standoff": 15
           },
           "zerolinecolor": "white",
           "zerolinewidth": 2
          }
         }
        },
        "xaxis": {
         "anchor": "y",
         "domain": [
          0,
          1
         ],
         "title": {
          "text": "category"
         }
        },
        "yaxis": {
         "anchor": "x",
         "domain": [
          0,
          1
         ],
         "title": {
          "text": "amt"
         }
        }
       }
      }
     },
     "metadata": {},
     "output_type": "display_data"
    }
   ],
   "source": [
    "fig = px.bar(amt_category, x = 'category', y = 'amt')\n",
    "\n",
    "fig.show()"
   ]
  },
  {
   "attachments": {},
   "cell_type": "markdown",
   "metadata": {},
   "source": [
    "Feature Engineering."
   ]
  },
  {
   "cell_type": "markdown",
   "metadata": {},
   "source": []
  },
  {
   "cell_type": "code",
   "execution_count": 37,
   "metadata": {},
   "outputs": [],
   "source": [
    "data['cc_frequency'] = data['cc_num'].map(data['cc_num'].value_counts())"
   ]
  },
  {
   "cell_type": "code",
   "execution_count": 38,
   "metadata": {},
   "outputs": [],
   "source": [
    "data['trans_date_trans_time'] = pd.to_datetime(data['trans_date_trans_time'])"
   ]
  },
  {
   "cell_type": "code",
   "execution_count": 39,
   "metadata": {},
   "outputs": [],
   "source": [
    "data['hour_of_tranx'] = data['trans_date_trans_time'].dt.hour"
   ]
  },
  {
   "cell_type": "code",
   "execution_count": 40,
   "metadata": {},
   "outputs": [],
   "source": [
    "data['dob'] = pd.to_datetime(data['dob'])"
   ]
  },
  {
   "cell_type": "code",
   "execution_count": 41,
   "metadata": {},
   "outputs": [],
   "source": [
    "data['age'] = 2022-data['dob'].dt.year"
   ]
  },
  {
   "cell_type": "code",
   "execution_count": 42,
   "metadata": {},
   "outputs": [
    {
     "data": {
      "text/plain": [
       "Index(['Unnamed: 0', 'trans_date_trans_time', 'cc_num', 'merchant', 'category',\n",
       "       'amt', 'first', 'last', 'gender', 'street', 'city', 'state', 'zip',\n",
       "       'lat', 'long', 'city_pop', 'job', 'dob', 'trans_num', 'unix_time',\n",
       "       'merch_lat', 'merch_long', 'is_fraud', 'cc_frequency', 'hour_of_tranx',\n",
       "       'age'],\n",
       "      dtype='object')"
      ]
     },
     "execution_count": 42,
     "metadata": {},
     "output_type": "execute_result"
    }
   ],
   "source": [
    "data.columns"
   ]
  },
  {
   "cell_type": "code",
   "execution_count": 43,
   "metadata": {},
   "outputs": [],
   "source": [
    "to_drop = ['Unnamed: 0', 'first', 'last','gender', 'trans_date_trans_time', 'merchant', 'street','job','city', 'state', 'city_pop',  'trans_num',  'unix_time', 'dob' ]"
   ]
  },
  {
   "cell_type": "code",
   "execution_count": 44,
   "metadata": {},
   "outputs": [],
   "source": [
    "data = data.drop(to_drop, axis=1)"
   ]
  },
  {
   "cell_type": "code",
   "execution_count": 45,
   "metadata": {},
   "outputs": [],
   "source": [
    "data = pd.get_dummies(data=data , columns=['category'], drop_first=True)"
   ]
  },
  {
   "attachments": {},
   "cell_type": "markdown",
   "metadata": {},
   "source": [
    "Spliting the data. "
   ]
  },
  {
   "cell_type": "code",
   "execution_count": 46,
   "metadata": {},
   "outputs": [],
   "source": [
    "#seperate the input from the output and store as x\n",
    "x = data.drop(['is_fraud'], axis=1)\n"
   ]
  },
  {
   "cell_type": "code",
   "execution_count": 47,
   "metadata": {},
   "outputs": [],
   "source": [
    "#seperate the output from the input and store as y \n",
    "y = data.is_fraud"
   ]
  },
  {
   "cell_type": "code",
   "execution_count": 48,
   "metadata": {},
   "outputs": [],
   "source": [
    "#split into 80-20: 80 for training , 20 for evaluating the model perfomance.data\n",
    "x_train, x_test, y_train , y_test= train_test_split(x,y, test_size=0.30, random_state=42 ) "
   ]
  },
  {
   "cell_type": "code",
   "execution_count": 49,
   "metadata": {},
   "outputs": [
    {
     "data": {
      "text/plain": [
       "6252    0\n",
       "4684    0\n",
       "1731    0\n",
       "4742    0\n",
       "4521    0\n",
       "       ..\n",
       "8014    0\n",
       "1074    0\n",
       "3063    0\n",
       "6487    0\n",
       "4705    0\n",
       "Name: is_fraud, Length: 3000, dtype: int64"
      ]
     },
     "execution_count": 49,
     "metadata": {},
     "output_type": "execute_result"
    }
   ],
   "source": [
    "y_test"
   ]
  },
  {
   "attachments": {},
   "cell_type": "markdown",
   "metadata": {},
   "source": [
    "Train Algorithm\n",
    "\n",
    "1. Logistic Regression.\n",
    "2. Random Fprest.\n",
    "3. Xgboost\n",
    "\n",
    "finished till 27:47"
   ]
  },
  {
   "cell_type": "code",
   "execution_count": 50,
   "metadata": {},
   "outputs": [],
   "source": [
    "def evaluate_model():\n",
    "    prediction = model.predict(x_test)\n",
    "    acc_score = accuracy_score(y_test, prediction)\n",
    "    print('we have an {}%  accuracy'.format(acc_score=100))\n",
    "    #Plot Predicted Vs Actual\n",
    "    plt.figure(figsize=(4, 4))\n",
    "    print(classification_report(y_test, prediction))\n",
    "    plt.title('Confusion Matrix of the model.')\n",
    "    sns.heatmap(confusion_matrix(y_test, prediction ), annot=True, fmt='.5g')"
   ]
  },
  {
   "attachments": {},
   "cell_type": "markdown",
   "metadata": {},
   "source": [
    "Logistic Regression."
   ]
  },
  {
   "cell_type": "code",
   "execution_count": 51,
   "metadata": {},
   "outputs": [
    {
     "ename": "NameError",
     "evalue": "name 'model' is not defined",
     "output_type": "error",
     "traceback": [
      "\u001b[1;31m---------------------------------------------------------------------------\u001b[0m",
      "\u001b[1;31mNameError\u001b[0m                                 Traceback (most recent call last)",
      "Cell \u001b[1;32mIn[51], line 3\u001b[0m\n\u001b[0;32m      1\u001b[0m logreg \u001b[39m=\u001b[39m LogisticRegression()\n\u001b[0;32m      2\u001b[0m logreg\u001b[39m.\u001b[39mfit(x_train, y_train)\n\u001b[1;32m----> 3\u001b[0m evaluate_model()\n",
      "Cell \u001b[1;32mIn[50], line 2\u001b[0m, in \u001b[0;36mevaluate_model\u001b[1;34m()\u001b[0m\n\u001b[0;32m      1\u001b[0m \u001b[39mdef\u001b[39;00m \u001b[39mevaluate_model\u001b[39m():\n\u001b[1;32m----> 2\u001b[0m     prediction \u001b[39m=\u001b[39m model\u001b[39m.\u001b[39mpredict(x_test)\n\u001b[0;32m      3\u001b[0m     acc_score \u001b[39m=\u001b[39m accuracy_score(y_test, prediction)\n\u001b[0;32m      4\u001b[0m     \u001b[39mprint\u001b[39m(\u001b[39m'\u001b[39m\u001b[39mwe have an \u001b[39m\u001b[39m{}\u001b[39;00m\u001b[39m%  a\u001b[39;00m\u001b[39mccuracy\u001b[39m\u001b[39m'\u001b[39m\u001b[39m.\u001b[39mformat(acc_score\u001b[39m=\u001b[39m\u001b[39m100\u001b[39m))\n",
      "\u001b[1;31mNameError\u001b[0m: name 'model' is not defined"
     ]
    }
   ],
   "source": [
    "logreg = LogisticRegression()\n",
    "logreg.fit(x_train, y_train)\n",
    "evaluate_model()"
   ]
  },
  {
   "cell_type": "markdown",
   "metadata": {},
   "source": [
    "Random Forest Model"
   ]
  },
  {
   "cell_type": "code",
   "execution_count": null,
   "metadata": {},
   "outputs": [
    {
     "ename": "NameError",
     "evalue": "name 'model' is not defined",
     "output_type": "error",
     "traceback": [
      "\u001b[1;31m---------------------------------------------------------------------------\u001b[0m",
      "\u001b[1;31mNameError\u001b[0m                                 Traceback (most recent call last)",
      "Cell \u001b[1;32mIn[109], line 3\u001b[0m\n\u001b[0;32m      1\u001b[0m rf \u001b[39m=\u001b[39m RandomForestClassifier(class_weight\u001b[39m=\u001b[39m\u001b[39m'\u001b[39m\u001b[39mbalanced\u001b[39m\u001b[39m'\u001b[39m)\n\u001b[0;32m      2\u001b[0m rf\u001b[39m.\u001b[39mfit(x_train, y_train)\n\u001b[1;32m----> 3\u001b[0m evaluate_model()\n",
      "Cell \u001b[1;32mIn[107], line 2\u001b[0m, in \u001b[0;36mevaluate_model\u001b[1;34m()\u001b[0m\n\u001b[0;32m      1\u001b[0m \u001b[39mdef\u001b[39;00m \u001b[39mevaluate_model\u001b[39m():\n\u001b[1;32m----> 2\u001b[0m     prediction \u001b[39m=\u001b[39m model\u001b[39m.\u001b[39mpredict(x_test)\n\u001b[0;32m      3\u001b[0m     acc_score \u001b[39m=\u001b[39m accuracy_score(y_test, prediction)\n\u001b[0;32m      4\u001b[0m     \u001b[39mprint\u001b[39m(\u001b[39m'\u001b[39m\u001b[39mwe have an \u001b[39m\u001b[39m{}\u001b[39;00m\u001b[39m%  a\u001b[39;00m\u001b[39mccuracy\u001b[39m\u001b[39m'\u001b[39m\u001b[39m.\u001b[39mformat(acc_score\u001b[39m=\u001b[39m\u001b[39m100\u001b[39m))\n",
      "\u001b[1;31mNameError\u001b[0m: name 'model' is not defined"
     ]
    }
   ],
   "source": [
    "rf = RandomForestClassifier(class_weight='balanced')\n",
    "rf.fit(x_train, y_train)\n",
    "evaluate_model()"
   ]
  },
  {
   "cell_type": "markdown",
   "metadata": {},
   "source": [
    "Xgboost Model"
   ]
  },
  {
   "cell_type": "code",
   "execution_count": null,
   "metadata": {},
   "outputs": [
    {
     "ename": "NameError",
     "evalue": "name 'model' is not defined",
     "output_type": "error",
     "traceback": [
      "\u001b[1;31m---------------------------------------------------------------------------\u001b[0m",
      "\u001b[1;31mNameError\u001b[0m                                 Traceback (most recent call last)",
      "Cell \u001b[1;32mIn[110], line 3\u001b[0m\n\u001b[0;32m      1\u001b[0m xgb \u001b[39m=\u001b[39m XGBClassifier()\n\u001b[0;32m      2\u001b[0m xgb\u001b[39m.\u001b[39mfit(x_train, y_train)\n\u001b[1;32m----> 3\u001b[0m evaluate_model()\n",
      "Cell \u001b[1;32mIn[107], line 2\u001b[0m, in \u001b[0;36mevaluate_model\u001b[1;34m()\u001b[0m\n\u001b[0;32m      1\u001b[0m \u001b[39mdef\u001b[39;00m \u001b[39mevaluate_model\u001b[39m():\n\u001b[1;32m----> 2\u001b[0m     prediction \u001b[39m=\u001b[39m model\u001b[39m.\u001b[39mpredict(x_test)\n\u001b[0;32m      3\u001b[0m     acc_score \u001b[39m=\u001b[39m accuracy_score(y_test, prediction)\n\u001b[0;32m      4\u001b[0m     \u001b[39mprint\u001b[39m(\u001b[39m'\u001b[39m\u001b[39mwe have an \u001b[39m\u001b[39m{}\u001b[39;00m\u001b[39m%  a\u001b[39;00m\u001b[39mccuracy\u001b[39m\u001b[39m'\u001b[39m\u001b[39m.\u001b[39mformat(acc_score\u001b[39m=\u001b[39m\u001b[39m100\u001b[39m))\n",
      "\u001b[1;31mNameError\u001b[0m: name 'model' is not defined"
     ]
    }
   ],
   "source": [
    "xgb = XGBClassifier()\n",
    "xgb.fit(x_train, y_train)\n",
    "evaluate_model()"
   ]
  },
  {
   "cell_type": "code",
   "execution_count": null,
   "metadata": {},
   "outputs": [
    {
     "ename": "NameError",
     "evalue": "name 'prediction' is not defined",
     "output_type": "error",
     "traceback": [
      "\u001b[1;31m---------------------------------------------------------------------------\u001b[0m",
      "\u001b[1;31mNameError\u001b[0m                                 Traceback (most recent call last)",
      "Cell \u001b[1;32mIn[111], line 1\u001b[0m\n\u001b[1;32m----> 1\u001b[0m pd\u001b[39m.\u001b[39mDataFrame(prediction)\u001b[39m.\u001b[39mvalue_counts()\n",
      "\u001b[1;31mNameError\u001b[0m: name 'prediction' is not defined"
     ]
    }
   ],
   "source": [
    "pd.DataFrame(prediction).value_counts()"
   ]
  },
  {
   "cell_type": "code",
   "execution_count": null,
   "metadata": {},
   "outputs": [],
   "source": [
    "predict_proba  = xgb.predict_proba(x_test)[;,1]\n"
   ]
  },
  {
   "cell_type": "code",
   "execution_count": null,
   "metadata": {},
   "outputs": [
    {
     "ename": "NameError",
     "evalue": "name 'predict_proba' is not defined",
     "output_type": "error",
     "traceback": [
      "\u001b[1;31m---------------------------------------------------------------------------\u001b[0m",
      "\u001b[1;31mNameError\u001b[0m                                 Traceback (most recent call last)",
      "Cell \u001b[1;32mIn[112], line 1\u001b[0m\n\u001b[1;32m----> 1\u001b[0m roc_auc_score(y_test, predict_proba)\n",
      "\u001b[1;31mNameError\u001b[0m: name 'predict_proba' is not defined"
     ]
    }
   ],
   "source": [
    "roc_auc_score(y_test, predict_proba)"
   ]
  },
  {
   "cell_type": "code",
   "execution_count": null,
   "metadata": {},
   "outputs": [
    {
     "ename": "NameError",
     "evalue": "name 'predict_proba' is not defined",
     "output_type": "error",
     "traceback": [
      "\u001b[1;31m---------------------------------------------------------------------------\u001b[0m",
      "\u001b[1;31mNameError\u001b[0m                                 Traceback (most recent call last)",
      "Cell \u001b[1;32mIn[113], line 1\u001b[0m\n\u001b[1;32m----> 1\u001b[0m pd\u001b[39m.\u001b[39mDataFrame(predict_proba)\u001b[39m.\u001b[39mdescribe()\n",
      "\u001b[1;31mNameError\u001b[0m: name 'predict_proba' is not defined"
     ]
    }
   ],
   "source": [
    "pd.DataFrame(predict_proba).describe()"
   ]
  },
  {
   "cell_type": "code",
   "execution_count": null,
   "metadata": {},
   "outputs": [
    {
     "ename": "NameError",
     "evalue": "name 'predict_proba' is not defined",
     "output_type": "error",
     "traceback": [
      "\u001b[1;31m---------------------------------------------------------------------------\u001b[0m",
      "\u001b[1;31mNameError\u001b[0m                                 Traceback (most recent call last)",
      "Cell \u001b[1;32mIn[114], line 3\u001b[0m\n\u001b[0;32m      1\u001b[0m \u001b[39m## letr us set the threshold with normal thershold\u001b[39;00m\n\u001b[1;32m----> 3\u001b[0m pred_round \u001b[39m=\u001b[39m np\u001b[39m.\u001b[39mwhere(predict_proba\u001b[39m<\u001b[39m\u001b[39m=\u001b[39m \u001b[39m0.5\u001b[39m,\u001b[39m0\u001b[39m,\u001b[39m1\u001b[39m)\n",
      "\u001b[1;31mNameError\u001b[0m: name 'predict_proba' is not defined"
     ]
    }
   ],
   "source": [
    "## letr us set the threshold with normal thershold\n",
    "\n",
    "pred_round = np.where(predict_proba<= 0.5,0,1)"
   ]
  },
  {
   "cell_type": "code",
   "execution_count": null,
   "metadata": {},
   "outputs": [],
   "source": [
    "plt.figure(figsize = (4,4))\n",
    "print(classification_report(y_test, pred_round))\n",
    "plt.title('Confusion Matrix of the model')\n",
    "sns.heatmap(confusion_matrix(y_test, pred_round), annot=True, fmt = '.5g')"
   ]
  },
  {
   "cell_type": "markdown",
   "metadata": {},
   "source": [
    "storing the model"
   ]
  },
  {
   "cell_type": "code",
   "execution_count": null,
   "metadata": {},
   "outputs": [],
   "source": [
    "import joblib\n",
    "\n",
    "joblib.dump(xgb, 'model.joblib')\n"
   ]
  }
 ],
 "metadata": {
  "kernelspec": {
   "display_name": ".venv",
   "language": "python",
   "name": "python3"
  },
  "language_info": {
   "codemirror_mode": {
    "name": "ipython",
    "version": 3
   },
   "file_extension": ".py",
   "mimetype": "text/x-python",
   "name": "python",
   "nbconvert_exporter": "python",
   "pygments_lexer": "ipython3",
   "version": "3.11.4"
  },
  "orig_nbformat": 4,
  "vscode": {
   "interpreter": {
    "hash": "05764d22e1c56a44ea0f8c02335180c8e7e6bbc90ef41fcfffdcb8a1d3aab328"
   }
  }
 },
 "nbformat": 4,
 "nbformat_minor": 2
}
