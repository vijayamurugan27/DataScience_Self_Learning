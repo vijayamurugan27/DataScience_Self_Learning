{
 "cells": [
  {
   "cell_type": "markdown",
   "metadata": {},
   "source": [
    "# Time Series\n",
    "\n",
    " 1. Simple moving Average(Excel + Coding)\n",
    " 2. Cumulative Moving Average (Excel + Coding) \n",
    " 3. Exponential Weight Moving Average (Excel + Coding)\n",
    " 4. Moving Average (Formula) --> ACF (MA) - ACF: Auto correlation plot\n",
    " 5. Auto regressive Model  --> PACF (AR)\n",
    "\n",
    " ACF + PACF = ARMA(model) "
   ]
  },
  {
   "cell_type": "code",
   "execution_count": 2,
   "metadata": {},
   "outputs": [],
   "source": [
    "import pandas as pd\n",
    "import pandas_datareader as pdr\n",
    "from datetime import datetime"
   ]
  }
 ],
 "metadata": {
  "kernelspec": {
   "display_name": "Python 3",
   "language": "python",
   "name": "python3"
  },
  "language_info": {
   "codemirror_mode": {
    "name": "ipython",
    "version": 3
   },
   "file_extension": ".py",
   "mimetype": "text/x-python",
   "name": "python",
   "nbconvert_exporter": "python",
   "pygments_lexer": "ipython3",
   "version": "3.11.4"
  },
  "orig_nbformat": 4
 },
 "nbformat": 4,
 "nbformat_minor": 2
}
