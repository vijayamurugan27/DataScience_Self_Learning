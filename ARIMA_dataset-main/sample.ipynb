{
 "cells": [
  {
   "cell_type": "code",
   "execution_count": 38,
   "metadata": {},
   "outputs": [],
   "source": [
    "import os\n",
    "import pandas as pd\n",
    "import numpy as np\n",
    "import matplotlib.pyplot as plt\n"
   ]
  },
  {
   "cell_type": "code",
   "execution_count": 40,
   "metadata": {},
   "outputs": [
    {
     "data": {
      "text/html": [
       "<div>\n",
       "<style scoped>\n",
       "    .dataframe tbody tr th:only-of-type {\n",
       "        vertical-align: middle;\n",
       "    }\n",
       "\n",
       "    .dataframe tbody tr th {\n",
       "        vertical-align: top;\n",
       "    }\n",
       "\n",
       "    .dataframe thead th {\n",
       "        text-align: right;\n",
       "    }\n",
       "</style>\n",
       "<table border=\"1\" class=\"dataframe\">\n",
       "  <thead>\n",
       "    <tr style=\"text-align: right;\">\n",
       "      <th></th>\n",
       "      <th>sales</th>\n",
       "    </tr>\n",
       "    <tr>\n",
       "      <th>Date</th>\n",
       "      <th></th>\n",
       "    </tr>\n",
       "  </thead>\n",
       "  <tbody>\n",
       "    <tr>\n",
       "      <th>2010-01-01</th>\n",
       "      <td>4369</td>\n",
       "    </tr>\n",
       "    <tr>\n",
       "      <th>2010-01-06</th>\n",
       "      <td>1122</td>\n",
       "    </tr>\n",
       "    <tr>\n",
       "      <th>2010-01-07</th>\n",
       "      <td>2557</td>\n",
       "    </tr>\n",
       "    <tr>\n",
       "      <th>2010-01-10</th>\n",
       "      <td>9372</td>\n",
       "    </tr>\n",
       "    <tr>\n",
       "      <th>2010-01-13</th>\n",
       "      <td>2964</td>\n",
       "    </tr>\n",
       "    <tr>\n",
       "      <th>...</th>\n",
       "      <td>...</td>\n",
       "    </tr>\n",
       "    <tr>\n",
       "      <th>2017-07-09</th>\n",
       "      <td>7559</td>\n",
       "    </tr>\n",
       "    <tr>\n",
       "      <th>2017-07-18</th>\n",
       "      <td>5423</td>\n",
       "    </tr>\n",
       "    <tr>\n",
       "      <th>2017-07-23</th>\n",
       "      <td>5530</td>\n",
       "    </tr>\n",
       "    <tr>\n",
       "      <th>2017-07-26</th>\n",
       "      <td>8275</td>\n",
       "    </tr>\n",
       "    <tr>\n",
       "      <th>2017-07-26</th>\n",
       "      <td>9341</td>\n",
       "    </tr>\n",
       "  </tbody>\n",
       "</table>\n",
       "<p>1000 rows × 1 columns</p>\n",
       "</div>"
      ],
      "text/plain": [
       "            sales\n",
       "Date             \n",
       "2010-01-01   4369\n",
       "2010-01-06   1122\n",
       "2010-01-07   2557\n",
       "2010-01-10   9372\n",
       "2010-01-13   2964\n",
       "...           ...\n",
       "2017-07-09   7559\n",
       "2017-07-18   5423\n",
       "2017-07-23   5530\n",
       "2017-07-26   8275\n",
       "2017-07-26   9341\n",
       "\n",
       "[1000 rows x 1 columns]"
      ]
     },
     "execution_count": 40,
     "metadata": {},
     "output_type": "execute_result"
    }
   ],
   "source": [
    "df = pd.read_csv(\"trend2.csv\", parse_dates=['Date'], index_col=['Date'])\n",
    "df"
   ]
  },
  {
   "cell_type": "code",
   "execution_count": 41,
   "metadata": {},
   "outputs": [
    {
     "data": {
      "text/html": [
       "<div>\n",
       "<style scoped>\n",
       "    .dataframe tbody tr th:only-of-type {\n",
       "        vertical-align: middle;\n",
       "    }\n",
       "\n",
       "    .dataframe tbody tr th {\n",
       "        vertical-align: top;\n",
       "    }\n",
       "\n",
       "    .dataframe thead th {\n",
       "        text-align: right;\n",
       "    }\n",
       "</style>\n",
       "<table border=\"1\" class=\"dataframe\">\n",
       "  <thead>\n",
       "    <tr style=\"text-align: right;\">\n",
       "      <th></th>\n",
       "      <th>sales</th>\n",
       "    </tr>\n",
       "  </thead>\n",
       "  <tbody>\n",
       "    <tr>\n",
       "      <th>count</th>\n",
       "      <td>1000.000000</td>\n",
       "    </tr>\n",
       "    <tr>\n",
       "      <th>mean</th>\n",
       "      <td>5053.988000</td>\n",
       "    </tr>\n",
       "    <tr>\n",
       "      <th>std</th>\n",
       "      <td>2901.375317</td>\n",
       "    </tr>\n",
       "    <tr>\n",
       "      <th>min</th>\n",
       "      <td>13.000000</td>\n",
       "    </tr>\n",
       "    <tr>\n",
       "      <th>25%</th>\n",
       "      <td>2420.250000</td>\n",
       "    </tr>\n",
       "    <tr>\n",
       "      <th>50%</th>\n",
       "      <td>5184.000000</td>\n",
       "    </tr>\n",
       "    <tr>\n",
       "      <th>75%</th>\n",
       "      <td>7536.750000</td>\n",
       "    </tr>\n",
       "    <tr>\n",
       "      <th>max</th>\n",
       "      <td>9998.000000</td>\n",
       "    </tr>\n",
       "  </tbody>\n",
       "</table>\n",
       "</div>"
      ],
      "text/plain": [
       "             sales\n",
       "count  1000.000000\n",
       "mean   5053.988000\n",
       "std    2901.375317\n",
       "min      13.000000\n",
       "25%    2420.250000\n",
       "50%    5184.000000\n",
       "75%    7536.750000\n",
       "max    9998.000000"
      ]
     },
     "execution_count": 41,
     "metadata": {},
     "output_type": "execute_result"
    }
   ],
   "source": [
    "df.describe()"
   ]
  },
  {
   "cell_type": "code",
   "execution_count": 42,
   "metadata": {},
   "outputs": [],
   "source": [
    "\n",
    "# Assuming you already have your DataFrame df with the daily sales data\n",
    "\n",
    "# Resample the daily data to get monthly totals\n",
    "monthly_sales_report = df.resample('M').sum()\n",
    "\n"
   ]
  },
  {
   "cell_type": "code",
   "execution_count": 43,
   "metadata": {},
   "outputs": [
    {
     "name": "stdout",
     "output_type": "stream",
     "text": [
      "            sales\n",
      "Date             \n",
      "2010-01-31  48615\n",
      "2010-02-28  70796\n",
      "2010-03-31  44103\n",
      "2010-04-30  55611\n",
      "2010-05-31  57907\n",
      "...           ...\n",
      "2017-03-31  77547\n",
      "2017-04-30  34737\n",
      "2017-05-31  49201\n",
      "2017-06-30  40293\n",
      "2017-07-31  54436\n",
      "\n",
      "[91 rows x 1 columns]\n"
     ]
    }
   ],
   "source": [
    "# Display or export the monthly sales report\n",
    "print(monthly_sales_report)\n",
    "\n",
    "# If you want to export it to a CSV file\n",
    "# monthly_sales_report.to_csv('monthly_sales_report.csv')\n"
   ]
  },
  {
   "cell_type": "code",
   "execution_count": 45,
   "metadata": {},
   "outputs": [
    {
     "data": {
      "text/plain": [
       "<Axes: xlabel='Date'>"
      ]
     },
     "execution_count": 45,
     "metadata": {},
     "output_type": "execute_result"
    },
    {
     "data": {
      "image/png": "[encoded data removed]",
      "text/plain": [
       "<Figure size 640x480 with 1 Axes>"
      ]
     },
     "metadata": {},
     "output_type": "display_data"
    }
   ],
   "source": [
    "monthly_sales_report.plot()"
   ]
  },
  {
   "cell_type": "markdown",
   "metadata": {},
   "source": [
    "import statsmodels.api as sm\n",
    "\n",
    "# Sample data (replace with your own time series data)\n",
    "data = [10, 12, 14, 16, 18, 20, 22, 24, 26, 28]\n",
    "\n",
    "# Create an ARIMA(1, 1, 1) model\n",
    "p = 1\n",
    "d = 1\n",
    "q = 1\n",
    "arima_model = sm.tsa.ARIMA(data, order=(p, d, q))\n",
    "\n",
    "# Fit the model\n",
    "arima_results = arima_model.fit()\n",
    "\n",
    "# Inspect model results\n",
    "print(arima_results.summary())\n"
   ]
  },
  {
   "cell_type": "markdown",
   "metadata": {},
   "source": []
  },
  {
   "cell_type": "code",
   "execution_count": 46,
   "metadata": {},
   "outputs": [
    {
     "name": "stderr",
     "output_type": "stream",
     "text": [
      "c:\\Users\\VIJAY\\AppData\\Local\\Programs\\Python\\Python311\\Lib\\site-packages\\statsmodels\\tsa\\statespace\\sarimax.py:966: UserWarning: Non-stationary starting autoregressive parameters found. Using zeros as starting parameters.\n",
      "  warn('Non-stationary starting autoregressive parameters'\n"
     ]
    },
    {
     "name": "stdout",
     "output_type": "stream",
     "text": [
      "                               SARIMAX Results                                \n",
      "==============================================================================\n",
      "Dep. Variable:                      y   No. Observations:                   10\n",
      "Model:                 ARIMA(1, 1, 1)   Log Likelihood                  36.913\n",
      "Date:                Sun, 17 Sep 2023   AIC                            -67.826\n",
      "Time:                        18:31:47   BIC                            -67.235\n",
      "Sample:                             0   HQIC                           -69.103\n",
      "                                 - 10                                         \n",
      "Covariance Type:                  opg                                         \n",
      "==============================================================================\n",
      "                 coef    std err          z      P>|z|      [0.025      0.975]\n",
      "------------------------------------------------------------------------------\n",
      "ar.L1          1.0000   1.14e-05   8.74e+04      0.000       1.000       1.000\n",
      "ma.L1          0.9993   7.74e-12   1.29e+11      0.000       0.999       0.999\n",
      "sigma2      3.384e-06   2.39e-06      1.414      0.157   -1.31e-06    8.07e-06\n",
      "===================================================================================\n",
      "Ljung-Box (L1) (Q):                   0.00   Jarque-Bera (JB):                15.57\n",
      "Prob(Q):                              0.96   Prob(JB):                         0.00\n",
      "Heteroskedasticity (H):               0.00   Skew:                             2.47\n",
      "Prob(H) (two-sided):                  0.00   Kurtosis:                         7.12\n",
      "===================================================================================\n",
      "\n",
      "Warnings:\n",
      "[1] Covariance matrix calculated using the outer product of gradients (complex-step).\n",
      "[2] Covariance matrix is singular or near-singular, with condition number 4.52e+23. Standard errors may be unstable.\n"
     ]
    },
    {
     "name": "stderr",
     "output_type": "stream",
     "text": [
      "c:\\Users\\VIJAY\\AppData\\Local\\Programs\\Python\\Python311\\Lib\\site-packages\\statsmodels\\base\\model.py:607: ConvergenceWarning: Maximum Likelihood optimization failed to converge. Check mle_retvals\n",
      "  warnings.warn(\"Maximum Likelihood optimization failed to \"\n"
     ]
    }
   ],
   "source": [
    "import statsmodels.api as sm\n",
    "\n",
    "# Sample data (replace with your own time series data)\n",
    "data = [10, 12, 14, 16, 18, 20, 22, 24, 26, 28]\n",
    "\n",
    "# Create an ARIMA(1, 1, 1) model\n",
    "p = 1\n",
    "d = 1\n",
    "q = 1\n",
    "arima_model = sm.tsa.ARIMA(data, order=(p, d, q))\n",
    "\n",
    "# Fit the model\n",
    "arima_results = arima_model.fit()\n",
    "\n",
    "# Inspect model results\n",
    "print(arima_results.summary())\n"
   ]
  },
  {
   "cell_type": "code",
   "execution_count": 47,
   "metadata": {},
   "outputs": [
    {
     "name": "stderr",
     "output_type": "stream",
     "text": [
      "c:\\Users\\VIJAY\\AppData\\Local\\Programs\\Python\\Python311\\Lib\\site-packages\\statsmodels\\tsa\\statespace\\sarimax.py:966: UserWarning: Non-stationary starting autoregressive parameters found. Using zeros as starting parameters.\n",
      "  warn('Non-stationary starting autoregressive parameters'\n"
     ]
    },
    {
     "name": "stdout",
     "output_type": "stream",
     "text": [
      "                               SARIMAX Results                                \n",
      "==============================================================================\n",
      "Dep. Variable:                      y   No. Observations:                   10\n",
      "Model:                 ARIMA(2, 0, 1)   Log Likelihood                  32.179\n",
      "Date:                Sun, 17 Sep 2023   AIC                            -54.358\n",
      "Time:                        19:54:26   BIC                            -52.845\n",
      "Sample:                             0   HQIC                           -56.017\n",
      "                                 - 10                                         \n",
      "Covariance Type:                  opg                                         \n",
      "==============================================================================\n",
      "                 coef    std err          z      P>|z|      [0.025      0.975]\n",
      "------------------------------------------------------------------------------\n",
      "const         18.9999   3.01e-14   6.31e+14      0.000      19.000      19.000\n",
      "ar.L1          2.0000      2e-05      1e+05      0.000       2.000       2.000\n",
      "ar.L2         -1.0000   6.75e-06  -1.48e+05      0.000      -1.000      -1.000\n",
      "ma.L1          1.0000   9.31e-12   1.07e+11      0.000       1.000       1.000\n",
      "sigma2       3.63e-06   2.57e-06      1.414      0.157    -1.4e-06    8.66e-06\n",
      "===================================================================================\n",
      "Ljung-Box (L1) (Q):                   0.31   Jarque-Bera (JB):                22.65\n",
      "Prob(Q):                              0.58   Prob(JB):                         0.00\n",
      "Heteroskedasticity (H):               0.00   Skew:                             2.66\n",
      "Prob(H) (two-sided):                  0.00   Kurtosis:                         8.10\n",
      "===================================================================================\n",
      "\n",
      "Warnings:\n",
      "[1] Covariance matrix calculated using the outer product of gradients (complex-step).\n",
      "[2] Covariance matrix is singular or near-singular, with condition number 4.42e+30. Standard errors may be unstable.\n"
     ]
    },
    {
     "name": "stderr",
     "output_type": "stream",
     "text": [
      "c:\\Users\\VIJAY\\AppData\\Local\\Programs\\Python\\Python311\\Lib\\site-packages\\statsmodels\\base\\model.py:607: ConvergenceWarning: Maximum Likelihood optimization failed to converge. Check mle_retvals\n",
      "  warnings.warn(\"Maximum Likelihood optimization failed to \"\n"
     ]
    }
   ],
   "source": [
    "import statsmodels.api as sm\n",
    "import pmdarima as pm\n",
    "\n",
    "# Generate some example time series data\n",
    "# Replace this with your own time series data\n",
    "data = [10, 12, 14, 16, 18, 20, 22, 24, 26, 28]\n",
    "\n",
    "# Use pmdarima to automatically select the best ARIMA order\n",
    "model_order = pm.auto_arima(data, seasonal=False, stepwise=True, suppress_warnings=True)\n",
    "order = model_order.order  # Get the selected order\n",
    "\n",
    "# Fit an ARIMA model using statsmodels with the selected order\n",
    "arima_model = sm.tsa.ARIMA(data, order=order)\n",
    "arima_results = arima_model.fit()\n",
    "\n",
    "# Print a summary of the ARIMA model\n",
    "print(arima_results.summary())\n"
   ]
  }
 ],
 "metadata": {
  "kernelspec": {
   "display_name": "Python 3",
   "language": "python",
   "name": "python3"
  },
  "language_info": {
   "codemirror_mode": {
    "name": "ipython",
    "version": 3
   },
   "file_extension": ".py",
   "mimetype": "text/x-python",
   "name": "python",
   "nbconvert_exporter": "python",
   "pygments_lexer": "ipython3",
   "version": "3.11.4"
  },
  "orig_nbformat": 4
 },
 "nbformat": 4,
 "nbformat_minor": 2
}
